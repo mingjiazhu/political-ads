{
 "cells": [
  {
   "cell_type": "markdown",
   "metadata": {},
   "source": [
    "# Snapchat Political Ads\n",
    "* **See the main project notebook for instructions to be sure you satisfy the rubric!**\n",
    "* See Project 03 for information on the dataset.\n",
    "* A few example prediction questions to pursue are listed below. However, don't limit yourself to them!\n",
    "    * Predict the reach (number of views) of an ad.\n",
    "    * Predict how much was spent on an ad.\n",
    "    * Predict the target group of an ad. (For example, predict the target gender.)\n",
    "    * Predict the (type of) organization/advertiser behind an ad.\n",
    "\n",
    "Be careful to justify what information you would know at the \"time of prediction\" and train your model using only those features."
   ]
  },
  {
   "cell_type": "markdown",
   "metadata": {},
   "source": [
    "# Summary of Findings\n",
    "\n",
    "\n",
    "### Introduction\n",
    "In this project, we continue the research problems in project 3, but this time, we focus on prediction problem. At here, we try to predict how much was spent on an advertisement. We would like to utilize different features in the dataframe such as **Impressions**, **OrganizationName**, and **PayingAdvertiserName**. By combining these different features, we would like to build regression models in the project, so the problem is regression problem. The target variable is **Spend**. We try to utilize different features in the dataframe to predict the spend of advertisements. For the baseline model, we consider the spend might be related to **Impressions**, **OrganizationName**, and **PayingAdvertiserName**. In the final model, we add more information by engineering features such as **StartDate** and **CountryCode**. \n",
    "\n",
    "Our evaluation metric that is used for two models is mean absolute error. It could help us to clearly see the differences between predictions and actual values. By comparing the mean absolute errors of different models, we could figure out the best model which generates the perdictions that are closest to actual values.\n",
    "\n",
    "\n",
    "### Baseline Model\n",
    "For the baseline model, we choose three features in the dataset: **Impressions** (quantitative), **OrganizationName** (nominal), and **PayingAdvertiserName** (nominal). We think these features are closely related to the spend of ads. The spends may influence the popularity of ads, which could be reflected by the data of impressions. Also, the organizations and advertisers that posted the ads may impact the spends, since different organizations and individuals spend different amount of money on ads.\n",
    "\n",
    "In this part, we make four predictions. For the first three predictions, we use **Impressions**, **OrganizationName**, and **PayingAdvertiserName** separately to predict spends. We measure the performance by mean absolute error. It turns out that the mean absolute errors of these three predictions were large. Then we use all of the three features above to make the prediction. The performance improve, but still unsatisfactory. Therefore, we think that our model is not good. The features we used are one-sided, because we fail to comprehensively include the influencing factors, such as information about countries and dates.\n",
    "\n",
    "### Final Model\n",
    "In the model, we add **Currency Code**, **StartDate**, **Gender**, **CountryCode**, and **AgeBracket** as new features we utilized and also the combination of these features. For **StartDate**, we utilized feature engineering to extract only year and month from regular StartDate. For **CountryCode**, we utilized feature engineering to classify different countries into different continents, which become easier for us to perform OneHotEncoding. For **AgeBracket**, we utilized feature engineering to caculcate the minimum age of AgeBracket. So far we have not known whether these features are helpful or not. we think these four features are good for data for many reasons. For **Currency Code**, we think the spends has relationship with it since different currency represents different country and we could predict the spends according to the richness of one country. Same mechanism of Currency code works in **CountryCode**. For the **StartDate**, we think different month and year could influence the money that organization spend. For **Gender**, we think the spent money could correlated with gender. \n",
    "\n",
    "The final model is a regression model to predict the spends on ads. In order to figure out the best features, we try five different combinations of features for predictions. First, we utilize the combination of **Impressions**, **OrganizationName**, **PayingAdvertiserName**, and **Currency Code**. The result shows that the currency code feature improves the performace and leads to smaller mean absolute error than the prediction in our baseline model. Same thing happens when we try to use **StartDate** and **CountryCode** -- they could improve the model. However, when we try to use **Gender**, we find out that this feature actually make the model become worse. The mean absolute error is larger than that of baseline model. Therefore, we could conclude that **Gender** is bad for the model and prediciton. Then, same things happens on **AgeBracket** -- it is bad for the model. Last, we combine features that could improve our model -- **Impressions**, **OrganizationName**, **PayingAdvertiserName**, **Currency Code**, **StartDate**, and **CountryCode**. As a result, the combination of these features has the lowest mean absolute error, which is the best for our model.\n",
    "\n",
    "\n",
    "\n",
    "### Fairness Evaluation\n",
    "For this part, we evaluate the fairness of our model by a permutation test. First, we split the data into two groups based on the data in **Impressions**. After getting the median of impressions, we decide to use 75000 as a dividing point. If an ad has more than 75000 impressions, then it belongs to \"large\" group; otherwise, it belongs to \"small\" group. We want to figure out whether the distributions of the r2-scores are similar for large and small groups. The r2-score could help us to determine the prediction that is closest to the actual value.\n",
    "\n",
    "**Null Hypothesis**: The distributions of r2-scores for large and small groups are similar. <br>\n",
    "**Alternative Hypothesis**: No, the distributions of r2-scores for large and small groups are not similar. <br>\n",
    "The significant level is 0.05.\n",
    "\n",
    "Our p-value is around 0.35. Therefore, we cannot reject the null hypothesis. The distributions of r2-scores for large and small groups are similar."
   ]
  },
  {
   "cell_type": "markdown",
   "metadata": {},
   "source": [
    "# Code"
   ]
  },
  {
   "cell_type": "code",
   "execution_count": 1,
   "metadata": {},
   "outputs": [],
   "source": [
    "import matplotlib.pyplot as plt\n",
    "import numpy as np\n",
    "import os\n",
    "import pandas as pd\n",
    "import seaborn as sns\n",
    "%matplotlib inline\n",
    "%config InlineBackend.figure_format = 'retina'  # Higher resolution figures"
   ]
  },
  {
   "cell_type": "code",
   "execution_count": 2,
   "metadata": {},
   "outputs": [],
   "source": [
    "from sklearn.linear_model import LinearRegression\n",
    "from sklearn.metrics import mean_absolute_error\n",
    "from sklearn.preprocessing import FunctionTransformer\n",
    "from sklearn.preprocessing import OneHotEncoder\n",
    "from sklearn.pipeline import Pipeline\n",
    "from sklearn.compose import ColumnTransformer\n",
    "import sklearn.preprocessing as pp\n",
    "import sklearn.tree as tr\n",
    "import sklearn.ensemble as es"
   ]
  },
  {
   "cell_type": "code",
   "execution_count": 3,
   "metadata": {},
   "outputs": [],
   "source": [
    "from sklearn.model_selection import train_test_split\n",
    "from sklearn.neighbors import KNeighborsRegressor\n",
    "from sklearn.model_selection import cross_val_score\n",
    "from sklearn import metrics\n",
    "from sklearn.metrics import mean_absolute_error"
   ]
  },
  {
   "cell_type": "code",
   "execution_count": 4,
   "metadata": {},
   "outputs": [
    {
     "data": {
      "text/html": [
       "<div>\n",
       "<style scoped>\n",
       "    .dataframe tbody tr th:only-of-type {\n",
       "        vertical-align: middle;\n",
       "    }\n",
       "\n",
       "    .dataframe tbody tr th {\n",
       "        vertical-align: top;\n",
       "    }\n",
       "\n",
       "    .dataframe thead th {\n",
       "        text-align: right;\n",
       "    }\n",
       "</style>\n",
       "<table border=\"1\" class=\"dataframe\">\n",
       "  <thead>\n",
       "    <tr style=\"text-align: right;\">\n",
       "      <th></th>\n",
       "      <th>ADID</th>\n",
       "      <th>CreativeUrl</th>\n",
       "      <th>Currency Code</th>\n",
       "      <th>Spend</th>\n",
       "      <th>Impressions</th>\n",
       "      <th>StartDate</th>\n",
       "      <th>EndDate</th>\n",
       "      <th>OrganizationName</th>\n",
       "      <th>BillingAddress</th>\n",
       "      <th>CandidateBallotInformation</th>\n",
       "      <th>...</th>\n",
       "      <th>Location Categories (Included)</th>\n",
       "      <th>Location Categories (Excluded)</th>\n",
       "      <th>Interests</th>\n",
       "      <th>OsType</th>\n",
       "      <th>Segments</th>\n",
       "      <th>Language</th>\n",
       "      <th>AdvancedDemographics</th>\n",
       "      <th>Targeting Connection Type</th>\n",
       "      <th>Targeting Carrier (ISP)</th>\n",
       "      <th>CreativeProperties</th>\n",
       "    </tr>\n",
       "  </thead>\n",
       "  <tbody>\n",
       "    <tr>\n",
       "      <th>0</th>\n",
       "      <td>6bf6eca7297551f35a5d17b478cedb6683a75c2f9b9b00...</td>\n",
       "      <td>https://www.snap.com/political-ads/asset/27e1c...</td>\n",
       "      <td>USD</td>\n",
       "      <td>4361</td>\n",
       "      <td>397340</td>\n",
       "      <td>2018-10-18 15:45:57+00:00</td>\n",
       "      <td>2018-11-06 23:00:00+00:00</td>\n",
       "      <td>Bully Pulpit Interactive</td>\n",
       "      <td>1445 New York Ave NW,Washington,20005,US</td>\n",
       "      <td>NaN</td>\n",
       "      <td>...</td>\n",
       "      <td>NaN</td>\n",
       "      <td>NaN</td>\n",
       "      <td>NaN</td>\n",
       "      <td>NaN</td>\n",
       "      <td>NaN</td>\n",
       "      <td>NaN</td>\n",
       "      <td>NaN</td>\n",
       "      <td>NaN</td>\n",
       "      <td>NaN</td>\n",
       "      <td>NaN</td>\n",
       "    </tr>\n",
       "    <tr>\n",
       "      <th>1</th>\n",
       "      <td>a801fccc059ac401a54ae3bf309f3b2a22c35df0392666...</td>\n",
       "      <td>https://www.snap.com/political-ads/asset/e1b1d...</td>\n",
       "      <td>USD</td>\n",
       "      <td>11</td>\n",
       "      <td>3309</td>\n",
       "      <td>2018-09-25 05:00:00+00:00</td>\n",
       "      <td>2018-09-26 05:00:00+00:00</td>\n",
       "      <td>ACRONYM</td>\n",
       "      <td>US</td>\n",
       "      <td>NaN</td>\n",
       "      <td>...</td>\n",
       "      <td>NaN</td>\n",
       "      <td>NaN</td>\n",
       "      <td>Cordcutters,Yoga Enthusiasts,Vegans &amp; Organic ...</td>\n",
       "      <td>NaN</td>\n",
       "      <td>Provided by Advertiser</td>\n",
       "      <td>NaN</td>\n",
       "      <td>NaN</td>\n",
       "      <td>NaN</td>\n",
       "      <td>NaN</td>\n",
       "      <td>web_view_url:https://ourlivesourvote.com/regis...</td>\n",
       "    </tr>\n",
       "    <tr>\n",
       "      <th>2</th>\n",
       "      <td>a19bd9f5379e7affc4586d26537346142cc3a8a487b3a3...</td>\n",
       "      <td>https://www.snap.com/political-ads/asset/75251...</td>\n",
       "      <td>USD</td>\n",
       "      <td>205</td>\n",
       "      <td>31789</td>\n",
       "      <td>2018-10-30 17:58:01+00:00</td>\n",
       "      <td>2018-11-06 22:59:59+00:00</td>\n",
       "      <td>Mothership Strategies</td>\n",
       "      <td>1328 Florida Avenue NW, Building C, Washington...</td>\n",
       "      <td>NaN</td>\n",
       "      <td>...</td>\n",
       "      <td>NaN</td>\n",
       "      <td>NaN</td>\n",
       "      <td>NaN</td>\n",
       "      <td>NaN</td>\n",
       "      <td>NaN</td>\n",
       "      <td>NaN</td>\n",
       "      <td>NaN</td>\n",
       "      <td>NaN</td>\n",
       "      <td>NaN</td>\n",
       "      <td>web_view_url:http://votingmatters.org/</td>\n",
       "    </tr>\n",
       "    <tr>\n",
       "      <th>3</th>\n",
       "      <td>b30c9d008f67f84a14dbb79166f4f1da04d27bea85b3e4...</td>\n",
       "      <td>https://www.snap.com/political-ads/asset/60ab9...</td>\n",
       "      <td>USD</td>\n",
       "      <td>203</td>\n",
       "      <td>94877</td>\n",
       "      <td>2018-09-28 20:33:08+00:00</td>\n",
       "      <td>NaT</td>\n",
       "      <td>Chong and Koster</td>\n",
       "      <td>1640 Rhode Island Ave. NW, Suite 600,Washingto...</td>\n",
       "      <td>NaN</td>\n",
       "      <td>...</td>\n",
       "      <td>NaN</td>\n",
       "      <td>NaN</td>\n",
       "      <td>NaN</td>\n",
       "      <td>NaN</td>\n",
       "      <td>NaN</td>\n",
       "      <td>en</td>\n",
       "      <td>NaN</td>\n",
       "      <td>NaN</td>\n",
       "      <td>NaN</td>\n",
       "      <td>web_view_url:https://act.everytown.org/sign/di...</td>\n",
       "    </tr>\n",
       "    <tr>\n",
       "      <th>4</th>\n",
       "      <td>dfb3bfcd72700889fd7f579bdae86a6c11f2efdede5d78...</td>\n",
       "      <td>https://www.snap.com/political-ads/asset/a72b6...</td>\n",
       "      <td>USD</td>\n",
       "      <td>558</td>\n",
       "      <td>228469</td>\n",
       "      <td>2018-10-09 15:51:44+00:00</td>\n",
       "      <td>2018-11-07 03:00:00+00:00</td>\n",
       "      <td>Penna Powers</td>\n",
       "      <td>1706 s major street,salt lake city,84115,US</td>\n",
       "      <td>NaN</td>\n",
       "      <td>...</td>\n",
       "      <td>NaN</td>\n",
       "      <td>NaN</td>\n",
       "      <td>NaN</td>\n",
       "      <td>NaN</td>\n",
       "      <td>Provided by Advertiser</td>\n",
       "      <td>NaN</td>\n",
       "      <td>NaN</td>\n",
       "      <td>NaN</td>\n",
       "      <td>NaN</td>\n",
       "      <td>NaN</td>\n",
       "    </tr>\n",
       "  </tbody>\n",
       "</table>\n",
       "<p>5 rows × 34 columns</p>\n",
       "</div>"
      ],
      "text/plain": [
       "                                                ADID  \\\n",
       "0  6bf6eca7297551f35a5d17b478cedb6683a75c2f9b9b00...   \n",
       "1  a801fccc059ac401a54ae3bf309f3b2a22c35df0392666...   \n",
       "2  a19bd9f5379e7affc4586d26537346142cc3a8a487b3a3...   \n",
       "3  b30c9d008f67f84a14dbb79166f4f1da04d27bea85b3e4...   \n",
       "4  dfb3bfcd72700889fd7f579bdae86a6c11f2efdede5d78...   \n",
       "\n",
       "                                         CreativeUrl Currency Code  Spend  \\\n",
       "0  https://www.snap.com/political-ads/asset/27e1c...           USD   4361   \n",
       "1  https://www.snap.com/political-ads/asset/e1b1d...           USD     11   \n",
       "2  https://www.snap.com/political-ads/asset/75251...           USD    205   \n",
       "3  https://www.snap.com/political-ads/asset/60ab9...           USD    203   \n",
       "4  https://www.snap.com/political-ads/asset/a72b6...           USD    558   \n",
       "\n",
       "   Impressions                 StartDate                   EndDate  \\\n",
       "0       397340 2018-10-18 15:45:57+00:00 2018-11-06 23:00:00+00:00   \n",
       "1         3309 2018-09-25 05:00:00+00:00 2018-09-26 05:00:00+00:00   \n",
       "2        31789 2018-10-30 17:58:01+00:00 2018-11-06 22:59:59+00:00   \n",
       "3        94877 2018-09-28 20:33:08+00:00                       NaT   \n",
       "4       228469 2018-10-09 15:51:44+00:00 2018-11-07 03:00:00+00:00   \n",
       "\n",
       "           OrganizationName  \\\n",
       "0  Bully Pulpit Interactive   \n",
       "1                   ACRONYM   \n",
       "2     Mothership Strategies   \n",
       "3          Chong and Koster   \n",
       "4             Penna Powers    \n",
       "\n",
       "                                      BillingAddress  \\\n",
       "0           1445 New York Ave NW,Washington,20005,US   \n",
       "1                                                 US   \n",
       "2  1328 Florida Avenue NW, Building C, Washington...   \n",
       "3  1640 Rhode Island Ave. NW, Suite 600,Washingto...   \n",
       "4        1706 s major street,salt lake city,84115,US   \n",
       "\n",
       "  CandidateBallotInformation  ... Location Categories (Included)  \\\n",
       "0                        NaN  ...                            NaN   \n",
       "1                        NaN  ...                            NaN   \n",
       "2                        NaN  ...                            NaN   \n",
       "3                        NaN  ...                            NaN   \n",
       "4                        NaN  ...                            NaN   \n",
       "\n",
       "  Location Categories (Excluded)  \\\n",
       "0                            NaN   \n",
       "1                            NaN   \n",
       "2                            NaN   \n",
       "3                            NaN   \n",
       "4                            NaN   \n",
       "\n",
       "                                           Interests OsType  \\\n",
       "0                                                NaN    NaN   \n",
       "1  Cordcutters,Yoga Enthusiasts,Vegans & Organic ...    NaN   \n",
       "2                                                NaN    NaN   \n",
       "3                                                NaN    NaN   \n",
       "4                                                NaN    NaN   \n",
       "\n",
       "                 Segments Language AdvancedDemographics  \\\n",
       "0                     NaN      NaN                  NaN   \n",
       "1  Provided by Advertiser      NaN                  NaN   \n",
       "2                     NaN      NaN                  NaN   \n",
       "3                     NaN       en                  NaN   \n",
       "4  Provided by Advertiser      NaN                  NaN   \n",
       "\n",
       "   Targeting Connection Type Targeting Carrier (ISP)  \\\n",
       "0                        NaN                     NaN   \n",
       "1                        NaN                     NaN   \n",
       "2                        NaN                     NaN   \n",
       "3                        NaN                     NaN   \n",
       "4                        NaN                     NaN   \n",
       "\n",
       "                                  CreativeProperties  \n",
       "0                                                NaN  \n",
       "1  web_view_url:https://ourlivesourvote.com/regis...  \n",
       "2             web_view_url:http://votingmatters.org/  \n",
       "3  web_view_url:https://act.everytown.org/sign/di...  \n",
       "4                                                NaN  \n",
       "\n",
       "[5 rows x 34 columns]"
      ]
     },
     "execution_count": 4,
     "metadata": {},
     "output_type": "execute_result"
    }
   ],
   "source": [
    "# Combine and clean the data\n",
    "infro2 = os.path.join('data', 'PoliticalAds_2019.csv')\n",
    "df2 = pd.read_csv(infro2)\n",
    "infro1 = os.path.join('data','PoliticalAds_2018.csv')\n",
    "df1 = pd.read_csv(infro1)\n",
    "combined_data = pd.concat([df1,df2],axis = 0).reset_index(drop = True)\n",
    "combined_data['StartDate'] = pd.to_datetime(combined_data['StartDate'])\n",
    "combined_data['EndDate'] = pd.to_datetime(combined_data['EndDate'])\n",
    "combined_data.head()"
   ]
  },
  {
   "cell_type": "markdown",
   "metadata": {},
   "source": [
    "### Baseline Model"
   ]
  },
  {
   "cell_type": "code",
   "execution_count": 392,
   "metadata": {},
   "outputs": [],
   "source": [
    "# Extract useful columns\n",
    "cleaned_data = combined_data[['Spend', 'Impressions', 'OrganizationName', 'PayingAdvertiserName']]"
   ]
  },
  {
   "cell_type": "code",
   "execution_count": 393,
   "metadata": {},
   "outputs": [],
   "source": [
    "# Regressor of Impressions and Spend\n",
    "lr = es.RandomForestRegressor()\n",
    "\n",
    "# Train-test split and fit\n",
    "X = cleaned_data[['Impressions']]\n",
    "y = cleaned_data.Spend\n",
    "X_train, X_test, y_train, y_test = train_test_split(X, y, test_size=0.25)\n",
    "f = lr.fit(X_train, y_train)"
   ]
  },
  {
   "cell_type": "code",
   "execution_count": 394,
   "metadata": {},
   "outputs": [
    {
     "data": {
      "text/plain": [
       "353.5689988061767"
      ]
     },
     "execution_count": 394,
     "metadata": {},
     "output_type": "execute_result"
    }
   ],
   "source": [
    "# Mean absolute error for train data\n",
    "pred = lr.predict(X_train)\n",
    "scr = mean_absolute_error(y_train, pred)\n",
    "scr"
   ]
  },
  {
   "cell_type": "code",
   "execution_count": 395,
   "metadata": {},
   "outputs": [
    {
     "data": {
      "text/plain": [
       "1437.5386875976255"
      ]
     },
     "execution_count": 395,
     "metadata": {},
     "output_type": "execute_result"
    }
   ],
   "source": [
    "# Mean absolute error for test data\n",
    "pred_test = lr.predict(X_test)\n",
    "scr_test = mean_absolute_error(y_test, pred_test)\n",
    "scr_test"
   ]
  },
  {
   "cell_type": "code",
   "execution_count": 396,
   "metadata": {},
   "outputs": [
    {
     "data": {
      "image/png": "[encoded data removed]",
      "text/plain": [
       "<Figure size 432x288 with 1 Axes>"
      ]
     },
     "metadata": {
      "image/png": {
       "height": 248,
       "width": 400
      },
      "needs_background": "light"
     },
     "output_type": "display_data"
    }
   ],
   "source": [
    "# The scatter plot that shows the relationship between prediction and actual value\n",
    "plt.scatter(pred_test, y_test)\n",
    "plt.show()"
   ]
  },
  {
   "cell_type": "code",
   "execution_count": 10,
   "metadata": {},
   "outputs": [],
   "source": [
    "# Regressor of OrganizationName and Spend\n",
    "org_feat = Pipeline(steps=[('org', OneHotEncoder(handle_unknown = 'ignore'))])\n",
    "pl = Pipeline(steps=[('preprocessor', org_feat), ('regressor', es.RandomForestRegressor())])"
   ]
  },
  {
   "cell_type": "code",
   "execution_count": 11,
   "metadata": {},
   "outputs": [],
   "source": [
    "# Train-test split and fit\n",
    "X = cleaned_data[['OrganizationName']]\n",
    "y = cleaned_data.Spend\n",
    "X_train, X_test, y_train, y_test = train_test_split(X, y, test_size=0.25)\n",
    "f = pl.fit(X_train, y_train)"
   ]
  },
  {
   "cell_type": "code",
   "execution_count": 12,
   "metadata": {},
   "outputs": [
    {
     "data": {
      "text/plain": [
       "1286.5853183816503"
      ]
     },
     "execution_count": 12,
     "metadata": {},
     "output_type": "execute_result"
    }
   ],
   "source": [
    "# Mean absolute error for train data\n",
    "pred = pl.predict(X_train)\n",
    "scr = mean_absolute_error(y_train, pred)\n",
    "scr"
   ]
  },
  {
   "cell_type": "code",
   "execution_count": 13,
   "metadata": {},
   "outputs": [
    {
     "data": {
      "text/plain": [
       "1294.040894962207"
      ]
     },
     "execution_count": 13,
     "metadata": {},
     "output_type": "execute_result"
    }
   ],
   "source": [
    "# Mean absolute error for test data\n",
    "pred_test = pl.predict(X_test)\n",
    "scr_test = mean_absolute_error(y_test, pred_test)\n",
    "scr_test"
   ]
  },
  {
   "cell_type": "code",
   "execution_count": 14,
   "metadata": {},
   "outputs": [
    {
     "data": {
      "image/png": "[encoded data removed]",
      "text/plain": [
       "<Figure size 432x288 with 1 Axes>"
      ]
     },
     "metadata": {
      "image/png": {
       "height": 251,
       "width": 394
      },
      "needs_background": "light"
     },
     "output_type": "display_data"
    }
   ],
   "source": [
    "# The scatter plot that shows the relationship between prediction and actual value\n",
    "plt.scatter(pred_test, y_test)\n",
    "plt.show()"
   ]
  },
  {
   "cell_type": "code",
   "execution_count": 15,
   "metadata": {},
   "outputs": [],
   "source": [
    "# Regressor of PayingAdvertiserName and Spend\n",
    "adv_feat = Pipeline(steps=[('adv', OneHotEncoder(handle_unknown = 'ignore'))])\n",
    "pl = Pipeline(steps=[('preprocessor', adv_feat), ('regressor', es.RandomForestRegressor())])"
   ]
  },
  {
   "cell_type": "code",
   "execution_count": 16,
   "metadata": {},
   "outputs": [],
   "source": [
    "# Train-test split and fit\n",
    "X = cleaned_data[['PayingAdvertiserName']]\n",
    "y = cleaned_data.Spend\n",
    "X_train, X_test, y_train, y_test = train_test_split(X, y, test_size=0.25)\n",
    "f = pl.fit(X_train, y_train)"
   ]
  },
  {
   "cell_type": "code",
   "execution_count": 17,
   "metadata": {},
   "outputs": [
    {
     "data": {
      "text/plain": [
       "1082.028005281689"
      ]
     },
     "execution_count": 17,
     "metadata": {},
     "output_type": "execute_result"
    }
   ],
   "source": [
    "# Mean absolute error for train data\n",
    "pred = pl.predict(X_train)\n",
    "scr = mean_absolute_error(y_train, pred)\n",
    "scr"
   ]
  },
  {
   "cell_type": "code",
   "execution_count": 18,
   "metadata": {},
   "outputs": [
    {
     "data": {
      "text/plain": [
       "1653.890314884845"
      ]
     },
     "execution_count": 18,
     "metadata": {},
     "output_type": "execute_result"
    }
   ],
   "source": [
    "# Mean absolute error for test data\n",
    "pred_test = pl.predict(X_test)\n",
    "scr_test = mean_absolute_error(y_test, pred_test)\n",
    "scr_test"
   ]
  },
  {
   "cell_type": "code",
   "execution_count": 19,
   "metadata": {},
   "outputs": [
    {
     "data": {
      "image/png": "[encoded data removed]",
      "text/plain": [
       "<Figure size 432x288 with 1 Axes>"
      ]
     },
     "metadata": {
      "image/png": {
       "height": 248,
       "width": 394
      },
      "needs_background": "light"
     },
     "output_type": "display_data"
    }
   ],
   "source": [
    "# The scatter plot that shows the relationship between prediction and actual value\n",
    "plt.scatter(pred_test, y_test)\n",
    "plt.show()"
   ]
  },
  {
   "cell_type": "markdown",
   "metadata": {},
   "source": [
    "From the mean absolute errors and scatter plots of the above three predictions, we could see that the errors are pretty large; these are not good predictions."
   ]
  },
  {
   "cell_type": "code",
   "execution_count": 73,
   "metadata": {},
   "outputs": [],
   "source": [
    "# Combination of three features\n",
    "impr = ['Impressions']\n",
    "impr_trans = Pipeline(steps=[('impr-trans', pp.StandardScaler())])\n",
    "org = ['OrganizationName']\n",
    "org_trans = Pipeline(steps=[('org-trans', OneHotEncoder(handle_unknown = 'ignore'))])\n",
    "adver = ['PayingAdvertiserName']\n",
    "adver_trans = Pipeline(steps=[('adver-trans', OneHotEncoder(handle_unknown = 'ignore'))])\n",
    "preproc = ColumnTransformer(transformers=[('impr', impr_trans, impr), ('org', org_trans, org), ('adver', adver_trans, adver)])\n",
    "pl = Pipeline(steps=[('preprocessor', preproc), ('regressor', es.RandomForestRegressor())])"
   ]
  },
  {
   "cell_type": "code",
   "execution_count": 78,
   "metadata": {},
   "outputs": [],
   "source": [
    "# Train-test split and fit\n",
    "X = cleaned_data[['Impressions', 'OrganizationName', 'PayingAdvertiserName']]\n",
    "y = cleaned_data.Spend\n",
    "X_train, X_test, y_train, y_test = train_test_split(X, y, test_size=0.25)\n",
    "f = pl.fit(X_train, y_train)"
   ]
  },
  {
   "cell_type": "code",
   "execution_count": 79,
   "metadata": {},
   "outputs": [
    {
     "data": {
      "text/plain": [
       "286.64308653545766"
      ]
     },
     "execution_count": 79,
     "metadata": {},
     "output_type": "execute_result"
    }
   ],
   "source": [
    "# Mean absolute error for train data\n",
    "pred = pl.predict(X_train)\n",
    "scr = mean_absolute_error(y_train, pred)\n",
    "scr"
   ]
  },
  {
   "cell_type": "code",
   "execution_count": 76,
   "metadata": {},
   "outputs": [
    {
     "data": {
      "text/plain": [
       "900.7425760699781"
      ]
     },
     "execution_count": 76,
     "metadata": {},
     "output_type": "execute_result"
    }
   ],
   "source": [
    "# Mean absolute error for test data\n",
    "pred_test = pl.predict(X_test)\n",
    "scr_test = mean_absolute_error(y_test, pred_test)\n",
    "scr_test"
   ]
  },
  {
   "cell_type": "code",
   "execution_count": 77,
   "metadata": {},
   "outputs": [
    {
     "data": {
      "image/png": "[encoded data removed]",
      "text/plain": [
       "<Figure size 432x288 with 1 Axes>"
      ]
     },
     "metadata": {
      "image/png": {
       "height": 248,
       "width": 403
      },
      "needs_background": "light"
     },
     "output_type": "display_data"
    }
   ],
   "source": [
    "# The scatter plot that shows the relationship between prediction and actual value\n",
    "plt.scatter(pred_test, y_test)\n",
    "plt.show()"
   ]
  },
  {
   "cell_type": "markdown",
   "metadata": {},
   "source": [
    "From the mean absolute errors and scatter plots of the last prediction, we could see that the result improve, but still not satisfactory. The baseline model is not good."
   ]
  },
  {
   "cell_type": "markdown",
   "metadata": {},
   "source": [
    "### Final Model"
   ]
  },
  {
   "cell_type": "markdown",
   "metadata": {},
   "source": [
    "Feature engineering for **StartDate**"
   ]
  },
  {
   "cell_type": "code",
   "execution_count": 80,
   "metadata": {},
   "outputs": [
    {
     "name": "stderr",
     "output_type": "stream",
     "text": [
      "/opt/conda/lib/python3.7/site-packages/pandas/core/arrays/datetimes.py:1269: UserWarning: Converting to PeriodArray/Index representation will drop timezone information.\n",
      "  UserWarning,\n"
     ]
    }
   ],
   "source": [
    "# Convert StartDate to YYYY-MM in order to figure out the impact of the starting year and month of the ads\n",
    "date = combined_data['StartDate'].dt.to_period('M')\n",
    "combined_data['Start_year_and_month'] = date"
   ]
  },
  {
   "cell_type": "markdown",
   "metadata": {},
   "source": [
    "Feature engineering for **CountryCode**"
   ]
  },
  {
   "cell_type": "code",
   "execution_count": 81,
   "metadata": {},
   "outputs": [],
   "source": [
    "north_america = ['united states', 'canada']\n",
    "south_america = ['chile', 'argentina', 'brazil', 'puerto rico']\n",
    "europe = ['united kingdom', 'denmark', 'sweden', 'netherlands', 'norway', 'ireland', 'switzerland', 'france', 'belgium', 'finland', 'austria', 'poland', 'lithuania','germany']\n",
    "africa = ['nigeria', 'south africa']\n",
    "oceania_australia = ['australia', 'new zealand']\n",
    "asia = ['iraq', 'kuwait', 'united arab emirates', 'india', 'turkey']"
   ]
  },
  {
   "cell_type": "code",
   "execution_count": 82,
   "metadata": {},
   "outputs": [],
   "source": [
    "# Replace the country names with the continents they belong to\n",
    "def get_conti(c):\n",
    "    if c in asia:\n",
    "        return \"Asia\"\n",
    "    elif c in europe:\n",
    "        return \"Europe\"\n",
    "    elif c in africa:\n",
    "        return \"Africa\"\n",
    "    elif c in oceania_australia:\n",
    "        return \"Oceania/Australia\"\n",
    "    elif c in north_america:\n",
    "        return \"North America\"\n",
    "    elif c in south_america:\n",
    "        return \"South America\""
   ]
  },
  {
   "cell_type": "code",
   "execution_count": 83,
   "metadata": {},
   "outputs": [],
   "source": [
    "# Insert the result into combined_data\n",
    "combined_data['Continent'] = combined_data['CountryCode'].apply(lambda x: get_conti(x))"
   ]
  },
  {
   "cell_type": "markdown",
   "metadata": {},
   "source": [
    "Feature engineering for **AgeBracket**"
   ]
  },
  {
   "cell_type": "code",
   "execution_count": 84,
   "metadata": {},
   "outputs": [],
   "source": [
    "# extract \"AgeBrack\" column from combined_data\n",
    "ages = combined_data['AgeBracket']\n",
    "\n",
    "# define a helper function to clean the data\n",
    "def helper_age(age):\n",
    "    if str(age)[-1] == '-':\n",
    "        return np.nan\n",
    "    return age\n",
    "\n",
    "# Remove the values that only contain the maximum of age\n",
    "ages = ages.apply(helper_age)\n",
    "\n",
    "# Get all of the minimums of ages\n",
    "ages = ages.apply(lambda x: (int(str(x)[:2]) if x is not np.nan else x))\n",
    "\n",
    "# Get mean\n",
    "age_mean = ages.mean()\n",
    "\n",
    "# Imputation using mean\n",
    "s = pd.Series([age_mean] * len(ages))\n",
    "ages = ages.fillna(s)\n",
    "\n",
    "# Add ages to original dataframe\n",
    "combined_data['Age_min'] = ages"
   ]
  },
  {
   "cell_type": "code",
   "execution_count": 397,
   "metadata": {},
   "outputs": [
    {
     "data": {
      "text/html": [
       "<div>\n",
       "<style scoped>\n",
       "    .dataframe tbody tr th:only-of-type {\n",
       "        vertical-align: middle;\n",
       "    }\n",
       "\n",
       "    .dataframe tbody tr th {\n",
       "        vertical-align: top;\n",
       "    }\n",
       "\n",
       "    .dataframe thead th {\n",
       "        text-align: right;\n",
       "    }\n",
       "</style>\n",
       "<table border=\"1\" class=\"dataframe\">\n",
       "  <thead>\n",
       "    <tr style=\"text-align: right;\">\n",
       "      <th></th>\n",
       "      <th>Start_year_and_month</th>\n",
       "      <th>Continent</th>\n",
       "      <th>Age_min</th>\n",
       "    </tr>\n",
       "  </thead>\n",
       "  <tbody>\n",
       "    <tr>\n",
       "      <th>0</th>\n",
       "      <td>2018-10</td>\n",
       "      <td>North America</td>\n",
       "      <td>18.000000</td>\n",
       "    </tr>\n",
       "    <tr>\n",
       "      <th>1</th>\n",
       "      <td>2018-09</td>\n",
       "      <td>North America</td>\n",
       "      <td>18.000000</td>\n",
       "    </tr>\n",
       "    <tr>\n",
       "      <th>2</th>\n",
       "      <td>2018-10</td>\n",
       "      <td>North America</td>\n",
       "      <td>18.000000</td>\n",
       "    </tr>\n",
       "    <tr>\n",
       "      <th>3</th>\n",
       "      <td>2018-09</td>\n",
       "      <td>North America</td>\n",
       "      <td>18.603304</td>\n",
       "    </tr>\n",
       "    <tr>\n",
       "      <th>4</th>\n",
       "      <td>2018-10</td>\n",
       "      <td>North America</td>\n",
       "      <td>18.000000</td>\n",
       "    </tr>\n",
       "  </tbody>\n",
       "</table>\n",
       "</div>"
      ],
      "text/plain": [
       "  Start_year_and_month      Continent    Age_min\n",
       "0              2018-10  North America  18.000000\n",
       "1              2018-09  North America  18.000000\n",
       "2              2018-10  North America  18.000000\n",
       "3              2018-09  North America  18.603304\n",
       "4              2018-10  North America  18.000000"
      ]
     },
     "execution_count": 397,
     "metadata": {},
     "output_type": "execute_result"
    }
   ],
   "source": [
    "# Dataframe after the feature engineerings\n",
    "combined_data[['Start_year_and_month', 'Continent', 'Age_min']].head()"
   ]
  },
  {
   "cell_type": "markdown",
   "metadata": {},
   "source": [
    "Predict the spend by **Currency Code**, **Impressions**, **OrganizationName**, and **PayingAdvertiserName**"
   ]
  },
  {
   "cell_type": "code",
   "execution_count": 44,
   "metadata": {},
   "outputs": [
    {
     "data": {
      "text/html": [
       "<div>\n",
       "<style scoped>\n",
       "    .dataframe tbody tr th:only-of-type {\n",
       "        vertical-align: middle;\n",
       "    }\n",
       "\n",
       "    .dataframe tbody tr th {\n",
       "        vertical-align: top;\n",
       "    }\n",
       "\n",
       "    .dataframe thead th {\n",
       "        text-align: right;\n",
       "    }\n",
       "</style>\n",
       "<table border=\"1\" class=\"dataframe\">\n",
       "  <thead>\n",
       "    <tr style=\"text-align: right;\">\n",
       "      <th></th>\n",
       "      <th>Currency Code</th>\n",
       "      <th>Spend</th>\n",
       "      <th>Impressions</th>\n",
       "      <th>OrganizationName</th>\n",
       "      <th>PayingAdvertiserName</th>\n",
       "    </tr>\n",
       "  </thead>\n",
       "  <tbody>\n",
       "    <tr>\n",
       "      <th>0</th>\n",
       "      <td>USD</td>\n",
       "      <td>4361</td>\n",
       "      <td>397340</td>\n",
       "      <td>Bully Pulpit Interactive</td>\n",
       "      <td>NextGen America</td>\n",
       "    </tr>\n",
       "    <tr>\n",
       "      <th>1</th>\n",
       "      <td>USD</td>\n",
       "      <td>11</td>\n",
       "      <td>3309</td>\n",
       "      <td>ACRONYM</td>\n",
       "      <td>Our Lives Our Vote</td>\n",
       "    </tr>\n",
       "    <tr>\n",
       "      <th>2</th>\n",
       "      <td>USD</td>\n",
       "      <td>205</td>\n",
       "      <td>31789</td>\n",
       "      <td>Mothership Strategies</td>\n",
       "      <td>Progressive Turnout Project</td>\n",
       "    </tr>\n",
       "    <tr>\n",
       "      <th>3</th>\n",
       "      <td>USD</td>\n",
       "      <td>203</td>\n",
       "      <td>94877</td>\n",
       "      <td>Chong and Koster</td>\n",
       "      <td>Everytown for Gun Safety AF</td>\n",
       "    </tr>\n",
       "    <tr>\n",
       "      <th>4</th>\n",
       "      <td>USD</td>\n",
       "      <td>558</td>\n",
       "      <td>228469</td>\n",
       "      <td>Penna Powers</td>\n",
       "      <td>Lieutenant Governor's Office</td>\n",
       "    </tr>\n",
       "  </tbody>\n",
       "</table>\n",
       "</div>"
      ],
      "text/plain": [
       "  Currency Code  Spend  Impressions          OrganizationName  \\\n",
       "0           USD   4361       397340  Bully Pulpit Interactive   \n",
       "1           USD     11         3309                   ACRONYM   \n",
       "2           USD    205        31789     Mothership Strategies   \n",
       "3           USD    203        94877          Chong and Koster   \n",
       "4           USD    558       228469             Penna Powers    \n",
       "\n",
       "           PayingAdvertiserName  \n",
       "0               NextGen America  \n",
       "1            Our Lives Our Vote  \n",
       "2   Progressive Turnout Project  \n",
       "3   Everytown for Gun Safety AF  \n",
       "4  Lieutenant Governor's Office  "
      ]
     },
     "execution_count": 44,
     "metadata": {},
     "output_type": "execute_result"
    }
   ],
   "source": [
    "# Extract useful columns\n",
    "cleaned1 = combined_data[['Currency Code', 'Spend', 'Impressions', 'OrganizationName', 'PayingAdvertiserName']]\n",
    "cleaned1.head()"
   ]
  },
  {
   "cell_type": "code",
   "execution_count": 139,
   "metadata": {},
   "outputs": [],
   "source": [
    "# Perform one-hot encoding on Currency Code column\n",
    "currency = ['Currency Code']\n",
    "curr_trans = Pipeline(steps=[('curr-trans', OneHotEncoder(handle_unknown='ignore'))])\n",
    "\n",
    "# Z-scale the Impressions\n",
    "impr = ['Impressions']\n",
    "impr_trans = Pipeline(steps=[('impr-trans', pp.StandardScaler())])\n",
    "\n",
    "# Perform one-hot encoding on OrganizationName column\n",
    "org = ['OrganizationName']\n",
    "org_trans = Pipeline(steps=[('org-trans', OneHotEncoder(handle_unknown='ignore'))])\n",
    "\n",
    "# Perform one-hot encoding on PayingAdvertiserName column\n",
    "adver = ['PayingAdvertiserName']\n",
    "adver_trans = Pipeline(steps=[('adver-trans', OneHotEncoder(handle_unknown='ignore'))])\n",
    "\n",
    "# Putting them together\n",
    "preproc1 = ColumnTransformer(transformers=[('curr', curr_trans, currency), ('impr', impr_trans, impr), ('org', org_trans, org), ('adver', adver_trans, adver)])\n",
    "pl1 = Pipeline(steps=[('preprocessor', preproc1), ('regressor', es.RandomForestRegressor())])"
   ]
  },
  {
   "cell_type": "code",
   "execution_count": 50,
   "metadata": {},
   "outputs": [],
   "source": [
    "# Make Prediction\n",
    "X1 = cleaned1.drop('Spend', axis=1)\n",
    "y1 = cleaned1.Spend\n",
    "\n",
    "# Train-test split and fit\n",
    "X_train1, X_test1, y_train1, y_test1 = train_test_split(X1, y1, test_size=0.25)\n",
    "f1 = pl1.fit(X_train1, y_train1)"
   ]
  },
  {
   "cell_type": "code",
   "execution_count": 51,
   "metadata": {},
   "outputs": [
    {
     "data": {
      "text/plain": [
       "264.5725564927627"
      ]
     },
     "execution_count": 51,
     "metadata": {},
     "output_type": "execute_result"
    }
   ],
   "source": [
    "# Mean absolute error for train data\n",
    "pred1 = pl1.predict(X_train1)\n",
    "scr1 = mean_absolute_error(y_train1, pred1)\n",
    "scr1"
   ]
  },
  {
   "cell_type": "code",
   "execution_count": 52,
   "metadata": {},
   "outputs": [
    {
     "data": {
      "text/plain": [
       "751.290308028741"
      ]
     },
     "execution_count": 52,
     "metadata": {},
     "output_type": "execute_result"
    }
   ],
   "source": [
    "# Mean absolute error for test data\n",
    "pred_test1 = pl1.predict(X_test1)\n",
    "scr_test1 = mean_absolute_error(y_test1, pred_test1)\n",
    "scr_test1\n",
    "# This error is lower than the error of baseline model. So Currency Code could improve prediction"
   ]
  },
  {
   "cell_type": "markdown",
   "metadata": {},
   "source": [
    "Predict the spend by **Start_year_and_month**, **Impressions**, **OrganizationName**, and **PayingAdvertiserName**"
   ]
  },
  {
   "cell_type": "code",
   "execution_count": 53,
   "metadata": {},
   "outputs": [
    {
     "data": {
      "text/html": [
       "<div>\n",
       "<style scoped>\n",
       "    .dataframe tbody tr th:only-of-type {\n",
       "        vertical-align: middle;\n",
       "    }\n",
       "\n",
       "    .dataframe tbody tr th {\n",
       "        vertical-align: top;\n",
       "    }\n",
       "\n",
       "    .dataframe thead th {\n",
       "        text-align: right;\n",
       "    }\n",
       "</style>\n",
       "<table border=\"1\" class=\"dataframe\">\n",
       "  <thead>\n",
       "    <tr style=\"text-align: right;\">\n",
       "      <th></th>\n",
       "      <th>Spend</th>\n",
       "      <th>Impressions</th>\n",
       "      <th>Start_year_and_month</th>\n",
       "      <th>OrganizationName</th>\n",
       "      <th>PayingAdvertiserName</th>\n",
       "    </tr>\n",
       "  </thead>\n",
       "  <tbody>\n",
       "    <tr>\n",
       "      <th>0</th>\n",
       "      <td>4361</td>\n",
       "      <td>397340</td>\n",
       "      <td>2018-10</td>\n",
       "      <td>Bully Pulpit Interactive</td>\n",
       "      <td>NextGen America</td>\n",
       "    </tr>\n",
       "    <tr>\n",
       "      <th>1</th>\n",
       "      <td>11</td>\n",
       "      <td>3309</td>\n",
       "      <td>2018-09</td>\n",
       "      <td>ACRONYM</td>\n",
       "      <td>Our Lives Our Vote</td>\n",
       "    </tr>\n",
       "    <tr>\n",
       "      <th>2</th>\n",
       "      <td>205</td>\n",
       "      <td>31789</td>\n",
       "      <td>2018-10</td>\n",
       "      <td>Mothership Strategies</td>\n",
       "      <td>Progressive Turnout Project</td>\n",
       "    </tr>\n",
       "    <tr>\n",
       "      <th>3</th>\n",
       "      <td>203</td>\n",
       "      <td>94877</td>\n",
       "      <td>2018-09</td>\n",
       "      <td>Chong and Koster</td>\n",
       "      <td>Everytown for Gun Safety AF</td>\n",
       "    </tr>\n",
       "    <tr>\n",
       "      <th>4</th>\n",
       "      <td>558</td>\n",
       "      <td>228469</td>\n",
       "      <td>2018-10</td>\n",
       "      <td>Penna Powers</td>\n",
       "      <td>Lieutenant Governor's Office</td>\n",
       "    </tr>\n",
       "  </tbody>\n",
       "</table>\n",
       "</div>"
      ],
      "text/plain": [
       "   Spend  Impressions Start_year_and_month          OrganizationName  \\\n",
       "0   4361       397340              2018-10  Bully Pulpit Interactive   \n",
       "1     11         3309              2018-09                   ACRONYM   \n",
       "2    205        31789              2018-10     Mothership Strategies   \n",
       "3    203        94877              2018-09          Chong and Koster   \n",
       "4    558       228469              2018-10             Penna Powers    \n",
       "\n",
       "           PayingAdvertiserName  \n",
       "0               NextGen America  \n",
       "1            Our Lives Our Vote  \n",
       "2   Progressive Turnout Project  \n",
       "3   Everytown for Gun Safety AF  \n",
       "4  Lieutenant Governor's Office  "
      ]
     },
     "execution_count": 53,
     "metadata": {},
     "output_type": "execute_result"
    }
   ],
   "source": [
    "# Extract useful columns\n",
    "cleaned2 = combined_data[['Spend', 'Impressions', 'Start_year_and_month', 'OrganizationName', 'PayingAdvertiserName']]\n",
    "cleaned2.head()"
   ]
  },
  {
   "cell_type": "code",
   "execution_count": 138,
   "metadata": {},
   "outputs": [],
   "source": [
    "# Perform one-hot encoding on Start_year_and_month column\n",
    "date = ['Start_year_and_month']\n",
    "date_trans = Pipeline(steps=[('date-trans', OneHotEncoder(handle_unknown='ignore'))])"
   ]
  },
  {
   "cell_type": "code",
   "execution_count": 60,
   "metadata": {},
   "outputs": [],
   "source": [
    "# Putting them together\n",
    "preproc2 = ColumnTransformer(transformers=[('date', date_trans, date), ('impr', impr_trans, impr), ('org', org_trans, org), ('adver', adver_trans, adver)])\n",
    "pl2 = Pipeline(steps=[('preprocessor', preproc2), ('regressor', es.RandomForestRegressor())])"
   ]
  },
  {
   "cell_type": "code",
   "execution_count": 61,
   "metadata": {},
   "outputs": [],
   "source": [
    "# Make Prediction\n",
    "X2 = cleaned2.drop('Spend', axis=1)\n",
    "y2 = cleaned2.Spend\n",
    "\n",
    "# Train-test split and fit\n",
    "X_train2, X_test2, y_train2, y_test2 = train_test_split(X2, y2, test_size=0.25)\n",
    "f2 = pl2.fit(X_train2, y_train2)"
   ]
  },
  {
   "cell_type": "code",
   "execution_count": 62,
   "metadata": {},
   "outputs": [
    {
     "data": {
      "text/plain": [
       "276.2378725398313"
      ]
     },
     "execution_count": 62,
     "metadata": {},
     "output_type": "execute_result"
    }
   ],
   "source": [
    "# Mean absolute error for train data\n",
    "pred2 = pl2.predict(X_train2)\n",
    "scr2 = mean_absolute_error(y_train2, pred2)\n",
    "scr2"
   ]
  },
  {
   "cell_type": "code",
   "execution_count": 63,
   "metadata": {},
   "outputs": [
    {
     "data": {
      "text/plain": [
       "767.8701030927836"
      ]
     },
     "execution_count": 63,
     "metadata": {},
     "output_type": "execute_result"
    }
   ],
   "source": [
    "# Mean absolute error for test data\n",
    "pred_test2 = pl2.predict(X_test2)\n",
    "scr_test2 = mean_absolute_error(y_test2, pred_test2)\n",
    "scr_test2\n",
    "# This error is lower than the error of baseline model. So start_year_and_month could improve prediction"
   ]
  },
  {
   "cell_type": "markdown",
   "metadata": {},
   "source": [
    "Predict the spend by **Age_min**, **Impressions**, **OrganizationName**, and **PayingAdvertiserName**"
   ]
  },
  {
   "cell_type": "code",
   "execution_count": 101,
   "metadata": {},
   "outputs": [
    {
     "data": {
      "text/html": [
       "<div>\n",
       "<style scoped>\n",
       "    .dataframe tbody tr th:only-of-type {\n",
       "        vertical-align: middle;\n",
       "    }\n",
       "\n",
       "    .dataframe tbody tr th {\n",
       "        vertical-align: top;\n",
       "    }\n",
       "\n",
       "    .dataframe thead th {\n",
       "        text-align: right;\n",
       "    }\n",
       "</style>\n",
       "<table border=\"1\" class=\"dataframe\">\n",
       "  <thead>\n",
       "    <tr style=\"text-align: right;\">\n",
       "      <th></th>\n",
       "      <th>Age_min</th>\n",
       "      <th>Impressions</th>\n",
       "      <th>Spend</th>\n",
       "      <th>OrganizationName</th>\n",
       "      <th>PayingAdvertiserName</th>\n",
       "    </tr>\n",
       "  </thead>\n",
       "  <tbody>\n",
       "    <tr>\n",
       "      <th>0</th>\n",
       "      <td>18.000000</td>\n",
       "      <td>397340</td>\n",
       "      <td>4361</td>\n",
       "      <td>Bully Pulpit Interactive</td>\n",
       "      <td>NextGen America</td>\n",
       "    </tr>\n",
       "    <tr>\n",
       "      <th>1</th>\n",
       "      <td>18.000000</td>\n",
       "      <td>3309</td>\n",
       "      <td>11</td>\n",
       "      <td>ACRONYM</td>\n",
       "      <td>Our Lives Our Vote</td>\n",
       "    </tr>\n",
       "    <tr>\n",
       "      <th>2</th>\n",
       "      <td>18.000000</td>\n",
       "      <td>31789</td>\n",
       "      <td>205</td>\n",
       "      <td>Mothership Strategies</td>\n",
       "      <td>Progressive Turnout Project</td>\n",
       "    </tr>\n",
       "    <tr>\n",
       "      <th>3</th>\n",
       "      <td>18.603304</td>\n",
       "      <td>94877</td>\n",
       "      <td>203</td>\n",
       "      <td>Chong and Koster</td>\n",
       "      <td>Everytown for Gun Safety AF</td>\n",
       "    </tr>\n",
       "    <tr>\n",
       "      <th>4</th>\n",
       "      <td>18.000000</td>\n",
       "      <td>228469</td>\n",
       "      <td>558</td>\n",
       "      <td>Penna Powers</td>\n",
       "      <td>Lieutenant Governor's Office</td>\n",
       "    </tr>\n",
       "  </tbody>\n",
       "</table>\n",
       "</div>"
      ],
      "text/plain": [
       "     Age_min  Impressions  Spend          OrganizationName  \\\n",
       "0  18.000000       397340   4361  Bully Pulpit Interactive   \n",
       "1  18.000000         3309     11                   ACRONYM   \n",
       "2  18.000000        31789    205     Mothership Strategies   \n",
       "3  18.603304        94877    203          Chong and Koster   \n",
       "4  18.000000       228469    558             Penna Powers    \n",
       "\n",
       "           PayingAdvertiserName  \n",
       "0               NextGen America  \n",
       "1            Our Lives Our Vote  \n",
       "2   Progressive Turnout Project  \n",
       "3   Everytown for Gun Safety AF  \n",
       "4  Lieutenant Governor's Office  "
      ]
     },
     "execution_count": 101,
     "metadata": {},
     "output_type": "execute_result"
    }
   ],
   "source": [
    "# Extract useful columns\n",
    "cleaned3 = combined_data[['Age_min', 'Impressions', 'Spend', 'OrganizationName', 'PayingAdvertiserName']]\n",
    "cleaned3.head()"
   ]
  },
  {
   "cell_type": "code",
   "execution_count": 102,
   "metadata": {},
   "outputs": [],
   "source": [
    "# put them together using columntransformer\n",
    "preproc3 = ColumnTransformer(transformers=[('impr', impr_trans, impr), ('org', org_trans, org), ('adver', adver_trans, adver)])\n",
    "pl3 = Pipeline(steps=[('preprocessor', preproc3), ('regressor', es.RandomForestRegressor())])"
   ]
  },
  {
   "cell_type": "code",
   "execution_count": 103,
   "metadata": {},
   "outputs": [],
   "source": [
    "# Make Prediction\n",
    "X3 = cleaned3.drop('Spend', axis=1)\n",
    "y3 = cleaned3.Spend\n",
    "\n",
    "# Train-test split and fit\n",
    "X_train3, X_test3, y_train3, y_test3 = train_test_split(X3, y3, test_size=0.25)\n",
    "f3 = pl3.fit(X_train3, y_train3)"
   ]
  },
  {
   "cell_type": "code",
   "execution_count": 104,
   "metadata": {},
   "outputs": [
    {
     "data": {
      "text/plain": [
       "272.64709059668854"
      ]
     },
     "execution_count": 104,
     "metadata": {},
     "output_type": "execute_result"
    }
   ],
   "source": [
    "# Mean absolute error for train data\n",
    "pred3 = pl3.predict(X_train3)\n",
    "scr3 = mean_absolute_error(y_train3, pred3)\n",
    "scr3"
   ]
  },
  {
   "cell_type": "code",
   "execution_count": 105,
   "metadata": {},
   "outputs": [
    {
     "data": {
      "text/plain": [
       "1030.4013874905163"
      ]
     },
     "execution_count": 105,
     "metadata": {},
     "output_type": "execute_result"
    }
   ],
   "source": [
    "# Mean absolute error for test data\n",
    "pred_test3 = pl3.predict(X_test3)\n",
    "scr_test3 = mean_absolute_error(y_test3, pred_test3)\n",
    "scr_test3\n",
    "# This error is larger than the error of baseline model. So age_min cannot improve prediction"
   ]
  },
  {
   "cell_type": "markdown",
   "metadata": {},
   "source": [
    "Predict the spend by **Gender**, **Impressions**, **OrganizationName**, and **PayingAdvertiserName**"
   ]
  },
  {
   "cell_type": "code",
   "execution_count": 106,
   "metadata": {},
   "outputs": [
    {
     "data": {
      "text/html": [
       "<div>\n",
       "<style scoped>\n",
       "    .dataframe tbody tr th:only-of-type {\n",
       "        vertical-align: middle;\n",
       "    }\n",
       "\n",
       "    .dataframe tbody tr th {\n",
       "        vertical-align: top;\n",
       "    }\n",
       "\n",
       "    .dataframe thead th {\n",
       "        text-align: right;\n",
       "    }\n",
       "</style>\n",
       "<table border=\"1\" class=\"dataframe\">\n",
       "  <thead>\n",
       "    <tr style=\"text-align: right;\">\n",
       "      <th></th>\n",
       "      <th>ADID</th>\n",
       "      <th>CreativeUrl</th>\n",
       "      <th>Currency Code</th>\n",
       "      <th>Spend</th>\n",
       "      <th>Impressions</th>\n",
       "      <th>StartDate</th>\n",
       "      <th>EndDate</th>\n",
       "      <th>OrganizationName</th>\n",
       "      <th>BillingAddress</th>\n",
       "      <th>CandidateBallotInformation</th>\n",
       "      <th>...</th>\n",
       "      <th>Language</th>\n",
       "      <th>AdvancedDemographics</th>\n",
       "      <th>Targeting Connection Type</th>\n",
       "      <th>Targeting Carrier (ISP)</th>\n",
       "      <th>CreativeProperties</th>\n",
       "      <th>Start_year_and_month</th>\n",
       "      <th>Continent</th>\n",
       "      <th>Age_min</th>\n",
       "      <th>is_large</th>\n",
       "      <th>prediction</th>\n",
       "    </tr>\n",
       "  </thead>\n",
       "  <tbody>\n",
       "    <tr>\n",
       "      <th>0</th>\n",
       "      <td>6bf6eca7297551f35a5d17b478cedb6683a75c2f9b9b00...</td>\n",
       "      <td>https://www.snap.com/political-ads/asset/27e1c...</td>\n",
       "      <td>USD</td>\n",
       "      <td>4361</td>\n",
       "      <td>397340</td>\n",
       "      <td>2018-10-18 15:45:57+00:00</td>\n",
       "      <td>2018-11-06 23:00:00+00:00</td>\n",
       "      <td>Bully Pulpit Interactive</td>\n",
       "      <td>1445 New York Ave NW,Washington,20005,US</td>\n",
       "      <td>NaN</td>\n",
       "      <td>...</td>\n",
       "      <td>NaN</td>\n",
       "      <td>NaN</td>\n",
       "      <td>NaN</td>\n",
       "      <td>NaN</td>\n",
       "      <td>NaN</td>\n",
       "      <td>2018-10</td>\n",
       "      <td>North America</td>\n",
       "      <td>18.000000</td>\n",
       "      <td>large</td>\n",
       "      <td>2986.00</td>\n",
       "    </tr>\n",
       "    <tr>\n",
       "      <th>1</th>\n",
       "      <td>a801fccc059ac401a54ae3bf309f3b2a22c35df0392666...</td>\n",
       "      <td>https://www.snap.com/political-ads/asset/e1b1d...</td>\n",
       "      <td>USD</td>\n",
       "      <td>11</td>\n",
       "      <td>3309</td>\n",
       "      <td>2018-09-25 05:00:00+00:00</td>\n",
       "      <td>2018-09-26 05:00:00+00:00</td>\n",
       "      <td>ACRONYM</td>\n",
       "      <td>US</td>\n",
       "      <td>NaN</td>\n",
       "      <td>...</td>\n",
       "      <td>NaN</td>\n",
       "      <td>NaN</td>\n",
       "      <td>NaN</td>\n",
       "      <td>NaN</td>\n",
       "      <td>web_view_url:https://ourlivesourvote.com/regis...</td>\n",
       "      <td>2018-09</td>\n",
       "      <td>North America</td>\n",
       "      <td>18.000000</td>\n",
       "      <td>small</td>\n",
       "      <td>11.38</td>\n",
       "    </tr>\n",
       "    <tr>\n",
       "      <th>2</th>\n",
       "      <td>a19bd9f5379e7affc4586d26537346142cc3a8a487b3a3...</td>\n",
       "      <td>https://www.snap.com/political-ads/asset/75251...</td>\n",
       "      <td>USD</td>\n",
       "      <td>205</td>\n",
       "      <td>31789</td>\n",
       "      <td>2018-10-30 17:58:01+00:00</td>\n",
       "      <td>2018-11-06 22:59:59+00:00</td>\n",
       "      <td>Mothership Strategies</td>\n",
       "      <td>1328 Florida Avenue NW, Building C, Washington...</td>\n",
       "      <td>NaN</td>\n",
       "      <td>...</td>\n",
       "      <td>NaN</td>\n",
       "      <td>NaN</td>\n",
       "      <td>NaN</td>\n",
       "      <td>NaN</td>\n",
       "      <td>web_view_url:http://votingmatters.org/</td>\n",
       "      <td>2018-10</td>\n",
       "      <td>North America</td>\n",
       "      <td>18.000000</td>\n",
       "      <td>small</td>\n",
       "      <td>159.34</td>\n",
       "    </tr>\n",
       "    <tr>\n",
       "      <th>3</th>\n",
       "      <td>b30c9d008f67f84a14dbb79166f4f1da04d27bea85b3e4...</td>\n",
       "      <td>https://www.snap.com/political-ads/asset/60ab9...</td>\n",
       "      <td>USD</td>\n",
       "      <td>203</td>\n",
       "      <td>94877</td>\n",
       "      <td>2018-09-28 20:33:08+00:00</td>\n",
       "      <td>NaT</td>\n",
       "      <td>Chong and Koster</td>\n",
       "      <td>1640 Rhode Island Ave. NW, Suite 600,Washingto...</td>\n",
       "      <td>NaN</td>\n",
       "      <td>...</td>\n",
       "      <td>en</td>\n",
       "      <td>NaN</td>\n",
       "      <td>NaN</td>\n",
       "      <td>NaN</td>\n",
       "      <td>web_view_url:https://act.everytown.org/sign/di...</td>\n",
       "      <td>2018-09</td>\n",
       "      <td>North America</td>\n",
       "      <td>18.603304</td>\n",
       "      <td>large</td>\n",
       "      <td>268.24</td>\n",
       "    </tr>\n",
       "    <tr>\n",
       "      <th>4</th>\n",
       "      <td>dfb3bfcd72700889fd7f579bdae86a6c11f2efdede5d78...</td>\n",
       "      <td>https://www.snap.com/political-ads/asset/a72b6...</td>\n",
       "      <td>USD</td>\n",
       "      <td>558</td>\n",
       "      <td>228469</td>\n",
       "      <td>2018-10-09 15:51:44+00:00</td>\n",
       "      <td>2018-11-07 03:00:00+00:00</td>\n",
       "      <td>Penna Powers</td>\n",
       "      <td>1706 s major street,salt lake city,84115,US</td>\n",
       "      <td>NaN</td>\n",
       "      <td>...</td>\n",
       "      <td>NaN</td>\n",
       "      <td>NaN</td>\n",
       "      <td>NaN</td>\n",
       "      <td>NaN</td>\n",
       "      <td>NaN</td>\n",
       "      <td>2018-10</td>\n",
       "      <td>North America</td>\n",
       "      <td>18.000000</td>\n",
       "      <td>large</td>\n",
       "      <td>619.11</td>\n",
       "    </tr>\n",
       "  </tbody>\n",
       "</table>\n",
       "<p>5 rows × 39 columns</p>\n",
       "</div>"
      ],
      "text/plain": [
       "                                                ADID  \\\n",
       "0  6bf6eca7297551f35a5d17b478cedb6683a75c2f9b9b00...   \n",
       "1  a801fccc059ac401a54ae3bf309f3b2a22c35df0392666...   \n",
       "2  a19bd9f5379e7affc4586d26537346142cc3a8a487b3a3...   \n",
       "3  b30c9d008f67f84a14dbb79166f4f1da04d27bea85b3e4...   \n",
       "4  dfb3bfcd72700889fd7f579bdae86a6c11f2efdede5d78...   \n",
       "\n",
       "                                         CreativeUrl Currency Code  Spend  \\\n",
       "0  https://www.snap.com/political-ads/asset/27e1c...           USD   4361   \n",
       "1  https://www.snap.com/political-ads/asset/e1b1d...           USD     11   \n",
       "2  https://www.snap.com/political-ads/asset/75251...           USD    205   \n",
       "3  https://www.snap.com/political-ads/asset/60ab9...           USD    203   \n",
       "4  https://www.snap.com/political-ads/asset/a72b6...           USD    558   \n",
       "\n",
       "   Impressions                 StartDate                   EndDate  \\\n",
       "0       397340 2018-10-18 15:45:57+00:00 2018-11-06 23:00:00+00:00   \n",
       "1         3309 2018-09-25 05:00:00+00:00 2018-09-26 05:00:00+00:00   \n",
       "2        31789 2018-10-30 17:58:01+00:00 2018-11-06 22:59:59+00:00   \n",
       "3        94877 2018-09-28 20:33:08+00:00                       NaT   \n",
       "4       228469 2018-10-09 15:51:44+00:00 2018-11-07 03:00:00+00:00   \n",
       "\n",
       "           OrganizationName  \\\n",
       "0  Bully Pulpit Interactive   \n",
       "1                   ACRONYM   \n",
       "2     Mothership Strategies   \n",
       "3          Chong and Koster   \n",
       "4             Penna Powers    \n",
       "\n",
       "                                      BillingAddress  \\\n",
       "0           1445 New York Ave NW,Washington,20005,US   \n",
       "1                                                 US   \n",
       "2  1328 Florida Avenue NW, Building C, Washington...   \n",
       "3  1640 Rhode Island Ave. NW, Suite 600,Washingto...   \n",
       "4        1706 s major street,salt lake city,84115,US   \n",
       "\n",
       "  CandidateBallotInformation  ... Language AdvancedDemographics  \\\n",
       "0                        NaN  ...      NaN                  NaN   \n",
       "1                        NaN  ...      NaN                  NaN   \n",
       "2                        NaN  ...      NaN                  NaN   \n",
       "3                        NaN  ...       en                  NaN   \n",
       "4                        NaN  ...      NaN                  NaN   \n",
       "\n",
       "  Targeting Connection Type Targeting Carrier (ISP)  \\\n",
       "0                       NaN                     NaN   \n",
       "1                       NaN                     NaN   \n",
       "2                       NaN                     NaN   \n",
       "3                       NaN                     NaN   \n",
       "4                       NaN                     NaN   \n",
       "\n",
       "                                  CreativeProperties Start_year_and_month  \\\n",
       "0                                                NaN              2018-10   \n",
       "1  web_view_url:https://ourlivesourvote.com/regis...              2018-09   \n",
       "2             web_view_url:http://votingmatters.org/              2018-10   \n",
       "3  web_view_url:https://act.everytown.org/sign/di...              2018-09   \n",
       "4                                                NaN              2018-10   \n",
       "\n",
       "       Continent    Age_min is_large prediction  \n",
       "0  North America  18.000000    large    2986.00  \n",
       "1  North America  18.000000    small      11.38  \n",
       "2  North America  18.000000    small     159.34  \n",
       "3  North America  18.603304    large     268.24  \n",
       "4  North America  18.000000    large     619.11  \n",
       "\n",
       "[5 rows x 39 columns]"
      ]
     },
     "execution_count": 106,
     "metadata": {},
     "output_type": "execute_result"
    }
   ],
   "source": [
    "# First fill all NaNs with 'All genders'\n",
    "combined_data['Gender'] = combined_data['Gender'].replace(np.nan, 'All genders')\n",
    "combined_data.head()"
   ]
  },
  {
   "cell_type": "code",
   "execution_count": 107,
   "metadata": {},
   "outputs": [
    {
     "data": {
      "text/html": [
       "<div>\n",
       "<style scoped>\n",
       "    .dataframe tbody tr th:only-of-type {\n",
       "        vertical-align: middle;\n",
       "    }\n",
       "\n",
       "    .dataframe tbody tr th {\n",
       "        vertical-align: top;\n",
       "    }\n",
       "\n",
       "    .dataframe thead th {\n",
       "        text-align: right;\n",
       "    }\n",
       "</style>\n",
       "<table border=\"1\" class=\"dataframe\">\n",
       "  <thead>\n",
       "    <tr style=\"text-align: right;\">\n",
       "      <th></th>\n",
       "      <th>Spend</th>\n",
       "      <th>Impressions</th>\n",
       "      <th>Gender</th>\n",
       "      <th>OrganizationName</th>\n",
       "      <th>PayingAdvertiserName</th>\n",
       "    </tr>\n",
       "  </thead>\n",
       "  <tbody>\n",
       "    <tr>\n",
       "      <th>0</th>\n",
       "      <td>4361</td>\n",
       "      <td>397340</td>\n",
       "      <td>All genders</td>\n",
       "      <td>Bully Pulpit Interactive</td>\n",
       "      <td>NextGen America</td>\n",
       "    </tr>\n",
       "    <tr>\n",
       "      <th>1</th>\n",
       "      <td>11</td>\n",
       "      <td>3309</td>\n",
       "      <td>All genders</td>\n",
       "      <td>ACRONYM</td>\n",
       "      <td>Our Lives Our Vote</td>\n",
       "    </tr>\n",
       "    <tr>\n",
       "      <th>2</th>\n",
       "      <td>205</td>\n",
       "      <td>31789</td>\n",
       "      <td>All genders</td>\n",
       "      <td>Mothership Strategies</td>\n",
       "      <td>Progressive Turnout Project</td>\n",
       "    </tr>\n",
       "    <tr>\n",
       "      <th>3</th>\n",
       "      <td>203</td>\n",
       "      <td>94877</td>\n",
       "      <td>All genders</td>\n",
       "      <td>Chong and Koster</td>\n",
       "      <td>Everytown for Gun Safety AF</td>\n",
       "    </tr>\n",
       "    <tr>\n",
       "      <th>4</th>\n",
       "      <td>558</td>\n",
       "      <td>228469</td>\n",
       "      <td>All genders</td>\n",
       "      <td>Penna Powers</td>\n",
       "      <td>Lieutenant Governor's Office</td>\n",
       "    </tr>\n",
       "  </tbody>\n",
       "</table>\n",
       "</div>"
      ],
      "text/plain": [
       "   Spend  Impressions       Gender          OrganizationName  \\\n",
       "0   4361       397340  All genders  Bully Pulpit Interactive   \n",
       "1     11         3309  All genders                   ACRONYM   \n",
       "2    205        31789  All genders     Mothership Strategies   \n",
       "3    203        94877  All genders          Chong and Koster   \n",
       "4    558       228469  All genders             Penna Powers    \n",
       "\n",
       "           PayingAdvertiserName  \n",
       "0               NextGen America  \n",
       "1            Our Lives Our Vote  \n",
       "2   Progressive Turnout Project  \n",
       "3   Everytown for Gun Safety AF  \n",
       "4  Lieutenant Governor's Office  "
      ]
     },
     "execution_count": 107,
     "metadata": {},
     "output_type": "execute_result"
    }
   ],
   "source": [
    "# Extract useful columns\n",
    "cleaned4 = combined_data[['Spend', 'Impressions', 'Gender', 'OrganizationName', 'PayingAdvertiserName']]\n",
    "cleaned4.head()"
   ]
  },
  {
   "cell_type": "code",
   "execution_count": 137,
   "metadata": {},
   "outputs": [],
   "source": [
    "# Perform one-hot encoding on Gender column\n",
    "gender = ['Gender']\n",
    "gender_trans = Pipeline(steps=[('gender-trans', OneHotEncoder(handle_unknown='ignore'))])"
   ]
  },
  {
   "cell_type": "code",
   "execution_count": 113,
   "metadata": {},
   "outputs": [],
   "source": [
    "# Putting them together\n",
    "preproc4 = ColumnTransformer(transformers=[('gender', gender_trans, gender), ('impr', impr_trans, impr), ('org', org_trans, org), ('adver', adver_trans, adver)])\n",
    "pl4 = Pipeline(steps=[('preprocessor', preproc4), ('regressor', es.RandomForestRegressor())])"
   ]
  },
  {
   "cell_type": "code",
   "execution_count": 114,
   "metadata": {},
   "outputs": [],
   "source": [
    "# Make Prediction\n",
    "X4 = cleaned4.drop('Spend', axis=1)\n",
    "y4 = cleaned4.Spend\n",
    "\n",
    "# Train-test split and fit\n",
    "X_train4, X_test4, y_train4, y_test4 = train_test_split(X4, y4, test_size=0.25)\n",
    "f4 = pl4.fit(X_train4, y_train4)"
   ]
  },
  {
   "cell_type": "code",
   "execution_count": 115,
   "metadata": {},
   "outputs": [
    {
     "data": {
      "text/plain": [
       "272.2755050876958"
      ]
     },
     "execution_count": 115,
     "metadata": {},
     "output_type": "execute_result"
    }
   ],
   "source": [
    "# Mean absolute error for train data\n",
    "pred4 = pl4.predict(X_train4)\n",
    "scr4 = mean_absolute_error(y_train4, pred4)\n",
    "scr4"
   ]
  },
  {
   "cell_type": "code",
   "execution_count": 112,
   "metadata": {},
   "outputs": [
    {
     "data": {
      "text/plain": [
       "1101.2433561387068"
      ]
     },
     "execution_count": 112,
     "metadata": {},
     "output_type": "execute_result"
    }
   ],
   "source": [
    "# Mean absolute error for test data\n",
    "pred_test4 = pl4.predict(X_test4)\n",
    "scr_test4 = mean_absolute_error(y_test4, pred_test4)\n",
    "scr_test4\n",
    "# This error is larger than the error of baseline model. So Gender cannot improve prediction"
   ]
  },
  {
   "cell_type": "markdown",
   "metadata": {},
   "source": [
    "Predict the spend by **Continent**, **Impressions**, **OrganizationName**, and **PayingAdvertiserName**"
   ]
  },
  {
   "cell_type": "code",
   "execution_count": 128,
   "metadata": {},
   "outputs": [
    {
     "data": {
      "text/html": [
       "<div>\n",
       "<style scoped>\n",
       "    .dataframe tbody tr th:only-of-type {\n",
       "        vertical-align: middle;\n",
       "    }\n",
       "\n",
       "    .dataframe tbody tr th {\n",
       "        vertical-align: top;\n",
       "    }\n",
       "\n",
       "    .dataframe thead th {\n",
       "        text-align: right;\n",
       "    }\n",
       "</style>\n",
       "<table border=\"1\" class=\"dataframe\">\n",
       "  <thead>\n",
       "    <tr style=\"text-align: right;\">\n",
       "      <th></th>\n",
       "      <th>Spend</th>\n",
       "      <th>Impressions</th>\n",
       "      <th>Continent</th>\n",
       "      <th>OrganizationName</th>\n",
       "      <th>PayingAdvertiserName</th>\n",
       "    </tr>\n",
       "  </thead>\n",
       "  <tbody>\n",
       "    <tr>\n",
       "      <th>0</th>\n",
       "      <td>4361</td>\n",
       "      <td>397340</td>\n",
       "      <td>North America</td>\n",
       "      <td>Bully Pulpit Interactive</td>\n",
       "      <td>NextGen America</td>\n",
       "    </tr>\n",
       "    <tr>\n",
       "      <th>1</th>\n",
       "      <td>11</td>\n",
       "      <td>3309</td>\n",
       "      <td>North America</td>\n",
       "      <td>ACRONYM</td>\n",
       "      <td>Our Lives Our Vote</td>\n",
       "    </tr>\n",
       "    <tr>\n",
       "      <th>2</th>\n",
       "      <td>205</td>\n",
       "      <td>31789</td>\n",
       "      <td>North America</td>\n",
       "      <td>Mothership Strategies</td>\n",
       "      <td>Progressive Turnout Project</td>\n",
       "    </tr>\n",
       "    <tr>\n",
       "      <th>3</th>\n",
       "      <td>203</td>\n",
       "      <td>94877</td>\n",
       "      <td>North America</td>\n",
       "      <td>Chong and Koster</td>\n",
       "      <td>Everytown for Gun Safety AF</td>\n",
       "    </tr>\n",
       "    <tr>\n",
       "      <th>4</th>\n",
       "      <td>558</td>\n",
       "      <td>228469</td>\n",
       "      <td>North America</td>\n",
       "      <td>Penna Powers</td>\n",
       "      <td>Lieutenant Governor's Office</td>\n",
       "    </tr>\n",
       "  </tbody>\n",
       "</table>\n",
       "</div>"
      ],
      "text/plain": [
       "   Spend  Impressions      Continent          OrganizationName  \\\n",
       "0   4361       397340  North America  Bully Pulpit Interactive   \n",
       "1     11         3309  North America                   ACRONYM   \n",
       "2    205        31789  North America     Mothership Strategies   \n",
       "3    203        94877  North America          Chong and Koster   \n",
       "4    558       228469  North America             Penna Powers    \n",
       "\n",
       "           PayingAdvertiserName  \n",
       "0               NextGen America  \n",
       "1            Our Lives Our Vote  \n",
       "2   Progressive Turnout Project  \n",
       "3   Everytown for Gun Safety AF  \n",
       "4  Lieutenant Governor's Office  "
      ]
     },
     "execution_count": 128,
     "metadata": {},
     "output_type": "execute_result"
    }
   ],
   "source": [
    "# Extract useful columns\n",
    "cleaned5 = combined_data[['Spend', 'Impressions', 'Continent', 'OrganizationName', 'PayingAdvertiserName']]\n",
    "cleaned5.head()"
   ]
  },
  {
   "cell_type": "code",
   "execution_count": 322,
   "metadata": {},
   "outputs": [],
   "source": [
    "# One-hot encoding for continent\n",
    "conti = ['Continent']\n",
    "cont_trans = Pipeline(steps=[('cont-trans', OneHotEncoder(handle_unknown='ignore'))])"
   ]
  },
  {
   "cell_type": "code",
   "execution_count": 323,
   "metadata": {},
   "outputs": [],
   "source": [
    "# Putting them together\n",
    "preproc5 = ColumnTransformer(transformers=[('cont', cont_trans, conti), ('impr', impr_trans, impr), ('org', org_trans, org), ('adver', adver_trans, adver)])\n",
    "pl5 = Pipeline(steps=[('preprocessor', preproc5), ('regressor', es.RandomForestRegressor())])"
   ]
  },
  {
   "cell_type": "code",
   "execution_count": 324,
   "metadata": {},
   "outputs": [],
   "source": [
    "# Make Prediction\n",
    "X5 = cleaned5.drop('Spend', axis=1)\n",
    "y5 = cleaned5.Spend\n",
    "\n",
    "# Train-test split and fit\n",
    "X_train5, X_test5, y_train5, y_test5 = train_test_split(X5, y5, test_size=0.25)\n",
    "f5 = pl5.fit(X_train5, y_train5)"
   ]
  },
  {
   "cell_type": "code",
   "execution_count": 325,
   "metadata": {},
   "outputs": [
    {
     "data": {
      "text/plain": [
       "255.04938769134645"
      ]
     },
     "execution_count": 325,
     "metadata": {},
     "output_type": "execute_result"
    }
   ],
   "source": [
    "# Mean absolute error for train data\n",
    "pred5 = pl5.predict(X_train5)\n",
    "scr5 = mean_absolute_error(y_train5, pred5)\n",
    "scr5"
   ]
  },
  {
   "cell_type": "code",
   "execution_count": 326,
   "metadata": {},
   "outputs": [
    {
     "data": {
      "text/plain": [
       "689.2604467353952"
      ]
     },
     "execution_count": 326,
     "metadata": {},
     "output_type": "execute_result"
    }
   ],
   "source": [
    "# Mean absolute error for test data\n",
    "pred_test5 = pl5.predict(X_test5)\n",
    "scr_test5 = mean_absolute_error(y_test5, pred_test5)\n",
    "scr_test5\n",
    "# This error is lower than the error of baseline model. So continent improves prediction"
   ]
  },
  {
   "cell_type": "markdown",
   "metadata": {},
   "source": [
    "Predict the spend by **Currency Code**, **Continent**, **Start_year_and_month**, **Impressions**, **OrganizationName**, and **PayingAdvertiserName**"
   ]
  },
  {
   "cell_type": "code",
   "execution_count": 317,
   "metadata": {},
   "outputs": [
    {
     "data": {
      "text/html": [
       "<div>\n",
       "<style scoped>\n",
       "    .dataframe tbody tr th:only-of-type {\n",
       "        vertical-align: middle;\n",
       "    }\n",
       "\n",
       "    .dataframe tbody tr th {\n",
       "        vertical-align: top;\n",
       "    }\n",
       "\n",
       "    .dataframe thead th {\n",
       "        text-align: right;\n",
       "    }\n",
       "</style>\n",
       "<table border=\"1\" class=\"dataframe\">\n",
       "  <thead>\n",
       "    <tr style=\"text-align: right;\">\n",
       "      <th></th>\n",
       "      <th>Currency Code</th>\n",
       "      <th>Spend</th>\n",
       "      <th>Impressions</th>\n",
       "      <th>Start_year_and_month</th>\n",
       "      <th>OrganizationName</th>\n",
       "      <th>PayingAdvertiserName</th>\n",
       "      <th>Continent</th>\n",
       "    </tr>\n",
       "  </thead>\n",
       "  <tbody>\n",
       "    <tr>\n",
       "      <th>0</th>\n",
       "      <td>USD</td>\n",
       "      <td>4361</td>\n",
       "      <td>397340</td>\n",
       "      <td>2018-10</td>\n",
       "      <td>Bully Pulpit Interactive</td>\n",
       "      <td>NextGen America</td>\n",
       "      <td>North America</td>\n",
       "    </tr>\n",
       "    <tr>\n",
       "      <th>1</th>\n",
       "      <td>USD</td>\n",
       "      <td>11</td>\n",
       "      <td>3309</td>\n",
       "      <td>2018-09</td>\n",
       "      <td>ACRONYM</td>\n",
       "      <td>Our Lives Our Vote</td>\n",
       "      <td>North America</td>\n",
       "    </tr>\n",
       "    <tr>\n",
       "      <th>2</th>\n",
       "      <td>USD</td>\n",
       "      <td>205</td>\n",
       "      <td>31789</td>\n",
       "      <td>2018-10</td>\n",
       "      <td>Mothership Strategies</td>\n",
       "      <td>Progressive Turnout Project</td>\n",
       "      <td>North America</td>\n",
       "    </tr>\n",
       "    <tr>\n",
       "      <th>3</th>\n",
       "      <td>USD</td>\n",
       "      <td>203</td>\n",
       "      <td>94877</td>\n",
       "      <td>2018-09</td>\n",
       "      <td>Chong and Koster</td>\n",
       "      <td>Everytown for Gun Safety AF</td>\n",
       "      <td>North America</td>\n",
       "    </tr>\n",
       "    <tr>\n",
       "      <th>4</th>\n",
       "      <td>USD</td>\n",
       "      <td>558</td>\n",
       "      <td>228469</td>\n",
       "      <td>2018-10</td>\n",
       "      <td>Penna Powers</td>\n",
       "      <td>Lieutenant Governor's Office</td>\n",
       "      <td>North America</td>\n",
       "    </tr>\n",
       "  </tbody>\n",
       "</table>\n",
       "</div>"
      ],
      "text/plain": [
       "  Currency Code  Spend  Impressions Start_year_and_month  \\\n",
       "0           USD   4361       397340              2018-10   \n",
       "1           USD     11         3309              2018-09   \n",
       "2           USD    205        31789              2018-10   \n",
       "3           USD    203        94877              2018-09   \n",
       "4           USD    558       228469              2018-10   \n",
       "\n",
       "           OrganizationName          PayingAdvertiserName      Continent  \n",
       "0  Bully Pulpit Interactive               NextGen America  North America  \n",
       "1                   ACRONYM            Our Lives Our Vote  North America  \n",
       "2     Mothership Strategies   Progressive Turnout Project  North America  \n",
       "3          Chong and Koster   Everytown for Gun Safety AF  North America  \n",
       "4             Penna Powers   Lieutenant Governor's Office  North America  "
      ]
     },
     "execution_count": 317,
     "metadata": {},
     "output_type": "execute_result"
    }
   ],
   "source": [
    "# Extract useful columns\n",
    "cleaned6 = combined_data[['Currency Code', 'Spend', 'Impressions', 'Start_year_and_month', 'OrganizationName', 'PayingAdvertiserName', 'Continent']]\n",
    "cleaned6.head()"
   ]
  },
  {
   "cell_type": "code",
   "execution_count": 377,
   "metadata": {},
   "outputs": [],
   "source": [
    "# Putting them together\n",
    "preproc6 = ColumnTransformer(transformers=[('cont', cont_trans, conti),('curr', curr_trans, currency), ('impr', impr_trans, impr), ('org', org_trans, org), ('adver', adver_trans, adver), ('date', date_trans, date)])\n",
    "pl6 = Pipeline(steps=[('preprocessor', preproc6), ('regressor', es.RandomForestRegressor())])"
   ]
  },
  {
   "cell_type": "code",
   "execution_count": 385,
   "metadata": {},
   "outputs": [],
   "source": [
    "# Make Prediction\n",
    "X6 = cleaned6.drop('Spend', axis=1)\n",
    "y6 = cleaned6.Spend\n",
    "\n",
    "# Train-test split and fit\n",
    "X_train6, X_test6, y_train6, y_test6 = train_test_split(X6, y6, test_size=0.25)\n",
    "f6 = pl6.fit(X_train6, y_train6)"
   ]
  },
  {
   "cell_type": "code",
   "execution_count": 362,
   "metadata": {},
   "outputs": [
    {
     "data": {
      "text/plain": [
       "257.25404779756326"
      ]
     },
     "execution_count": 362,
     "metadata": {},
     "output_type": "execute_result"
    }
   ],
   "source": [
    "# Mean absolute error for train data\n",
    "pred6 = pl6.predict(X_train6)\n",
    "scr6 = mean_absolute_error(y_train6, pred6)\n",
    "scr6"
   ]
  },
  {
   "cell_type": "code",
   "execution_count": 350,
   "metadata": {},
   "outputs": [
    {
     "data": {
      "text/plain": [
       "580.3565827196858"
      ]
     },
     "execution_count": 350,
     "metadata": {},
     "output_type": "execute_result"
    }
   ],
   "source": [
    "# Mean absolute error for test data\n",
    "pred_test6 = pl6.predict(X_test6)\n",
    "scr_test6 = mean_absolute_error(y_test6, pred_test6)\n",
    "scr_test6"
   ]
  },
  {
   "cell_type": "markdown",
   "metadata": {},
   "source": [
    "The last model has the lowest mean absolute error, so we use it as our final model."
   ]
  },
  {
   "cell_type": "markdown",
   "metadata": {},
   "source": [
    "### Fairness Evaluation"
   ]
  },
  {
   "cell_type": "code",
   "execution_count": 386,
   "metadata": {},
   "outputs": [],
   "source": [
    "# Split data into two groups based on impressions\n",
    "combined_data['is_large'] = (combined_data.Impressions <= 75000).replace({True:'small', False:'large'})"
   ]
  },
  {
   "cell_type": "code",
   "execution_count": 387,
   "metadata": {},
   "outputs": [
    {
     "data": {
      "text/plain": [
       "array([3304.37,   12.3 ,  186.12, ...,    0.  ,   70.85, 2259.06])"
      ]
     },
     "execution_count": 387,
     "metadata": {},
     "output_type": "execute_result"
    }
   ],
   "source": [
    "# Use final model to make predictions\n",
    "prediction = pl6.predict(X6)\n",
    "prediction"
   ]
  },
  {
   "cell_type": "code",
   "execution_count": 388,
   "metadata": {},
   "outputs": [],
   "source": [
    "# Add a column contains predictions\n",
    "combined_data['prediction'] = prediction"
   ]
  },
  {
   "cell_type": "code",
   "execution_count": 389,
   "metadata": {},
   "outputs": [
    {
     "data": {
      "text/html": [
       "<div>\n",
       "<style scoped>\n",
       "    .dataframe tbody tr th:only-of-type {\n",
       "        vertical-align: middle;\n",
       "    }\n",
       "\n",
       "    .dataframe tbody tr th {\n",
       "        vertical-align: top;\n",
       "    }\n",
       "\n",
       "    .dataframe thead th {\n",
       "        text-align: right;\n",
       "    }\n",
       "</style>\n",
       "<table border=\"1\" class=\"dataframe\">\n",
       "  <thead>\n",
       "    <tr style=\"text-align: right;\">\n",
       "      <th></th>\n",
       "      <th>r2_score</th>\n",
       "    </tr>\n",
       "    <tr>\n",
       "      <th>is_large</th>\n",
       "      <th></th>\n",
       "    </tr>\n",
       "  </thead>\n",
       "  <tbody>\n",
       "    <tr>\n",
       "      <th>large</th>\n",
       "      <td>0.926983</td>\n",
       "    </tr>\n",
       "    <tr>\n",
       "      <th>small</th>\n",
       "      <td>0.898939</td>\n",
       "    </tr>\n",
       "  </tbody>\n",
       "</table>\n",
       "</div>"
      ],
      "text/plain": [
       "          r2_score\n",
       "is_large          \n",
       "large     0.926983\n",
       "small     0.898939"
      ]
     },
     "execution_count": 389,
     "metadata": {},
     "output_type": "execute_result"
    }
   ],
   "source": [
    "# r-2 score for two groups\n",
    "(\n",
    "    combined_data\n",
    "    .groupby('is_large')\n",
    "    .apply(lambda x: metrics.r2_score(x.Spend, x.prediction))\n",
    "    .rename('r2_score')\n",
    "    .to_frame()\n",
    ")"
   ]
  },
  {
   "cell_type": "code",
   "execution_count": 390,
   "metadata": {},
   "outputs": [],
   "source": [
    "# Permutation test\n",
    "obs = combined_data.groupby('is_large').apply(lambda x: metrics.r2_score(x.Spend, x.prediction)).diff().iloc[-1]\n",
    "\n",
    "metrs = []\n",
    "for _ in range(1000):\n",
    "    s = (\n",
    "        combined_data[['is_large', 'prediction', 'Spend']]\n",
    "        .assign(is_large=combined_data.is_large.sample(frac=1.0, replace=False).reset_index(drop=True))\n",
    "        .groupby('is_large')\n",
    "        .apply(lambda x: metrics.r2_score(x.Spend, x.prediction))\n",
    "        .diff()\n",
    "        .iloc[-1]\n",
    "    )\n",
    "    \n",
    "    metrs.append(s)\n"
   ]
  },
  {
   "cell_type": "code",
   "execution_count": 391,
   "metadata": {},
   "outputs": [
    {
     "name": "stdout",
     "output_type": "stream",
     "text": [
      "0.379\n"
     ]
    },
    {
     "data": {
      "image/png": "[encoded data removed]",
      "text/plain": [
       "<Figure size 432x288 with 1 Axes>"
      ]
     },
     "metadata": {
      "image/png": {
       "height": 263,
       "width": 392
      },
      "needs_background": "light"
     },
     "output_type": "display_data"
    }
   ],
   "source": [
    "print(pd.Series(metrs <= obs).mean())\n",
    "pd.Series(metrs).plot(kind='hist', title='Permutation Test for r2-scores across large/small groups')\n",
    "plt.scatter(obs, 0, c='r');"
   ]
  },
  {
   "cell_type": "markdown",
   "metadata": {},
   "source": [
    "Therefore, we cannot reject the null hypothesis. The distributions of r2-scores for large and small groups are similar."
   ]
  }
 ],
 "metadata": {
  "kernelspec": {
   "display_name": "Python 3",
   "language": "python",
   "name": "python3"
  },
  "language_info": {
   "codemirror_mode": {
    "name": "ipython",
    "version": 3
   },
   "file_extension": ".py",
   "mimetype": "text/x-python",
   "name": "python",
   "nbconvert_exporter": "python",
   "pygments_lexer": "ipython3",
   "version": "3.7.6"
  }
 },
 "nbformat": 4,
 "nbformat_minor": 4
}
