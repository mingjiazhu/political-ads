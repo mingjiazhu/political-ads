{
 "cells": [
  {
   "cell_type": "markdown",
   "metadata": {},
   "source": [
    "# Snapchat Political Ads\n",
    "In this project, I work on data analysis and prediction based on snapchat Political Ads dataset."
   ]
  },
  {
   "cell_type": "markdown",
   "metadata": {},
   "source": [
    "# Summary of Findings\n",
    "\n",
    "\n",
    "### Introduction\n",
    "The datasets contains data of political ads that have been served on Snapchat’s Advertising platform in 2018 and 2019. The datasets of both years contain 34 columns, which include comprehensive infomation about political ads, such as spend, start and end date, organization name, advertiser name, and candidate ballot information.  \n",
    "\n",
    "In this project, I answer the following questions: <br>\n",
    "What are the most prevalent organizations, advertisers, and ballot candidates in the data? <br>\n",
    "Are there any of them could be recognized?\n",
    "\n",
    "In order to answer these questions, I search through the datasets to find out related information. I notice that the datasets contain **Impressions**, **OrganizationName**, **PayingAdvertiserName**, and **CandidateBallotInformation** columns. From the data in these columns, I could figure out the most prevalent organization, advertiser, and ballot candidate based on the statistics about impressions. The reason why I utilize impressions to evaluate whether organization, advertiser, and ballot candidate are prevalent is that impressions represent how often the ads are shown. This quantifies the popularity of the ads, so that I could know the prevalence of ads from this information.\n",
    "\n",
    "Then I focus on prediction problem. At here, I try to predict how much was spent on an advertisement. I would like to utilize different features in the dataframe such as **Impressions**, **OrganizationName**, and **PayingAdvertiserName**. By combining these different features, I would like to build regression models in the project, so the problem is regression problem. The target variable is **Spend**. I try to utilize different features in the dataframe to predict the spend of advertisements. For the baseline model, I consider the spend might be related to **Impressions**, **OrganizationName**, and **PayingAdvertiserName**. In the final model, I add more information by engineering features such as **StartDate** and **CountryCode**. \n",
    "\n",
    "Our evaluation metric that is used for two models is mean absolute error. It could help me to clearly see the differences between predictions and actual values. By comparing the mean absolute errors of different models, I could figure out the best model which generates the perdictions that are closest to actual values.\n",
    "\n",
    "\n",
    "### Cleaning and EDA\n",
    "\n",
    "In the cleaning and EDA part, I divides my job into four parts. First, according to the requirement, I should convert **StartDate** and **EndDate** into datetime. However, it is little hard to convert since the data contains Z which is the symbol for time zone. After checking and studying, I utilized pd.to_datetime(utc = True) to convert end date and startdate successfully. I shrink the dataframe and choose the most appropriate columns -- **Impressions**, **OrganizationName**, **PayingAdvertiserName**, and **CandidateBallotInformation**.\n",
    "\n",
    "Second, after cleaning process, I start the Univariate Analysis. In the Univariate Analysis, I utilize histogram to find out the top five organizations, advertisers and candidates based on the their frequency of occurrence in the dataframe. From this analysis, I could know that Unrestricted Minnesota is the most prevalent organization. General Election is the most prevalent candidate. The most prevalent advertiser is also Unrestricted Minnesota. Histogram gives me the most direct view of which thing is prevalent, so I plot histogram to explain the question.\n",
    "\n",
    "Third, after Univariate Analysis, I start to work on Bivariate Analysis. In this type of analysis, I need to find out the relationship between two variables and choose suitable plot. In this part, I try to elucidate the relationship between spend and impressions. I want to figure out whether spend and impression is positive correlation. At here, I use scatter plot to show this relationship. From the result, I find out that spend and impression have positive correlation. I can have a better view of this positive correlation by ploting the linear line in the scatter plot.\n",
    "\n",
    "Lastly, after Bivariate Analysis, I start to work on Interesting Aggregates. In this part, I grouped **CandidateBallotInformation** and **Impressions**. I find out the total impressions for each candidate, and I sort the dataframe. What is more, I follow the same procedure to find out the total impressions for each advertiser.\n",
    "\n",
    "\n",
    "### Assessment of Missingness\n",
    "\n",
    "The missing values in the **EndDate** column are \"Not missing at Random (NMAR).\" The missing values in this column are neither depend on other columns nor miss completely at random; instead, they depend on the value of the variable that's missing. Specifically, some ads miss the end date because they are not end yet. <br>\n",
    "If I add the data of the average lasting time of ads of each organization, missingness of **EndDate** will be MAR because the average lasting time of ads could help me to predict whether the ads is end or not.\n",
    "\n",
    "I also analyze the missingness of **CandidateBallotInformation**. By performing permutation tests, I found out that the missingness depends on **Spend** but not depends on **Segments**. From this I learn that the spends influence the prevalence of ballot candidate while segments do not, which helps us to investigate the question. In our investigation, I focus on data of spend rather than the segments.\n",
    "\n",
    "In addition, I explore the situation that some columns have `NaN` values but may not actually have missing data. <br>\n",
    "Missingness of columns that do not belongs to the scenario of Gender: End Date, CandidateBallotInformation, Regions (Included), Regions (Excluded), Electoral Districts (Included), Electoral Districts (Excluded), Radius Targeting (Included), Radius Targeting (Excluded), Metros (Included), Metros (Excluded), Postal Codes (Included), Postal Codes (Excluded), Location Categories (Included), Location Categories (Excluded), Segments, CreativeProperties. <br>\n",
    "Among these columns, I assess the missingness of **Location Categories (Excluded)**. By performing test, I conclude that the missingness of this column is MAR, and it depends on data of **Location Categories (Included)**\n",
    "\n",
    "\n",
    "### Hypothesis Test\n",
    "Another question I want to figure out is whether there are differences between the spend of advertiser from different countries. To do this, I decide to find out whether the spend of Norway and the spend of Canada has the same distribution. To solve this problem, I utilize permutation test. I set my signiticance level as 0.05, which means if p_value is bigger than 0.05, I cannot reject my null hypothesis. If p_value is smaller than 0.05, then I will reject my hypothesis and prefer the alternative hypothesis.\n",
    "\n",
    "**Null hypothesis**：in the population, spend of canada and norway have the same distribution. <br>\n",
    "**Alternative hypothesis**: in the population, the spend of canada and norway has different distribution. \n",
    "\n",
    "After performing permutation test, I find out the p_value is 0 which is smaller than 0.05, so I reject the null hypothesis.\n",
    "\n",
    "\n",
    "### Baseline Model\n",
    "For the baseline model, I choose three features in the dataset: **Impressions** (quantitative), **OrganizationName** (nominal), and **PayingAdvertiserName** (nominal). I think these features are closely related to the spend of ads. The spends may influence the popularity of ads, which could be reflected by the data of impressions. Also, the organizations and advertisers that posted the ads may impact the spends, since different organizations and individuals spend different amount of money on ads.\n",
    "\n",
    "In this part, I make four predictions. For the first three predictions, I use **Impressions**, **OrganizationName**, and **PayingAdvertiserName** separately to predict spends. I measure the performance by mean absolute error. It turns out that the mean absolute errors of these three predictions were large. Then I use all of the three features above to make the prediction. The performance improve, but still unsatisfactory. Therefore, I think that our model is not good. The features I used are one-sided, because I fail to comprehensively include the influencing factors, such as information about countries and dates.\n",
    "\n",
    "### Final Model\n",
    "In the model, I add **Currency Code**, **StartDate**, **Gender**, **CountryCode**, and **AgeBracket** as new features I utilized and also the combination of these features. For **StartDate**, I utilized feature engineering to extract only year and month from regular StartDate. For **CountryCode**, I utilized feature engineering to classify different countries into different continents, which become easier for me to perform OneHotEncoding. For **AgeBracket**, I utilized feature engineering to caculcate the minimum age of AgeBracket. So far I have not known whether these features are helpful or not. I think these four features are good for data for many reasons. For **Currency Code**, I think the spends has relationship with it since different currency represents different country and I could predict the spends according to the richness of one country. Same mechanism of Currency code works in **CountryCode**. For the **StartDate**, I think different month and year could influence the money that organization spend. For **Gender**, I think the spent money could correlated with gender. \n",
    "\n",
    "The final model is a regression model to predict the spends on ads. In order to figure out the best features, I try five different combinations of features for predictions. First, I utilize the combination of **Impressions**, **OrganizationName**, **PayingAdvertiserName**, and **Currency Code**. The result shows that the currency code feature improves the performace and leads to smaller mean absolute error than the prediction in our baseline model. Same thing happens when I try to use **StartDate** and **CountryCode** -- they could improve the model. However, when I try to use **Gender**, I find out that this feature actually make the model become worse. The mean absolute error is larger than that of baseline model. Therefore, I could conclude that **Gender** is bad for the model and prediciton. Then, same things happens on **AgeBracket** -- it is bad for the model. Last, I combine features that could improve our model -- **Impressions**, **OrganizationName**, **PayingAdvertiserName**, **Currency Code**, **StartDate**, and **CountryCode**. As a result, the combination of these features has the lowest mean absolute error, which is the best for our model.\n",
    "\n",
    "\n",
    "\n",
    "### Fairness Evaluation\n",
    "For this part, I evaluate the fairness of our model by a permutation test. First, I split the data into two groups based on the data in **Impressions**. After getting the median of impressions, I decide to use 75000 as a dividing point. If an ad has more than 75000 impressions, then it belongs to \"large\" group; otherwise, it belongs to \"small\" group. I want to figure out whether the distributions of the r2-scores are similar for large and small groups. The r2-score could help me to determine the prediction that is closest to the actual value.\n",
    "\n",
    "**Null Hypothesis**: The distributions of r2-scores for large and small groups are similar. <br>\n",
    "**Alternative Hypothesis**: No, the distributions of r2-scores for large and small groups are not similar. <br>\n",
    "The significant level is 0.05.\n",
    "\n",
    "Our p-value is around 0.35. Therefore, I cannot reject the null hypothesis. The distributions of r2-scores for large and small groups are similar."
   ]
  },
  {
   "cell_type": "markdown",
   "metadata": {},
   "source": [
    "# Code"
   ]
  },
  {
   "cell_type": "code",
   "execution_count": 12,
   "metadata": {},
   "outputs": [],
   "source": [
    "import matplotlib.pyplot as plt\n",
    "import numpy as np\n",
    "import os\n",
    "import pandas as pd\n",
    "import seaborn as sns\n",
    "%matplotlib inline\n",
    "%config InlineBackend.figure_format = 'retina'  # Higher resolution figures"
   ]
  },
  {
   "cell_type": "code",
   "execution_count": 13,
   "metadata": {},
   "outputs": [],
   "source": [
    "from sklearn.linear_model import LinearRegression\n",
    "from sklearn.metrics import mean_absolute_error\n",
    "from sklearn.preprocessing import FunctionTransformer\n",
    "from sklearn.preprocessing import OneHotEncoder\n",
    "from sklearn.pipeline import Pipeline\n",
    "from sklearn.compose import ColumnTransformer\n",
    "import sklearn.preprocessing as pp\n",
    "import sklearn.tree as tr\n",
    "import sklearn.ensemble as es"
   ]
  },
  {
   "cell_type": "code",
   "execution_count": 14,
   "metadata": {},
   "outputs": [],
   "source": [
    "from sklearn.model_selection import train_test_split\n",
    "from sklearn.neighbors import KNeighborsRegressor\n",
    "from sklearn.model_selection import cross_val_score\n",
    "from sklearn import metrics\n",
    "from sklearn.metrics import mean_absolute_error"
   ]
  },
  {
   "cell_type": "markdown",
   "metadata": {},
   "source": [
    "### Cleaning and EDA"
   ]
  },
  {
   "cell_type": "code",
   "execution_count": 15,
   "metadata": {},
   "outputs": [],
   "source": [
    "# import two dataframe\n",
    "infro2 = os.path.join('data', 'PoliticalAds_2019.csv')\n",
    "df2 = pd.read_csv(infro2)\n",
    "infro1 = os.path.join('data','PoliticalAds_2018.csv')\n",
    "df1 = pd.read_csv(infro1)"
   ]
  },
  {
   "cell_type": "code",
   "execution_count": 16,
   "metadata": {},
   "outputs": [],
   "source": [
    "# combine two dataframe and choose useful column for our question \n",
    "combined_data = pd.concat([df1,df2],axis = 0).reset_index(drop = True)\n",
    "cleaned = combined_data[['Impressions','OrganizationName','CandidateBallotInformation','PayingAdvertiserName']]"
   ]
  },
  {
   "cell_type": "code",
   "execution_count": 17,
   "metadata": {},
   "outputs": [],
   "source": [
    "# clean the data (convert start date and end date)\n",
    "combined_data['StartDate'] = pd.to_datetime(combined_data['StartDate'], utc = True)\n",
    "combined_data['EndDate'] = pd.to_datetime(combined_data['EndDate'], utc = True)"
   ]
  },
  {
   "cell_type": "code",
   "execution_count": 18,
   "metadata": {},
   "outputs": [
    {
     "data": {
      "text/plain": [
       "Text(0.5, 1.0, 'Organizations and Frequency of Occurence')"
      ]
     },
     "execution_count": 18,
     "metadata": {},
     "output_type": "execute_result"
    },
    {
     "data": {
      "image/png": "[encoded data removed]",
      "text/plain": [
       "<Figure size 432x288 with 1 Axes>"
      ]
     },
     "metadata": {
      "image/png": {
       "height": 263,
       "width": 513
      },
      "needs_background": "light"
     },
     "output_type": "display_data"
    }
   ],
   "source": [
    "# frequency distribution table of organization name\n",
    "Popular_Org = pd.DataFrame(cleaned['OrganizationName'].value_counts())\n",
    "\n",
    "# The bar plot of 5 organizations with highest frequency of occurence in \"OrganizationName\" column\n",
    "top_5_Org = Popular_Org.head().sort_values('OrganizationName', ascending = True)\n",
    "Org_plot = top_5_Org.plot.barh()\n",
    "Org_plot.set_title(\"Organizations and Frequency of Occurence\")"
   ]
  },
  {
   "cell_type": "code",
   "execution_count": 19,
   "metadata": {},
   "outputs": [
    {
     "data": {
      "text/plain": [
       "Text(0.5, 1.0, 'Candidates and Frequency of Occurence')"
      ]
     },
     "execution_count": 19,
     "metadata": {},
     "output_type": "execute_result"
    },
    {
     "data": {
      "image/png": "[encoded data removed]",
      "text/plain": [
       "<Figure size 432x288 with 1 Axes>"
      ]
     },
     "metadata": {
      "image/png": {
       "height": 263,
       "width": 460
      },
      "needs_background": "light"
     },
     "output_type": "display_data"
    }
   ],
   "source": [
    "# frequency distribution table of Candidate.\n",
    "Popular_Can = pd.DataFrame(cleaned['CandidateBallotInformation'].value_counts())\n",
    "\n",
    "# The bar plot of 5 organizations with highest frequency of occurence in \"CandidateBallotInformation\" column\n",
    "top_5_Can = Popular_Can.head().sort_values('CandidateBallotInformation', ascending = True)\n",
    "Can_plot = top_5_Can.plot.barh()\n",
    "Can_plot.set_title(\"Candidates and Frequency of Occurence\")"
   ]
  },
  {
   "cell_type": "code",
   "execution_count": 20,
   "metadata": {},
   "outputs": [
    {
     "data": {
      "text/plain": [
       "Text(0.5, 1.0, 'Advertiser and Frequency of Occurence')"
      ]
     },
     "execution_count": 20,
     "metadata": {},
     "output_type": "execute_result"
    },
    {
     "data": {
      "image/png": "[encoded data removed]",
      "text/plain": [
       "<Figure size 432x288 with 1 Axes>"
      ]
     },
     "metadata": {
      "image/png": {
       "height": 263,
       "width": 513
      },
      "needs_background": "light"
     },
     "output_type": "display_data"
    }
   ],
   "source": [
    "# frequency distribution table of Advertiser\n",
    "Popular_Ad = pd.DataFrame(cleaned['PayingAdvertiserName'].value_counts())\n",
    "\n",
    "# The bar plot of 5 organizations with highest frequency of occurence in \"PayingAdvertiserName\" column\n",
    "top_5_Ad = Popular_Ad.head().sort_values('PayingAdvertiserName', ascending = True)\n",
    "Can_plot = top_5_Ad.plot.barh()\n",
    "Can_plot.set_title(\"Advertiser and Frequency of Occurence\")"
   ]
  },
  {
   "cell_type": "code",
   "execution_count": 21,
   "metadata": {},
   "outputs": [
    {
     "data": {
      "text/plain": [
       "<seaborn.axisgrid.FacetGrid at 0x7fc6d88e0310>"
      ]
     },
     "execution_count": 21,
     "metadata": {},
     "output_type": "execute_result"
    },
    {
     "data": {
      "image/png": "[encoded data removed]",
      "text/plain": [
       "<Figure size 360x360 with 1 Axes>"
      ]
     },
     "metadata": {
      "image/png": {
       "height": 351,
       "width": 352
      },
      "needs_background": "light"
     },
     "output_type": "display_data"
    }
   ],
   "source": [
    "combined_data.columns\n",
    "cleaned = cleaned.assign(Spend = combined_data['Spend'])\n",
    "#cleaned.plot(kind = 'scatter', x = 'Spend', y = 'Impressions')\n",
    "sns.lmplot(x='Spend',y='Impressions',data=cleaned,fit_reg=True) "
   ]
  },
  {
   "cell_type": "code",
   "execution_count": 22,
   "metadata": {},
   "outputs": [],
   "source": [
    "# calculate the impressions relate to Candidate in the dataframe\n",
    "impression_Can = pd.DataFrame(cleaned.groupby('CandidateBallotInformation')['Impressions'].sum().sort_values(ascending = False))\n",
    "\n",
    "# calculate the impressions relate to Advertiser\n",
    "impression_Ad = pd.DataFrame(cleaned.groupby('PayingAdvertiserName')['Impressions'].sum().sort_values(ascending = False))"
   ]
  },
  {
   "cell_type": "markdown",
   "metadata": {},
   "source": [
    "### Assessment of Missingness"
   ]
  },
  {
   "cell_type": "markdown",
   "metadata": {},
   "source": [
    "Assessment of the relationship between missingness of **CandidateBallotInformation** and the data in **Spend** column:"
   ]
  },
  {
   "cell_type": "code",
   "execution_count": 23,
   "metadata": {},
   "outputs": [],
   "source": [
    "from scipy.stats import ks_2samp"
   ]
  },
  {
   "cell_type": "code",
   "execution_count": 24,
   "metadata": {},
   "outputs": [],
   "source": [
    "#Select two columns in the dataframe; create a new column which contains boolean values that represent \n",
    "#whether the 'CandidateBallotInformation' is null\n",
    "data = combined_data\n",
    "d = data[['Spend', 'CandidateBallotInformation']]\n",
    "d1 = d.assign(IS_NULL = d['CandidateBallotInformation'].isna())"
   ]
  },
  {
   "cell_type": "code",
   "execution_count": 25,
   "metadata": {},
   "outputs": [
    {
     "data": {
      "text/plain": [
       "0.11814067347926333"
      ]
     },
     "execution_count": 25,
     "metadata": {},
     "output_type": "execute_result"
    }
   ],
   "source": [
    "#Get observed data by KS statistic\n",
    "gp1 = d1.loc[d1['IS_NULL'] == True, 'Spend']\n",
    "gp2 = d1.loc[d1['IS_NULL'] == False, 'Spend']\n",
    "obs_spend = ks_2samp(gp1, gp2).statistic\n",
    "obs_spend"
   ]
  },
  {
   "cell_type": "code",
   "execution_count": 26,
   "metadata": {},
   "outputs": [
    {
     "data": {
      "text/plain": [
       "Text(0.5, 1.0, 'The relationship between missingness of CandidateBallotInformation and the data in Spend')"
      ]
     },
     "execution_count": 26,
     "metadata": {},
     "output_type": "execute_result"
    },
    {
     "data": {
      "image/png": "[encoded data removed]",
      "text/plain": [
       "<Figure size 432x288 with 1 Axes>"
      ]
     },
     "metadata": {
      "image/png": {
       "height": 263,
       "width": 565
      },
      "needs_background": "light"
     },
     "output_type": "display_data"
    }
   ],
   "source": [
    "#Perform the permutation test\n",
    "ks_list = []\n",
    "for _ in range(1000):\n",
    "    s = d1['IS_NULL'].sample(replace=False, frac=1).reset_index(drop=True)\n",
    "    shuffled = d1.loc[:, ['Spend', 'CandidateBallotInformation']].assign(IS_NULL=s)\n",
    "    grps = shuffled.groupby('IS_NULL')['Spend']\n",
    "    ks = ks_2samp(grps.get_group(True), grps.get_group(False)).statistic   \n",
    "    ks_list.append(ks)\n",
    "    \n",
    "ks_list = pd.Series(ks_list)\n",
    "pval = (ks_list >= obs_spend).sum() / 1000\n",
    "\n",
    "#Plot the result\n",
    "pd.Series(ks_list).plot(kind='hist', density=True, alpha=0.8, title='p-value: %f' % pval)\n",
    "plt.scatter(obs_spend, 0, color='red', s=40)\n",
    "plt.title('The relationship between missingness of CandidateBallotInformation and the data in Spend')"
   ]
  },
  {
   "cell_type": "markdown",
   "metadata": {},
   "source": [
    "Conclusion: The p value is zero, so we reject the null hypothesis. The missingness of CandidateBallotInformation depends on data in the Spend column."
   ]
  },
  {
   "cell_type": "markdown",
   "metadata": {},
   "source": [
    "Assessment of the relationship between missingness of **CandidateBallotInformation** and the data in **Segments** column:"
   ]
  },
  {
   "cell_type": "code",
   "execution_count": 27,
   "metadata": {},
   "outputs": [],
   "source": [
    "#Helper method to get the tvd\n",
    "def tvd_of_groups(df, col, new_col):\n",
    "    cnts = df.pivot_table(index=col, columns=new_col, aggfunc='size').fillna(0)\n",
    "    distr = cnts.apply(lambda x: x / x.sum())   \n",
    "    return distr.diff(axis=1).iloc[:,-1].abs().sum() / 2  "
   ]
  },
  {
   "cell_type": "code",
   "execution_count": 28,
   "metadata": {},
   "outputs": [
    {
     "data": {
      "text/plain": [
       "Text(0.5, 1.0, 'The relationship between missingness of CandidateBallotInformation and the data in Segments')"
      ]
     },
     "execution_count": 28,
     "metadata": {},
     "output_type": "execute_result"
    },
    {
     "data": {
      "image/png": "[encoded data removed]",
      "text/plain": [
       "<Figure size 432x288 with 1 Axes>"
      ]
     },
     "metadata": {
      "image/png": {
       "height": 263,
       "width": 588
      },
      "needs_background": "light"
     },
     "output_type": "display_data"
    }
   ],
   "source": [
    "#Select two columns in the dataframe; create a new column which contains boolean values that represent \n",
    "#whether the 'CandidateBallotInformation' is null\n",
    "d = data[['Segments', 'CandidateBallotInformation']]\n",
    "d1 = d.assign(IS_NULL = d['CandidateBallotInformation'].isna())\n",
    "\n",
    "#Get the observed data\n",
    "obs = tvd_of_groups(d1, 'Segments', 'IS_NULL')\n",
    "\n",
    "#Perform permutation test\n",
    "tvds = []\n",
    "for _ in range(1000):\n",
    "    s = d1['IS_NULL'].sample(replace=False, frac=1).reset_index(drop=True)\n",
    "    shuffled = d1.loc[:, ['Segments', 'CandidateBallotInformation']].assign(IS_NULL=s)\n",
    "    tvds.append(tvd_of_groups(shuffled, 'Segments', 'IS_NULL'))\n",
    "tvds = pd.Series(tvds)\n",
    "pval = (tvds >= obs).sum() / 1000\n",
    "pval \n",
    "\n",
    "#Plot the result\n",
    "pd.Series(ks_list).plot(kind='hist', density=True, alpha=0.8, title='p-value: %f' % pval)\n",
    "plt.scatter(obs, 0, color='red', s=40)\n",
    "plt.title('The relationship between missingness of CandidateBallotInformation and the data in Segments')"
   ]
  },
  {
   "cell_type": "markdown",
   "metadata": {},
   "source": [
    "Conclusion: The p value is 1, so we cannot reject the null hypothesis. The missingness of CandidateBallotInformation depends on data in the Segments column."
   ]
  },
  {
   "cell_type": "markdown",
   "metadata": {},
   "source": [
    "Assessment of the relationship between missingness of **Location Categories (Excluded)** and the data in **Location Categories (Included)** column:"
   ]
  },
  {
   "cell_type": "code",
   "execution_count": 29,
   "metadata": {},
   "outputs": [
    {
     "data": {
      "text/plain": [
       "Text(0.5, 1.0, 'The relationship between missingness of Location Categories (Excluded) and the data in Location Categories (Included) column')"
      ]
     },
     "execution_count": 29,
     "metadata": {},
     "output_type": "execute_result"
    },
    {
     "data": {
      "image/png": "[encoded data removed]",
      "text/plain": [
       "<Figure size 432x288 with 1 Axes>"
      ]
     },
     "metadata": {
      "image/png": {
       "height": 263,
       "width": 782
      },
      "needs_background": "light"
     },
     "output_type": "display_data"
    }
   ],
   "source": [
    "#Select two columns in the dataframe; create a new column which contains boolean values that represent \n",
    "#whether the 'Location Categories (Excluded)' is null\n",
    "d = data[['Location Categories (Included)', 'Location Categories (Excluded)']]\n",
    "d2 = d.assign(IS_NULL = d['Location Categories (Excluded)'].isna())\n",
    "\n",
    "#Get observed data\n",
    "obs_loca = tvd_of_groups(d2, 'Location Categories (Included)', 'IS_NULL')\n",
    "\n",
    "#Perform permutation test\n",
    "tvds_loca = []\n",
    "for _ in range(1000):\n",
    "    s = d2['IS_NULL'].sample(replace=False, frac=1).reset_index(drop=True)\n",
    "    shuffled = d2.loc[:, ['Location Categories (Included)', 'Location Categories (Excluded)']].assign(IS_NULL=s)\n",
    "    tvds_loca.append(tvd_of_groups(shuffled, 'Location Categories (Included)', 'IS_NULL'))\n",
    "tvds_loca = pd.Series(tvds_loca)\n",
    "pval = (tvds_loca >= obs_loca).sum() / 1000\n",
    "pval \n",
    "\n",
    "#Plot the result\n",
    "pd.Series(ks_list).plot(kind='hist', density=True, alpha=0.8, title='p-value: %f' % pval)\n",
    "plt.scatter(obs_loca, 0, color='red', s=40)\n",
    "plt.title('The relationship between missingness of Location Categories (Excluded) and the data in Location Categories (Included) column')"
   ]
  },
  {
   "cell_type": "markdown",
   "metadata": {},
   "source": [
    "Conclusion: The p value is 0, so we reject the null hypothesis. The missingness of Location Categories (Excluded) depends on data in the Location Categories (Included) column. So missingness of Location Categories (Excluded) is MAR."
   ]
  },
  {
   "cell_type": "code",
   "execution_count": null,
   "metadata": {},
   "outputs": [],
   "source": []
  },
  {
   "cell_type": "markdown",
   "metadata": {},
   "source": [
    "### Hypothesis Test"
   ]
  },
  {
   "cell_type": "markdown",
   "metadata": {},
   "source": [
    "After solving the first question, I am interested in another question. I want to find out whether the spend of Norway and the spend of Canada has the same distribution. To solve this problem, I will utilize permutation test below."
   ]
  },
  {
   "cell_type": "code",
   "execution_count": 30,
   "metadata": {
    "ExecuteTime": {
     "end_time": "2019-10-31T23:36:28.666489Z",
     "start_time": "2019-10-31T23:36:28.664381Z"
    }
   },
   "outputs": [
    {
     "data": {
      "text/html": [
       "<div>\n",
       "<style scoped>\n",
       "    .dataframe tbody tr th:only-of-type {\n",
       "        vertical-align: middle;\n",
       "    }\n",
       "\n",
       "    .dataframe tbody tr th {\n",
       "        vertical-align: top;\n",
       "    }\n",
       "\n",
       "    .dataframe thead th {\n",
       "        text-align: right;\n",
       "    }\n",
       "</style>\n",
       "<table border=\"1\" class=\"dataframe\">\n",
       "  <thead>\n",
       "    <tr style=\"text-align: right;\">\n",
       "      <th></th>\n",
       "      <th>ADID</th>\n",
       "      <th>CreativeUrl</th>\n",
       "      <th>Currency Code</th>\n",
       "      <th>Spend</th>\n",
       "      <th>Impressions</th>\n",
       "      <th>StartDate</th>\n",
       "      <th>EndDate</th>\n",
       "      <th>OrganizationName</th>\n",
       "      <th>BillingAddress</th>\n",
       "      <th>CandidateBallotInformation</th>\n",
       "      <th>...</th>\n",
       "      <th>Location Categories (Included)</th>\n",
       "      <th>Location Categories (Excluded)</th>\n",
       "      <th>Interests</th>\n",
       "      <th>OsType</th>\n",
       "      <th>Segments</th>\n",
       "      <th>Language</th>\n",
       "      <th>AdvancedDemographics</th>\n",
       "      <th>Targeting Connection Type</th>\n",
       "      <th>Targeting Carrier (ISP)</th>\n",
       "      <th>CreativeProperties</th>\n",
       "    </tr>\n",
       "  </thead>\n",
       "  <tbody>\n",
       "    <tr>\n",
       "      <th>7</th>\n",
       "      <td>7dba1320224bb29bdd58d4fd4a42d0f5473132beff36b2...</td>\n",
       "      <td>https://www.snap.com/political-ads/asset/81c5d...</td>\n",
       "      <td>CAD</td>\n",
       "      <td>141</td>\n",
       "      <td>86455</td>\n",
       "      <td>2018-07-20 23:09:54+00:00</td>\n",
       "      <td>2018-09-04 03:59:00+00:00</td>\n",
       "      <td>The Aber Group</td>\n",
       "      <td>202-120 Eglinton Avenue East,Toronto,M4P1E2,CA</td>\n",
       "      <td>NaN</td>\n",
       "      <td>...</td>\n",
       "      <td>NaN</td>\n",
       "      <td>NaN</td>\n",
       "      <td>NaN</td>\n",
       "      <td>NaN</td>\n",
       "      <td>NaN</td>\n",
       "      <td>en</td>\n",
       "      <td>NaN</td>\n",
       "      <td>NaN</td>\n",
       "      <td>NaN</td>\n",
       "      <td>web_view_url:https://plancanada.ca/ChangeTheBi...</td>\n",
       "    </tr>\n",
       "    <tr>\n",
       "      <th>51</th>\n",
       "      <td>c7f0cdfd1c43a887a7cdeaa466af9911c539840885ed99...</td>\n",
       "      <td>https://www.snap.com/political-ads/asset/2109a...</td>\n",
       "      <td>CAD</td>\n",
       "      <td>4580</td>\n",
       "      <td>4289009</td>\n",
       "      <td>2018-10-05 11:47:17+00:00</td>\n",
       "      <td>2018-11-13 05:00:21+00:00</td>\n",
       "      <td>The Aber Group</td>\n",
       "      <td>202-120 Eglinton Avenue East,Toronto,M4P1E2,CA</td>\n",
       "      <td>NaN</td>\n",
       "      <td>...</td>\n",
       "      <td>NaN</td>\n",
       "      <td>NaN</td>\n",
       "      <td>Arts &amp; Culture Mavens,Beauty Mavens,Bookworms ...</td>\n",
       "      <td>NaN</td>\n",
       "      <td>Provided by Advertiser</td>\n",
       "      <td>en</td>\n",
       "      <td>NaN</td>\n",
       "      <td>NaN</td>\n",
       "      <td>NaN</td>\n",
       "      <td>NaN</td>\n",
       "    </tr>\n",
       "    <tr>\n",
       "      <th>69</th>\n",
       "      <td>3a7afda338ff52eb953e970bc996b9c0e85fecd334da31...</td>\n",
       "      <td>https://www.snap.com/political-ads/asset/bf742...</td>\n",
       "      <td>CAD</td>\n",
       "      <td>593</td>\n",
       "      <td>359611</td>\n",
       "      <td>2018-07-20 23:09:54+00:00</td>\n",
       "      <td>2018-09-04 03:59:00+00:00</td>\n",
       "      <td>The Aber Group</td>\n",
       "      <td>202-120 Eglinton Avenue East,Toronto,M4P1E2,CA</td>\n",
       "      <td>NaN</td>\n",
       "      <td>...</td>\n",
       "      <td>NaN</td>\n",
       "      <td>NaN</td>\n",
       "      <td>Arts &amp; Culture Mavens,Green Living Enthusiasts...</td>\n",
       "      <td>NaN</td>\n",
       "      <td>NaN</td>\n",
       "      <td>en</td>\n",
       "      <td>NaN</td>\n",
       "      <td>NaN</td>\n",
       "      <td>NaN</td>\n",
       "      <td>web_view_url:https://plancanada.ca/ChangeTheBi...</td>\n",
       "    </tr>\n",
       "    <tr>\n",
       "      <th>87</th>\n",
       "      <td>c5e9d3620ef2235d04d9822049ba736db4d99feca8327e...</td>\n",
       "      <td>https://www.snap.com/political-ads/asset/488c5...</td>\n",
       "      <td>CAD</td>\n",
       "      <td>727</td>\n",
       "      <td>215743</td>\n",
       "      <td>2018-06-25 21:13:14+00:00</td>\n",
       "      <td>2018-09-15 04:00:00+00:00</td>\n",
       "      <td>The Aber Group</td>\n",
       "      <td>202-120 Eglinton Avenue East,Toronto,M4P1E2,CA</td>\n",
       "      <td>NaN</td>\n",
       "      <td>...</td>\n",
       "      <td>NaN</td>\n",
       "      <td>NaN</td>\n",
       "      <td>NaN</td>\n",
       "      <td>NaN</td>\n",
       "      <td>NaN</td>\n",
       "      <td>en</td>\n",
       "      <td>NaN</td>\n",
       "      <td>NaN</td>\n",
       "      <td>NaN</td>\n",
       "      <td>web_view_url:https://plancanada.ca/ChangeTheBi...</td>\n",
       "    </tr>\n",
       "    <tr>\n",
       "      <th>102</th>\n",
       "      <td>a2e6458100a6c1b348c7ed43d5fe434316429cd9063468...</td>\n",
       "      <td>https://www.snap.com/political-ads/asset/779b8...</td>\n",
       "      <td>EUR</td>\n",
       "      <td>200</td>\n",
       "      <td>249707</td>\n",
       "      <td>2018-11-01 15:15:30+00:00</td>\n",
       "      <td>2018-11-05 15:13:24+00:00</td>\n",
       "      <td>Norsk Studentorganisasjon</td>\n",
       "      <td>NO</td>\n",
       "      <td>NaN</td>\n",
       "      <td>...</td>\n",
       "      <td>NaN</td>\n",
       "      <td>NaN</td>\n",
       "      <td>NaN</td>\n",
       "      <td>NaN</td>\n",
       "      <td>Provided by Advertiser</td>\n",
       "      <td>NaN</td>\n",
       "      <td>NaN</td>\n",
       "      <td>NaN</td>\n",
       "      <td>NaN</td>\n",
       "      <td>web_view_url:https://bevarstipendet.no/</td>\n",
       "    </tr>\n",
       "    <tr>\n",
       "      <th>...</th>\n",
       "      <td>...</td>\n",
       "      <td>...</td>\n",
       "      <td>...</td>\n",
       "      <td>...</td>\n",
       "      <td>...</td>\n",
       "      <td>...</td>\n",
       "      <td>...</td>\n",
       "      <td>...</td>\n",
       "      <td>...</td>\n",
       "      <td>...</td>\n",
       "      <td>...</td>\n",
       "      <td>...</td>\n",
       "      <td>...</td>\n",
       "      <td>...</td>\n",
       "      <td>...</td>\n",
       "      <td>...</td>\n",
       "      <td>...</td>\n",
       "      <td>...</td>\n",
       "      <td>...</td>\n",
       "      <td>...</td>\n",
       "      <td>...</td>\n",
       "    </tr>\n",
       "    <tr>\n",
       "      <th>4249</th>\n",
       "      <td>ea249bdacfe3c9d91c0ff5b244a69943ecaa24419821be...</td>\n",
       "      <td>https://www.snap.com/political-ads/asset/2ead2...</td>\n",
       "      <td>GBP</td>\n",
       "      <td>73</td>\n",
       "      <td>33765</td>\n",
       "      <td>2019-08-21 05:00:00+00:00</td>\n",
       "      <td>2019-09-16 21:59:00+00:00</td>\n",
       "      <td>NHO</td>\n",
       "      <td>Postboks 5250 Majorstuen,Oslo,0303,NO</td>\n",
       "      <td>NaN</td>\n",
       "      <td>...</td>\n",
       "      <td>NaN</td>\n",
       "      <td>NaN</td>\n",
       "      <td>NaN</td>\n",
       "      <td>NaN</td>\n",
       "      <td>Provided by Advertiser</td>\n",
       "      <td>NaN</td>\n",
       "      <td>NaN</td>\n",
       "      <td>NaN</td>\n",
       "      <td>NaN</td>\n",
       "      <td>NaN</td>\n",
       "    </tr>\n",
       "    <tr>\n",
       "      <th>4253</th>\n",
       "      <td>82c9e1b74ba59dc38784dde94a371c6914c0f9a466ccac...</td>\n",
       "      <td>https://www.snap.com/political-ads/asset/1e767...</td>\n",
       "      <td>CAD</td>\n",
       "      <td>452</td>\n",
       "      <td>274445</td>\n",
       "      <td>2019-06-04 21:25:55+00:00</td>\n",
       "      <td>2019-08-08 06:59:59+00:00</td>\n",
       "      <td>The Aber Group</td>\n",
       "      <td>202-120 Eglinton Avenue East,Toronto,M4P1E2,CA</td>\n",
       "      <td>NaN</td>\n",
       "      <td>...</td>\n",
       "      <td>NaN</td>\n",
       "      <td>NaN</td>\n",
       "      <td>Advocates &amp; Activists,Beauty Mavens,Fashion &amp; ...</td>\n",
       "      <td>NaN</td>\n",
       "      <td>NaN</td>\n",
       "      <td>en</td>\n",
       "      <td>NaN</td>\n",
       "      <td>NaN</td>\n",
       "      <td>NaN</td>\n",
       "      <td>NaN</td>\n",
       "    </tr>\n",
       "    <tr>\n",
       "      <th>4258</th>\n",
       "      <td>9835e3a460b0db7ce619372e5f446418706564e772a4d8...</td>\n",
       "      <td>https://www.snap.com/political-ads/asset/9614b...</td>\n",
       "      <td>CAD</td>\n",
       "      <td>2200</td>\n",
       "      <td>926029</td>\n",
       "      <td>2019-03-23 19:22:11+00:00</td>\n",
       "      <td>2019-04-09 01:00:00+00:00</td>\n",
       "      <td>DDB Edmonton Media</td>\n",
       "      <td>Suite 1900, 10025 - 102A Avenue,Edmonton,T5J 2...</td>\n",
       "      <td>NaN</td>\n",
       "      <td>...</td>\n",
       "      <td>NaN</td>\n",
       "      <td>NaN</td>\n",
       "      <td>NaN</td>\n",
       "      <td>NaN</td>\n",
       "      <td>Provided by Advertiser</td>\n",
       "      <td>en</td>\n",
       "      <td>NaN</td>\n",
       "      <td>NaN</td>\n",
       "      <td>NaN</td>\n",
       "      <td>web_view_url:https://specialballot.elections.a...</td>\n",
       "    </tr>\n",
       "    <tr>\n",
       "      <th>4266</th>\n",
       "      <td>5bb43730c1f4b3fe4b25b1852c6149980335c2de3ff0f6...</td>\n",
       "      <td>https://www.snap.com/political-ads/asset/ef96c...</td>\n",
       "      <td>EUR</td>\n",
       "      <td>70</td>\n",
       "      <td>32192</td>\n",
       "      <td>2019-10-28 10:30:00+00:00</td>\n",
       "      <td>2019-11-04 17:00:00+00:00</td>\n",
       "      <td>T/A Opt</td>\n",
       "      <td>Øvre Slottsgate 8,Oslo,0157,NO</td>\n",
       "      <td>NaN</td>\n",
       "      <td>...</td>\n",
       "      <td>NaN</td>\n",
       "      <td>NaN</td>\n",
       "      <td>Do-It-Yourselfers,Investors &amp; Entrepreneurs</td>\n",
       "      <td>NaN</td>\n",
       "      <td>Provided by Advertiser</td>\n",
       "      <td>NaN</td>\n",
       "      <td>NaN</td>\n",
       "      <td>NaN</td>\n",
       "      <td>NaN</td>\n",
       "      <td>web_view_url:https://www.fagforbundet.no/yrke/...</td>\n",
       "    </tr>\n",
       "    <tr>\n",
       "      <th>4267</th>\n",
       "      <td>ce4196886a1f78a6e6b5c9af07a3faaffa651afb5d2622...</td>\n",
       "      <td>https://www.snap.com/political-ads/asset/36aff...</td>\n",
       "      <td>EUR</td>\n",
       "      <td>817</td>\n",
       "      <td>1788813</td>\n",
       "      <td>2019-09-23 08:19:57+00:00</td>\n",
       "      <td>2019-10-20 20:20:22+00:00</td>\n",
       "      <td>DNB Bank ASA</td>\n",
       "      <td>Dronning Eufemias Gate 30,Oslo,0191,NO</td>\n",
       "      <td>NaN</td>\n",
       "      <td>...</td>\n",
       "      <td>NaN</td>\n",
       "      <td>NaN</td>\n",
       "      <td>NaN</td>\n",
       "      <td>NaN</td>\n",
       "      <td>Provided by Advertiser</td>\n",
       "      <td>NaN</td>\n",
       "      <td>NaN</td>\n",
       "      <td>NaN</td>\n",
       "      <td>NaN</td>\n",
       "      <td>NaN</td>\n",
       "    </tr>\n",
       "  </tbody>\n",
       "</table>\n",
       "<p>848 rows × 34 columns</p>\n",
       "</div>"
      ],
      "text/plain": [
       "                                                   ADID  \\\n",
       "7     7dba1320224bb29bdd58d4fd4a42d0f5473132beff36b2...   \n",
       "51    c7f0cdfd1c43a887a7cdeaa466af9911c539840885ed99...   \n",
       "69    3a7afda338ff52eb953e970bc996b9c0e85fecd334da31...   \n",
       "87    c5e9d3620ef2235d04d9822049ba736db4d99feca8327e...   \n",
       "102   a2e6458100a6c1b348c7ed43d5fe434316429cd9063468...   \n",
       "...                                                 ...   \n",
       "4249  ea249bdacfe3c9d91c0ff5b244a69943ecaa24419821be...   \n",
       "4253  82c9e1b74ba59dc38784dde94a371c6914c0f9a466ccac...   \n",
       "4258  9835e3a460b0db7ce619372e5f446418706564e772a4d8...   \n",
       "4266  5bb43730c1f4b3fe4b25b1852c6149980335c2de3ff0f6...   \n",
       "4267  ce4196886a1f78a6e6b5c9af07a3faaffa651afb5d2622...   \n",
       "\n",
       "                                            CreativeUrl Currency Code  Spend  \\\n",
       "7     https://www.snap.com/political-ads/asset/81c5d...           CAD    141   \n",
       "51    https://www.snap.com/political-ads/asset/2109a...           CAD   4580   \n",
       "69    https://www.snap.com/political-ads/asset/bf742...           CAD    593   \n",
       "87    https://www.snap.com/political-ads/asset/488c5...           CAD    727   \n",
       "102   https://www.snap.com/political-ads/asset/779b8...           EUR    200   \n",
       "...                                                 ...           ...    ...   \n",
       "4249  https://www.snap.com/political-ads/asset/2ead2...           GBP     73   \n",
       "4253  https://www.snap.com/political-ads/asset/1e767...           CAD    452   \n",
       "4258  https://www.snap.com/political-ads/asset/9614b...           CAD   2200   \n",
       "4266  https://www.snap.com/political-ads/asset/ef96c...           EUR     70   \n",
       "4267  https://www.snap.com/political-ads/asset/36aff...           EUR    817   \n",
       "\n",
       "      Impressions                 StartDate                   EndDate  \\\n",
       "7           86455 2018-07-20 23:09:54+00:00 2018-09-04 03:59:00+00:00   \n",
       "51        4289009 2018-10-05 11:47:17+00:00 2018-11-13 05:00:21+00:00   \n",
       "69         359611 2018-07-20 23:09:54+00:00 2018-09-04 03:59:00+00:00   \n",
       "87         215743 2018-06-25 21:13:14+00:00 2018-09-15 04:00:00+00:00   \n",
       "102        249707 2018-11-01 15:15:30+00:00 2018-11-05 15:13:24+00:00   \n",
       "...           ...                       ...                       ...   \n",
       "4249        33765 2019-08-21 05:00:00+00:00 2019-09-16 21:59:00+00:00   \n",
       "4253       274445 2019-06-04 21:25:55+00:00 2019-08-08 06:59:59+00:00   \n",
       "4258       926029 2019-03-23 19:22:11+00:00 2019-04-09 01:00:00+00:00   \n",
       "4266        32192 2019-10-28 10:30:00+00:00 2019-11-04 17:00:00+00:00   \n",
       "4267      1788813 2019-09-23 08:19:57+00:00 2019-10-20 20:20:22+00:00   \n",
       "\n",
       "               OrganizationName  \\\n",
       "7                The Aber Group   \n",
       "51               The Aber Group   \n",
       "69               The Aber Group   \n",
       "87               The Aber Group   \n",
       "102   Norsk Studentorganisasjon   \n",
       "...                         ...   \n",
       "4249                        NHO   \n",
       "4253             The Aber Group   \n",
       "4258         DDB Edmonton Media   \n",
       "4266                   T/A Opt    \n",
       "4267               DNB Bank ASA   \n",
       "\n",
       "                                         BillingAddress  \\\n",
       "7        202-120 Eglinton Avenue East,Toronto,M4P1E2,CA   \n",
       "51       202-120 Eglinton Avenue East,Toronto,M4P1E2,CA   \n",
       "69       202-120 Eglinton Avenue East,Toronto,M4P1E2,CA   \n",
       "87       202-120 Eglinton Avenue East,Toronto,M4P1E2,CA   \n",
       "102                                                  NO   \n",
       "...                                                 ...   \n",
       "4249              Postboks 5250 Majorstuen,Oslo,0303,NO   \n",
       "4253     202-120 Eglinton Avenue East,Toronto,M4P1E2,CA   \n",
       "4258  Suite 1900, 10025 - 102A Avenue,Edmonton,T5J 2...   \n",
       "4266                     Øvre Slottsgate 8,Oslo,0157,NO   \n",
       "4267             Dronning Eufemias Gate 30,Oslo,0191,NO   \n",
       "\n",
       "     CandidateBallotInformation  ... Location Categories (Included)  \\\n",
       "7                           NaN  ...                            NaN   \n",
       "51                          NaN  ...                            NaN   \n",
       "69                          NaN  ...                            NaN   \n",
       "87                          NaN  ...                            NaN   \n",
       "102                         NaN  ...                            NaN   \n",
       "...                         ...  ...                            ...   \n",
       "4249                        NaN  ...                            NaN   \n",
       "4253                        NaN  ...                            NaN   \n",
       "4258                        NaN  ...                            NaN   \n",
       "4266                        NaN  ...                            NaN   \n",
       "4267                        NaN  ...                            NaN   \n",
       "\n",
       "     Location Categories (Excluded)  \\\n",
       "7                               NaN   \n",
       "51                              NaN   \n",
       "69                              NaN   \n",
       "87                              NaN   \n",
       "102                             NaN   \n",
       "...                             ...   \n",
       "4249                            NaN   \n",
       "4253                            NaN   \n",
       "4258                            NaN   \n",
       "4266                            NaN   \n",
       "4267                            NaN   \n",
       "\n",
       "                                              Interests OsType  \\\n",
       "7                                                   NaN    NaN   \n",
       "51    Arts & Culture Mavens,Beauty Mavens,Bookworms ...    NaN   \n",
       "69    Arts & Culture Mavens,Green Living Enthusiasts...    NaN   \n",
       "87                                                  NaN    NaN   \n",
       "102                                                 NaN    NaN   \n",
       "...                                                 ...    ...   \n",
       "4249                                                NaN    NaN   \n",
       "4253  Advocates & Activists,Beauty Mavens,Fashion & ...    NaN   \n",
       "4258                                                NaN    NaN   \n",
       "4266        Do-It-Yourselfers,Investors & Entrepreneurs    NaN   \n",
       "4267                                                NaN    NaN   \n",
       "\n",
       "                    Segments Language AdvancedDemographics  \\\n",
       "7                        NaN       en                  NaN   \n",
       "51    Provided by Advertiser       en                  NaN   \n",
       "69                       NaN       en                  NaN   \n",
       "87                       NaN       en                  NaN   \n",
       "102   Provided by Advertiser      NaN                  NaN   \n",
       "...                      ...      ...                  ...   \n",
       "4249  Provided by Advertiser      NaN                  NaN   \n",
       "4253                     NaN       en                  NaN   \n",
       "4258  Provided by Advertiser       en                  NaN   \n",
       "4266  Provided by Advertiser      NaN                  NaN   \n",
       "4267  Provided by Advertiser      NaN                  NaN   \n",
       "\n",
       "      Targeting Connection Type Targeting Carrier (ISP)  \\\n",
       "7                           NaN                     NaN   \n",
       "51                          NaN                     NaN   \n",
       "69                          NaN                     NaN   \n",
       "87                          NaN                     NaN   \n",
       "102                         NaN                     NaN   \n",
       "...                         ...                     ...   \n",
       "4249                        NaN                     NaN   \n",
       "4253                        NaN                     NaN   \n",
       "4258                        NaN                     NaN   \n",
       "4266                        NaN                     NaN   \n",
       "4267                        NaN                     NaN   \n",
       "\n",
       "                                     CreativeProperties  \n",
       "7     web_view_url:https://plancanada.ca/ChangeTheBi...  \n",
       "51                                                  NaN  \n",
       "69    web_view_url:https://plancanada.ca/ChangeTheBi...  \n",
       "87    web_view_url:https://plancanada.ca/ChangeTheBi...  \n",
       "102             web_view_url:https://bevarstipendet.no/  \n",
       "...                                                 ...  \n",
       "4249                                                NaN  \n",
       "4253                                                NaN  \n",
       "4258  web_view_url:https://specialballot.elections.a...  \n",
       "4266  web_view_url:https://www.fagforbundet.no/yrke/...  \n",
       "4267                                                NaN  \n",
       "\n",
       "[848 rows x 34 columns]"
      ]
     },
     "execution_count": 30,
     "metadata": {},
     "output_type": "execute_result"
    }
   ],
   "source": [
    "# choose the dataframe that only contains norway and canada\n",
    "data = combined_data[(combined_data['CountryCode'] == 'norway') | (combined_data['CountryCode'] == 'canada')]\n",
    "data"
   ]
  },
  {
   "cell_type": "code",
   "execution_count": 31,
   "metadata": {
    "scrolled": true
   },
   "outputs": [
    {
     "data": {
      "text/html": [
       "<div>\n",
       "<style scoped>\n",
       "    .dataframe tbody tr th:only-of-type {\n",
       "        vertical-align: middle;\n",
       "    }\n",
       "\n",
       "    .dataframe tbody tr th {\n",
       "        vertical-align: top;\n",
       "    }\n",
       "\n",
       "    .dataframe thead th {\n",
       "        text-align: right;\n",
       "    }\n",
       "</style>\n",
       "<table border=\"1\" class=\"dataframe\">\n",
       "  <thead>\n",
       "    <tr style=\"text-align: right;\">\n",
       "      <th></th>\n",
       "      <th>CountryCode</th>\n",
       "      <th>Spend</th>\n",
       "    </tr>\n",
       "  </thead>\n",
       "  <tbody>\n",
       "    <tr>\n",
       "      <th>0</th>\n",
       "      <td>canada</td>\n",
       "      <td>141</td>\n",
       "    </tr>\n",
       "    <tr>\n",
       "      <th>1</th>\n",
       "      <td>canada</td>\n",
       "      <td>4580</td>\n",
       "    </tr>\n",
       "    <tr>\n",
       "      <th>2</th>\n",
       "      <td>canada</td>\n",
       "      <td>593</td>\n",
       "    </tr>\n",
       "    <tr>\n",
       "      <th>3</th>\n",
       "      <td>canada</td>\n",
       "      <td>727</td>\n",
       "    </tr>\n",
       "    <tr>\n",
       "      <th>4</th>\n",
       "      <td>norway</td>\n",
       "      <td>200</td>\n",
       "    </tr>\n",
       "    <tr>\n",
       "      <th>...</th>\n",
       "      <td>...</td>\n",
       "      <td>...</td>\n",
       "    </tr>\n",
       "    <tr>\n",
       "      <th>843</th>\n",
       "      <td>norway</td>\n",
       "      <td>73</td>\n",
       "    </tr>\n",
       "    <tr>\n",
       "      <th>844</th>\n",
       "      <td>canada</td>\n",
       "      <td>452</td>\n",
       "    </tr>\n",
       "    <tr>\n",
       "      <th>845</th>\n",
       "      <td>canada</td>\n",
       "      <td>2200</td>\n",
       "    </tr>\n",
       "    <tr>\n",
       "      <th>846</th>\n",
       "      <td>norway</td>\n",
       "      <td>70</td>\n",
       "    </tr>\n",
       "    <tr>\n",
       "      <th>847</th>\n",
       "      <td>norway</td>\n",
       "      <td>817</td>\n",
       "    </tr>\n",
       "  </tbody>\n",
       "</table>\n",
       "<p>848 rows × 2 columns</p>\n",
       "</div>"
      ],
      "text/plain": [
       "    CountryCode  Spend\n",
       "0        canada    141\n",
       "1        canada   4580\n",
       "2        canada    593\n",
       "3        canada    727\n",
       "4        norway    200\n",
       "..          ...    ...\n",
       "843      norway     73\n",
       "844      canada    452\n",
       "845      canada   2200\n",
       "846      norway     70\n",
       "847      norway    817\n",
       "\n",
       "[848 rows x 2 columns]"
      ]
     },
     "execution_count": 31,
     "metadata": {},
     "output_type": "execute_result"
    }
   ],
   "source": [
    "# create a new dataframe that only contains the column \"CountryCode\" and the column \"Spend\"\n",
    "test_dataframe = data[['CountryCode','Spend']].reset_index(drop = True)\n",
    "test_dataframe"
   ]
  },
  {
   "cell_type": "code",
   "execution_count": 32,
   "metadata": {},
   "outputs": [
    {
     "data": {
      "text/html": [
       "<div>\n",
       "<style scoped>\n",
       "    .dataframe tbody tr th:only-of-type {\n",
       "        vertical-align: middle;\n",
       "    }\n",
       "\n",
       "    .dataframe tbody tr th {\n",
       "        vertical-align: top;\n",
       "    }\n",
       "\n",
       "    .dataframe thead th {\n",
       "        text-align: right;\n",
       "    }\n",
       "</style>\n",
       "<table border=\"1\" class=\"dataframe\">\n",
       "  <thead>\n",
       "    <tr style=\"text-align: right;\">\n",
       "      <th></th>\n",
       "      <th>Spend</th>\n",
       "    </tr>\n",
       "    <tr>\n",
       "      <th>CountryCode</th>\n",
       "      <th></th>\n",
       "    </tr>\n",
       "  </thead>\n",
       "  <tbody>\n",
       "    <tr>\n",
       "      <th>canada</th>\n",
       "      <td>2180.408521</td>\n",
       "    </tr>\n",
       "    <tr>\n",
       "      <th>norway</th>\n",
       "      <td>760.939866</td>\n",
       "    </tr>\n",
       "  </tbody>\n",
       "</table>\n",
       "</div>"
      ],
      "text/plain": [
       "                   Spend\n",
       "CountryCode             \n",
       "canada       2180.408521\n",
       "norway        760.939866"
      ]
     },
     "execution_count": 32,
     "metadata": {},
     "output_type": "execute_result"
    }
   ],
   "source": [
    "# groupby the dataframe\n",
    "s = test_dataframe.groupby('CountryCode').mean()\n",
    "s"
   ]
  },
  {
   "cell_type": "code",
   "execution_count": 33,
   "metadata": {},
   "outputs": [
    {
     "data": {
      "text/plain": [
       "CountryCode\n",
       "canada    AxesSubplot(0.125,0.125;0.775x0.755)\n",
       "norway    AxesSubplot(0.125,0.125;0.775x0.755)\n",
       "Name: Spend, dtype: object"
      ]
     },
     "execution_count": 33,
     "metadata": {},
     "output_type": "execute_result"
    },
    {
     "data": {
      "image/png": "[encoded data removed]",
      "text/plain": [
       "<Figure size 432x288 with 1 Axes>"
      ]
     },
     "metadata": {
      "image/png": {
       "height": 263,
       "width": 414
      },
      "needs_background": "light"
     },
     "output_type": "display_data"
    }
   ],
   "source": [
    "# from the plot, we can visualize the distribution of two countries\n",
    "\n",
    "title='Spend by cananda and norway'\n",
    "\n",
    "(\n",
    "    test_dataframe\n",
    "    .groupby('CountryCode')['Spend']\n",
    "    .plot(kind='kde', legend=True, subplots=False, title=title)\n",
    ")"
   ]
  },
  {
   "cell_type": "markdown",
   "metadata": {},
   "source": [
    "* Null hypothesis: In the population, spend of canada and norway have the same distribution.\n",
    "I.e., what we saw is due to random chance.\n",
    "* Alternative hypothesis: In the population, the spend of canada and norway has different distribution."
   ]
  },
  {
   "cell_type": "code",
   "execution_count": 34,
   "metadata": {},
   "outputs": [
    {
     "data": {
      "text/plain": [
       "1419.4686549335477"
      ]
     },
     "execution_count": 34,
     "metadata": {},
     "output_type": "execute_result"
    }
   ],
   "source": [
    "# find observe difference of two mean as observe statistic\n",
    "observe_data = s.iloc[0] - s.iloc[1]\n",
    "observe = observe_data[0]\n",
    "observe"
   ]
  },
  {
   "cell_type": "code",
   "execution_count": 35,
   "metadata": {},
   "outputs": [],
   "source": [
    "# simulation \n",
    "results = []\n",
    "n = 1000\n",
    "for i in range(n):\n",
    "    t = test_dataframe['CountryCode'].sample(replace = False, frac = 1).reset_index(drop = True)\n",
    "    test_dataframe['shuffle'] = t\n",
    "    k = test_dataframe.groupby('shuffle').mean()\n",
    "    test_data = (k.iloc[0] - k.iloc[1])[0]\n",
    "    results.append(test_data)"
   ]
  },
  {
   "cell_type": "code",
   "execution_count": 36,
   "metadata": {},
   "outputs": [
    {
     "data": {
      "image/png": "[encoded data removed]",
      "text/plain": [
       "<Figure size 432x288 with 1 Axes>"
      ]
     },
     "metadata": {
      "image/png": {
       "height": 263,
       "width": 411
      },
      "needs_background": "light"
     },
     "output_type": "display_data"
    }
   ],
   "source": [
    "# histogram\n",
    "title = 'average differences in birth weights'\n",
    "pd.Series(results).plot(kind='hist', density=True, title=title)\n",
    "plt.scatter(observe_data, 0, color='red', s=40);"
   ]
  },
  {
   "cell_type": "markdown",
   "metadata": {},
   "source": [
    "In this permutation test, I set out significance level as 0.05"
   ]
  },
  {
   "cell_type": "code",
   "execution_count": 37,
   "metadata": {},
   "outputs": [
    {
     "data": {
      "text/plain": [
       "0"
      ]
     },
     "execution_count": 37,
     "metadata": {},
     "output_type": "execute_result"
    }
   ],
   "source": [
    "# p-value\n",
    "p_value = np.count_nonzero(np.array(results) > observe)\n",
    "p_value"
   ]
  },
  {
   "cell_type": "markdown",
   "metadata": {},
   "source": [
    "From the result of our permutation test, we find out that the p-value is 0 which is smaller that the significance level. Thus, we need to reject the null hypothesis and prefer the alternative hypothesis. The spend of these two countries are not from the same distribution."
   ]
  },
  {
   "cell_type": "markdown",
   "metadata": {},
   "source": [
    "### Baseline Model"
   ]
  },
  {
   "cell_type": "code",
   "execution_count": 38,
   "metadata": {},
   "outputs": [
    {
     "data": {
      "text/html": [
       "<div>\n",
       "<style scoped>\n",
       "    .dataframe tbody tr th:only-of-type {\n",
       "        vertical-align: middle;\n",
       "    }\n",
       "\n",
       "    .dataframe tbody tr th {\n",
       "        vertical-align: top;\n",
       "    }\n",
       "\n",
       "    .dataframe thead th {\n",
       "        text-align: right;\n",
       "    }\n",
       "</style>\n",
       "<table border=\"1\" class=\"dataframe\">\n",
       "  <thead>\n",
       "    <tr style=\"text-align: right;\">\n",
       "      <th></th>\n",
       "      <th>ADID</th>\n",
       "      <th>CreativeUrl</th>\n",
       "      <th>Currency Code</th>\n",
       "      <th>Spend</th>\n",
       "      <th>Impressions</th>\n",
       "      <th>StartDate</th>\n",
       "      <th>EndDate</th>\n",
       "      <th>OrganizationName</th>\n",
       "      <th>BillingAddress</th>\n",
       "      <th>CandidateBallotInformation</th>\n",
       "      <th>...</th>\n",
       "      <th>Location Categories (Included)</th>\n",
       "      <th>Location Categories (Excluded)</th>\n",
       "      <th>Interests</th>\n",
       "      <th>OsType</th>\n",
       "      <th>Segments</th>\n",
       "      <th>Language</th>\n",
       "      <th>AdvancedDemographics</th>\n",
       "      <th>Targeting Connection Type</th>\n",
       "      <th>Targeting Carrier (ISP)</th>\n",
       "      <th>CreativeProperties</th>\n",
       "    </tr>\n",
       "  </thead>\n",
       "  <tbody>\n",
       "    <tr>\n",
       "      <th>0</th>\n",
       "      <td>6bf6eca7297551f35a5d17b478cedb6683a75c2f9b9b00...</td>\n",
       "      <td>https://www.snap.com/political-ads/asset/27e1c...</td>\n",
       "      <td>USD</td>\n",
       "      <td>4361</td>\n",
       "      <td>397340</td>\n",
       "      <td>2018-10-18 15:45:57+00:00</td>\n",
       "      <td>2018-11-06 23:00:00+00:00</td>\n",
       "      <td>Bully Pulpit Interactive</td>\n",
       "      <td>1445 New York Ave NW,Washington,20005,US</td>\n",
       "      <td>NaN</td>\n",
       "      <td>...</td>\n",
       "      <td>NaN</td>\n",
       "      <td>NaN</td>\n",
       "      <td>NaN</td>\n",
       "      <td>NaN</td>\n",
       "      <td>NaN</td>\n",
       "      <td>NaN</td>\n",
       "      <td>NaN</td>\n",
       "      <td>NaN</td>\n",
       "      <td>NaN</td>\n",
       "      <td>NaN</td>\n",
       "    </tr>\n",
       "    <tr>\n",
       "      <th>1</th>\n",
       "      <td>a801fccc059ac401a54ae3bf309f3b2a22c35df0392666...</td>\n",
       "      <td>https://www.snap.com/political-ads/asset/e1b1d...</td>\n",
       "      <td>USD</td>\n",
       "      <td>11</td>\n",
       "      <td>3309</td>\n",
       "      <td>2018-09-25 05:00:00+00:00</td>\n",
       "      <td>2018-09-26 05:00:00+00:00</td>\n",
       "      <td>ACRONYM</td>\n",
       "      <td>US</td>\n",
       "      <td>NaN</td>\n",
       "      <td>...</td>\n",
       "      <td>NaN</td>\n",
       "      <td>NaN</td>\n",
       "      <td>Cordcutters,Yoga Enthusiasts,Vegans &amp; Organic ...</td>\n",
       "      <td>NaN</td>\n",
       "      <td>Provided by Advertiser</td>\n",
       "      <td>NaN</td>\n",
       "      <td>NaN</td>\n",
       "      <td>NaN</td>\n",
       "      <td>NaN</td>\n",
       "      <td>web_view_url:https://ourlivesourvote.com/regis...</td>\n",
       "    </tr>\n",
       "    <tr>\n",
       "      <th>2</th>\n",
       "      <td>a19bd9f5379e7affc4586d26537346142cc3a8a487b3a3...</td>\n",
       "      <td>https://www.snap.com/political-ads/asset/75251...</td>\n",
       "      <td>USD</td>\n",
       "      <td>205</td>\n",
       "      <td>31789</td>\n",
       "      <td>2018-10-30 17:58:01+00:00</td>\n",
       "      <td>2018-11-06 22:59:59+00:00</td>\n",
       "      <td>Mothership Strategies</td>\n",
       "      <td>1328 Florida Avenue NW, Building C, Washington...</td>\n",
       "      <td>NaN</td>\n",
       "      <td>...</td>\n",
       "      <td>NaN</td>\n",
       "      <td>NaN</td>\n",
       "      <td>NaN</td>\n",
       "      <td>NaN</td>\n",
       "      <td>NaN</td>\n",
       "      <td>NaN</td>\n",
       "      <td>NaN</td>\n",
       "      <td>NaN</td>\n",
       "      <td>NaN</td>\n",
       "      <td>web_view_url:http://votingmatters.org/</td>\n",
       "    </tr>\n",
       "    <tr>\n",
       "      <th>3</th>\n",
       "      <td>b30c9d008f67f84a14dbb79166f4f1da04d27bea85b3e4...</td>\n",
       "      <td>https://www.snap.com/political-ads/asset/60ab9...</td>\n",
       "      <td>USD</td>\n",
       "      <td>203</td>\n",
       "      <td>94877</td>\n",
       "      <td>2018-09-28 20:33:08+00:00</td>\n",
       "      <td>NaT</td>\n",
       "      <td>Chong and Koster</td>\n",
       "      <td>1640 Rhode Island Ave. NW, Suite 600,Washingto...</td>\n",
       "      <td>NaN</td>\n",
       "      <td>...</td>\n",
       "      <td>NaN</td>\n",
       "      <td>NaN</td>\n",
       "      <td>NaN</td>\n",
       "      <td>NaN</td>\n",
       "      <td>NaN</td>\n",
       "      <td>en</td>\n",
       "      <td>NaN</td>\n",
       "      <td>NaN</td>\n",
       "      <td>NaN</td>\n",
       "      <td>web_view_url:https://act.everytown.org/sign/di...</td>\n",
       "    </tr>\n",
       "    <tr>\n",
       "      <th>4</th>\n",
       "      <td>dfb3bfcd72700889fd7f579bdae86a6c11f2efdede5d78...</td>\n",
       "      <td>https://www.snap.com/political-ads/asset/a72b6...</td>\n",
       "      <td>USD</td>\n",
       "      <td>558</td>\n",
       "      <td>228469</td>\n",
       "      <td>2018-10-09 15:51:44+00:00</td>\n",
       "      <td>2018-11-07 03:00:00+00:00</td>\n",
       "      <td>Penna Powers</td>\n",
       "      <td>1706 s major street,salt lake city,84115,US</td>\n",
       "      <td>NaN</td>\n",
       "      <td>...</td>\n",
       "      <td>NaN</td>\n",
       "      <td>NaN</td>\n",
       "      <td>NaN</td>\n",
       "      <td>NaN</td>\n",
       "      <td>Provided by Advertiser</td>\n",
       "      <td>NaN</td>\n",
       "      <td>NaN</td>\n",
       "      <td>NaN</td>\n",
       "      <td>NaN</td>\n",
       "      <td>NaN</td>\n",
       "    </tr>\n",
       "  </tbody>\n",
       "</table>\n",
       "<p>5 rows × 34 columns</p>\n",
       "</div>"
      ],
      "text/plain": [
       "                                                ADID  \\\n",
       "0  6bf6eca7297551f35a5d17b478cedb6683a75c2f9b9b00...   \n",
       "1  a801fccc059ac401a54ae3bf309f3b2a22c35df0392666...   \n",
       "2  a19bd9f5379e7affc4586d26537346142cc3a8a487b3a3...   \n",
       "3  b30c9d008f67f84a14dbb79166f4f1da04d27bea85b3e4...   \n",
       "4  dfb3bfcd72700889fd7f579bdae86a6c11f2efdede5d78...   \n",
       "\n",
       "                                         CreativeUrl Currency Code  Spend  \\\n",
       "0  https://www.snap.com/political-ads/asset/27e1c...           USD   4361   \n",
       "1  https://www.snap.com/political-ads/asset/e1b1d...           USD     11   \n",
       "2  https://www.snap.com/political-ads/asset/75251...           USD    205   \n",
       "3  https://www.snap.com/political-ads/asset/60ab9...           USD    203   \n",
       "4  https://www.snap.com/political-ads/asset/a72b6...           USD    558   \n",
       "\n",
       "   Impressions                 StartDate                   EndDate  \\\n",
       "0       397340 2018-10-18 15:45:57+00:00 2018-11-06 23:00:00+00:00   \n",
       "1         3309 2018-09-25 05:00:00+00:00 2018-09-26 05:00:00+00:00   \n",
       "2        31789 2018-10-30 17:58:01+00:00 2018-11-06 22:59:59+00:00   \n",
       "3        94877 2018-09-28 20:33:08+00:00                       NaT   \n",
       "4       228469 2018-10-09 15:51:44+00:00 2018-11-07 03:00:00+00:00   \n",
       "\n",
       "           OrganizationName  \\\n",
       "0  Bully Pulpit Interactive   \n",
       "1                   ACRONYM   \n",
       "2     Mothership Strategies   \n",
       "3          Chong and Koster   \n",
       "4             Penna Powers    \n",
       "\n",
       "                                      BillingAddress  \\\n",
       "0           1445 New York Ave NW,Washington,20005,US   \n",
       "1                                                 US   \n",
       "2  1328 Florida Avenue NW, Building C, Washington...   \n",
       "3  1640 Rhode Island Ave. NW, Suite 600,Washingto...   \n",
       "4        1706 s major street,salt lake city,84115,US   \n",
       "\n",
       "  CandidateBallotInformation  ... Location Categories (Included)  \\\n",
       "0                        NaN  ...                            NaN   \n",
       "1                        NaN  ...                            NaN   \n",
       "2                        NaN  ...                            NaN   \n",
       "3                        NaN  ...                            NaN   \n",
       "4                        NaN  ...                            NaN   \n",
       "\n",
       "  Location Categories (Excluded)  \\\n",
       "0                            NaN   \n",
       "1                            NaN   \n",
       "2                            NaN   \n",
       "3                            NaN   \n",
       "4                            NaN   \n",
       "\n",
       "                                           Interests OsType  \\\n",
       "0                                                NaN    NaN   \n",
       "1  Cordcutters,Yoga Enthusiasts,Vegans & Organic ...    NaN   \n",
       "2                                                NaN    NaN   \n",
       "3                                                NaN    NaN   \n",
       "4                                                NaN    NaN   \n",
       "\n",
       "                 Segments Language AdvancedDemographics  \\\n",
       "0                     NaN      NaN                  NaN   \n",
       "1  Provided by Advertiser      NaN                  NaN   \n",
       "2                     NaN      NaN                  NaN   \n",
       "3                     NaN       en                  NaN   \n",
       "4  Provided by Advertiser      NaN                  NaN   \n",
       "\n",
       "   Targeting Connection Type Targeting Carrier (ISP)  \\\n",
       "0                        NaN                     NaN   \n",
       "1                        NaN                     NaN   \n",
       "2                        NaN                     NaN   \n",
       "3                        NaN                     NaN   \n",
       "4                        NaN                     NaN   \n",
       "\n",
       "                                  CreativeProperties  \n",
       "0                                                NaN  \n",
       "1  web_view_url:https://ourlivesourvote.com/regis...  \n",
       "2             web_view_url:http://votingmatters.org/  \n",
       "3  web_view_url:https://act.everytown.org/sign/di...  \n",
       "4                                                NaN  \n",
       "\n",
       "[5 rows x 34 columns]"
      ]
     },
     "execution_count": 38,
     "metadata": {},
     "output_type": "execute_result"
    }
   ],
   "source": [
    "# Combine and clean the data\n",
    "infro2 = os.path.join('data', 'PoliticalAds_2019.csv')\n",
    "df2 = pd.read_csv(infro2)\n",
    "infro1 = os.path.join('data','PoliticalAds_2018.csv')\n",
    "df1 = pd.read_csv(infro1)\n",
    "combined_data = pd.concat([df1,df2],axis = 0).reset_index(drop = True)\n",
    "combined_data['StartDate'] = pd.to_datetime(combined_data['StartDate'])\n",
    "combined_data['EndDate'] = pd.to_datetime(combined_data['EndDate'])\n",
    "combined_data.head()"
   ]
  },
  {
   "cell_type": "code",
   "execution_count": 39,
   "metadata": {},
   "outputs": [],
   "source": [
    "# Extract useful columns\n",
    "cleaned_data = combined_data[['Spend', 'Impressions', 'OrganizationName', 'PayingAdvertiserName']]"
   ]
  },
  {
   "cell_type": "code",
   "execution_count": 40,
   "metadata": {},
   "outputs": [],
   "source": [
    "# Regressor of Impressions and Spend\n",
    "lr = es.RandomForestRegressor()\n",
    "\n",
    "# Train-test split and fit\n",
    "X = cleaned_data[['Impressions']]\n",
    "y = cleaned_data.Spend\n",
    "X_train, X_test, y_train, y_test = train_test_split(X, y, test_size=0.25)\n",
    "f = lr.fit(X_train, y_train)"
   ]
  },
  {
   "cell_type": "code",
   "execution_count": 41,
   "metadata": {},
   "outputs": [
    {
     "data": {
      "text/plain": [
       "441.56583051055475"
      ]
     },
     "execution_count": 41,
     "metadata": {},
     "output_type": "execute_result"
    }
   ],
   "source": [
    "# Mean absolute error for train data\n",
    "pred = lr.predict(X_train)\n",
    "scr = mean_absolute_error(y_train, pred)\n",
    "scr"
   ]
  },
  {
   "cell_type": "code",
   "execution_count": 42,
   "metadata": {},
   "outputs": [
    {
     "data": {
      "text/plain": [
       "931.3384170460124"
      ]
     },
     "execution_count": 42,
     "metadata": {},
     "output_type": "execute_result"
    }
   ],
   "source": [
    "# Mean absolute error for test data\n",
    "pred_test = lr.predict(X_test)\n",
    "scr_test = mean_absolute_error(y_test, pred_test)\n",
    "scr_test"
   ]
  },
  {
   "cell_type": "code",
   "execution_count": 43,
   "metadata": {},
   "outputs": [
    {
     "data": {
      "image/png": "[encoded data removed]",
      "text/plain": [
       "<Figure size 432x288 with 1 Axes>"
      ]
     },
     "metadata": {
      "image/png": {
       "height": 248,
       "width": 394
      },
      "needs_background": "light"
     },
     "output_type": "display_data"
    }
   ],
   "source": [
    "# The scatter plot that shows the relationship between prediction and actual value\n",
    "plt.scatter(pred_test, y_test)\n",
    "plt.show()"
   ]
  },
  {
   "cell_type": "code",
   "execution_count": 44,
   "metadata": {},
   "outputs": [],
   "source": [
    "# Regressor of OrganizationName and Spend\n",
    "org_feat = Pipeline(steps=[('org', OneHotEncoder(handle_unknown = 'ignore'))])\n",
    "pl = Pipeline(steps=[('preprocessor', org_feat), ('regressor', es.RandomForestRegressor())])"
   ]
  },
  {
   "cell_type": "code",
   "execution_count": 45,
   "metadata": {},
   "outputs": [],
   "source": [
    "# Train-test split and fit\n",
    "X = cleaned_data[['OrganizationName']]\n",
    "y = cleaned_data.Spend\n",
    "X_train, X_test, y_train, y_test = train_test_split(X, y, test_size=0.25)\n",
    "f = pl.fit(X_train, y_train)"
   ]
  },
  {
   "cell_type": "code",
   "execution_count": 46,
   "metadata": {},
   "outputs": [
    {
     "data": {
      "text/plain": [
       "1298.4654716139412"
      ]
     },
     "execution_count": 46,
     "metadata": {},
     "output_type": "execute_result"
    }
   ],
   "source": [
    "# Mean absolute error for train data\n",
    "pred = pl.predict(X_train)\n",
    "scr = mean_absolute_error(y_train, pred)\n",
    "scr"
   ]
  },
  {
   "cell_type": "code",
   "execution_count": 47,
   "metadata": {},
   "outputs": [
    {
     "data": {
      "text/plain": [
       "1438.1790271549967"
      ]
     },
     "execution_count": 47,
     "metadata": {},
     "output_type": "execute_result"
    }
   ],
   "source": [
    "# Mean absolute error for test data\n",
    "pred_test = pl.predict(X_test)\n",
    "scr_test = mean_absolute_error(y_test, pred_test)\n",
    "scr_test"
   ]
  },
  {
   "cell_type": "code",
   "execution_count": 48,
   "metadata": {},
   "outputs": [
    {
     "data": {
      "image/png": "[encoded data removed]",
      "text/plain": [
       "<Figure size 432x288 with 1 Axes>"
      ]
     },
     "metadata": {
      "image/png": {
       "height": 248,
       "width": 394
      },
      "needs_background": "light"
     },
     "output_type": "display_data"
    }
   ],
   "source": [
    "# The scatter plot that shows the relationship between prediction and actual value\n",
    "plt.scatter(pred_test, y_test)\n",
    "plt.show()"
   ]
  },
  {
   "cell_type": "code",
   "execution_count": 49,
   "metadata": {},
   "outputs": [],
   "source": [
    "# Regressor of PayingAdvertiserName and Spend\n",
    "adv_feat = Pipeline(steps=[('adv', OneHotEncoder(handle_unknown = 'ignore'))])\n",
    "pl = Pipeline(steps=[('preprocessor', adv_feat), ('regressor', es.RandomForestRegressor())])"
   ]
  },
  {
   "cell_type": "code",
   "execution_count": 50,
   "metadata": {},
   "outputs": [],
   "source": [
    "# Train-test split and fit\n",
    "X = cleaned_data[['PayingAdvertiserName']]\n",
    "y = cleaned_data.Spend\n",
    "X_train, X_test, y_train, y_test = train_test_split(X, y, test_size=0.25)\n",
    "f = pl.fit(X_train, y_train)"
   ]
  },
  {
   "cell_type": "code",
   "execution_count": 51,
   "metadata": {},
   "outputs": [
    {
     "data": {
      "text/plain": [
       "1154.232057815823"
      ]
     },
     "execution_count": 51,
     "metadata": {},
     "output_type": "execute_result"
    }
   ],
   "source": [
    "# Mean absolute error for train data\n",
    "pred = pl.predict(X_train)\n",
    "scr = mean_absolute_error(y_train, pred)\n",
    "scr"
   ]
  },
  {
   "cell_type": "code",
   "execution_count": 52,
   "metadata": {},
   "outputs": [
    {
     "data": {
      "text/plain": [
       "1327.349716267221"
      ]
     },
     "execution_count": 52,
     "metadata": {},
     "output_type": "execute_result"
    }
   ],
   "source": [
    "# Mean absolute error for test data\n",
    "pred_test = pl.predict(X_test)\n",
    "scr_test = mean_absolute_error(y_test, pred_test)\n",
    "scr_test"
   ]
  },
  {
   "cell_type": "code",
   "execution_count": 53,
   "metadata": {},
   "outputs": [
    {
     "data": {
      "image/png": "[encoded data removed]",
      "text/plain": [
       "<Figure size 432x288 with 1 Axes>"
      ]
     },
     "metadata": {
      "image/png": {
       "height": 248,
       "width": 394
      },
      "needs_background": "light"
     },
     "output_type": "display_data"
    }
   ],
   "source": [
    "# The scatter plot that shows the relationship between prediction and actual value\n",
    "plt.scatter(pred_test, y_test)\n",
    "plt.show()"
   ]
  },
  {
   "cell_type": "markdown",
   "metadata": {},
   "source": [
    "From the mean absolute errors and scatter plots of the above three predictions, we could see that the errors are pretty large; these are not good predictions."
   ]
  },
  {
   "cell_type": "code",
   "execution_count": 54,
   "metadata": {},
   "outputs": [],
   "source": [
    "# Combination of three features\n",
    "impr = ['Impressions']\n",
    "impr_trans = Pipeline(steps=[('impr-trans', pp.StandardScaler())])\n",
    "org = ['OrganizationName']\n",
    "org_trans = Pipeline(steps=[('org-trans', OneHotEncoder(handle_unknown = 'ignore'))])\n",
    "adver = ['PayingAdvertiserName']\n",
    "adver_trans = Pipeline(steps=[('adver-trans', OneHotEncoder(handle_unknown = 'ignore'))])\n",
    "preproc = ColumnTransformer(transformers=[('impr', impr_trans, impr), ('org', org_trans, org), ('adver', adver_trans, adver)])\n",
    "pl = Pipeline(steps=[('preprocessor', preproc), ('regressor', es.RandomForestRegressor())])"
   ]
  },
  {
   "cell_type": "code",
   "execution_count": 55,
   "metadata": {},
   "outputs": [],
   "source": [
    "# Train-test split and fit\n",
    "X = cleaned_data[['Impressions', 'OrganizationName', 'PayingAdvertiserName']]\n",
    "y = cleaned_data.Spend\n",
    "X_train, X_test, y_train, y_test = train_test_split(X, y, test_size=0.25)\n",
    "f = pl.fit(X_train, y_train)"
   ]
  },
  {
   "cell_type": "code",
   "execution_count": 56,
   "metadata": {},
   "outputs": [
    {
     "data": {
      "text/plain": [
       "277.39358004195117"
      ]
     },
     "execution_count": 56,
     "metadata": {},
     "output_type": "execute_result"
    }
   ],
   "source": [
    "# Mean absolute error for train data\n",
    "pred = pl.predict(X_train)\n",
    "scr = mean_absolute_error(y_train, pred)\n",
    "scr"
   ]
  },
  {
   "cell_type": "code",
   "execution_count": 57,
   "metadata": {},
   "outputs": [
    {
     "data": {
      "text/plain": [
       "616.2291303387334"
      ]
     },
     "execution_count": 57,
     "metadata": {},
     "output_type": "execute_result"
    }
   ],
   "source": [
    "# Mean absolute error for test data\n",
    "pred_test = pl.predict(X_test)\n",
    "scr_test = mean_absolute_error(y_test, pred_test)\n",
    "scr_test"
   ]
  },
  {
   "cell_type": "code",
   "execution_count": 58,
   "metadata": {},
   "outputs": [
    {
     "data": {
      "image/png": "[encoded data removed]",
      "text/plain": [
       "<Figure size 432x288 with 1 Axes>"
      ]
     },
     "metadata": {
      "image/png": {
       "height": 248,
       "width": 388
      },
      "needs_background": "light"
     },
     "output_type": "display_data"
    }
   ],
   "source": [
    "# The scatter plot that shows the relationship between prediction and actual value\n",
    "plt.scatter(pred_test, y_test)\n",
    "plt.show()"
   ]
  },
  {
   "cell_type": "markdown",
   "metadata": {},
   "source": [
    "From the mean absolute errors and scatter plots of the last prediction, we could see that the result improve, but still not satisfactory. The baseline model is not good."
   ]
  },
  {
   "cell_type": "markdown",
   "metadata": {},
   "source": [
    "### Final Model"
   ]
  },
  {
   "cell_type": "markdown",
   "metadata": {},
   "source": [
    "Feature engineering for **StartDate**"
   ]
  },
  {
   "cell_type": "code",
   "execution_count": 59,
   "metadata": {},
   "outputs": [
    {
     "name": "stderr",
     "output_type": "stream",
     "text": [
      "/Users/zhumingjia/opt/anaconda3/lib/python3.7/site-packages/pandas/core/arrays/datetimes.py:1102: UserWarning: Converting to PeriodArray/Index representation will drop timezone information.\n",
      "  UserWarning,\n"
     ]
    }
   ],
   "source": [
    "# Convert StartDate to YYYY-MM in order to figure out the impact of the starting year and month of the ads\n",
    "date = combined_data['StartDate'].dt.to_period('M')\n",
    "combined_data['Start_year_and_month'] = date"
   ]
  },
  {
   "cell_type": "markdown",
   "metadata": {},
   "source": [
    "Feature engineering for **CountryCode**"
   ]
  },
  {
   "cell_type": "code",
   "execution_count": 60,
   "metadata": {},
   "outputs": [],
   "source": [
    "north_america = ['united states', 'canada']\n",
    "south_america = ['chile', 'argentina', 'brazil', 'puerto rico']\n",
    "europe = ['united kingdom', 'denmark', 'sweden', 'netherlands', 'norway', 'ireland', 'switzerland', 'france', 'belgium', 'finland', 'austria', 'poland', 'lithuania','germany']\n",
    "africa = ['nigeria', 'south africa']\n",
    "oceania_australia = ['australia', 'new zealand']\n",
    "asia = ['iraq', 'kuwait', 'united arab emirates', 'india', 'turkey']"
   ]
  },
  {
   "cell_type": "code",
   "execution_count": 61,
   "metadata": {},
   "outputs": [],
   "source": [
    "# Replace the country names with the continents they belong to\n",
    "def get_conti(c):\n",
    "    if c in asia:\n",
    "        return \"Asia\"\n",
    "    elif c in europe:\n",
    "        return \"Europe\"\n",
    "    elif c in africa:\n",
    "        return \"Africa\"\n",
    "    elif c in oceania_australia:\n",
    "        return \"Oceania/Australia\"\n",
    "    elif c in north_america:\n",
    "        return \"North America\"\n",
    "    elif c in south_america:\n",
    "        return \"South America\""
   ]
  },
  {
   "cell_type": "code",
   "execution_count": 62,
   "metadata": {},
   "outputs": [],
   "source": [
    "# Insert the result into combined_data\n",
    "combined_data['Continent'] = combined_data['CountryCode'].apply(lambda x: get_conti(x))"
   ]
  },
  {
   "cell_type": "markdown",
   "metadata": {},
   "source": [
    "Feature engineering for **AgeBracket**"
   ]
  },
  {
   "cell_type": "code",
   "execution_count": 63,
   "metadata": {},
   "outputs": [],
   "source": [
    "# extract \"AgeBrack\" column from combined_data\n",
    "ages = combined_data['AgeBracket']\n",
    "\n",
    "# define a helper function to clean the data\n",
    "def helper_age(age):\n",
    "    if str(age)[-1] == '-':\n",
    "        return np.nan\n",
    "    return age\n",
    "\n",
    "# Remove the values that only contain the maximum of age\n",
    "ages = ages.apply(helper_age)\n",
    "\n",
    "# Get all of the minimums of ages\n",
    "ages = ages.apply(lambda x: (int(str(x)[:2]) if x is not np.nan else x))\n",
    "\n",
    "# Get mean\n",
    "age_mean = ages.mean()\n",
    "\n",
    "# Imputation using mean\n",
    "s = pd.Series([age_mean] * len(ages))\n",
    "ages = ages.fillna(s)\n",
    "\n",
    "# Add ages to original dataframe\n",
    "combined_data['Age_min'] = ages"
   ]
  },
  {
   "cell_type": "code",
   "execution_count": 64,
   "metadata": {},
   "outputs": [
    {
     "data": {
      "text/html": [
       "<div>\n",
       "<style scoped>\n",
       "    .dataframe tbody tr th:only-of-type {\n",
       "        vertical-align: middle;\n",
       "    }\n",
       "\n",
       "    .dataframe tbody tr th {\n",
       "        vertical-align: top;\n",
       "    }\n",
       "\n",
       "    .dataframe thead th {\n",
       "        text-align: right;\n",
       "    }\n",
       "</style>\n",
       "<table border=\"1\" class=\"dataframe\">\n",
       "  <thead>\n",
       "    <tr style=\"text-align: right;\">\n",
       "      <th></th>\n",
       "      <th>Start_year_and_month</th>\n",
       "      <th>Continent</th>\n",
       "      <th>Age_min</th>\n",
       "    </tr>\n",
       "  </thead>\n",
       "  <tbody>\n",
       "    <tr>\n",
       "      <th>0</th>\n",
       "      <td>2018-10</td>\n",
       "      <td>North America</td>\n",
       "      <td>18.000000</td>\n",
       "    </tr>\n",
       "    <tr>\n",
       "      <th>1</th>\n",
       "      <td>2018-09</td>\n",
       "      <td>North America</td>\n",
       "      <td>18.000000</td>\n",
       "    </tr>\n",
       "    <tr>\n",
       "      <th>2</th>\n",
       "      <td>2018-10</td>\n",
       "      <td>North America</td>\n",
       "      <td>18.000000</td>\n",
       "    </tr>\n",
       "    <tr>\n",
       "      <th>3</th>\n",
       "      <td>2018-09</td>\n",
       "      <td>North America</td>\n",
       "      <td>18.603304</td>\n",
       "    </tr>\n",
       "    <tr>\n",
       "      <th>4</th>\n",
       "      <td>2018-10</td>\n",
       "      <td>North America</td>\n",
       "      <td>18.000000</td>\n",
       "    </tr>\n",
       "  </tbody>\n",
       "</table>\n",
       "</div>"
      ],
      "text/plain": [
       "  Start_year_and_month      Continent    Age_min\n",
       "0              2018-10  North America  18.000000\n",
       "1              2018-09  North America  18.000000\n",
       "2              2018-10  North America  18.000000\n",
       "3              2018-09  North America  18.603304\n",
       "4              2018-10  North America  18.000000"
      ]
     },
     "execution_count": 64,
     "metadata": {},
     "output_type": "execute_result"
    }
   ],
   "source": [
    "# Dataframe after the feature engineerings\n",
    "combined_data[['Start_year_and_month', 'Continent', 'Age_min']].head()"
   ]
  },
  {
   "cell_type": "markdown",
   "metadata": {},
   "source": [
    "Predict the spend by **Currency Code**, **Impressions**, **OrganizationName**, and **PayingAdvertiserName**"
   ]
  },
  {
   "cell_type": "code",
   "execution_count": 65,
   "metadata": {},
   "outputs": [
    {
     "data": {
      "text/html": [
       "<div>\n",
       "<style scoped>\n",
       "    .dataframe tbody tr th:only-of-type {\n",
       "        vertical-align: middle;\n",
       "    }\n",
       "\n",
       "    .dataframe tbody tr th {\n",
       "        vertical-align: top;\n",
       "    }\n",
       "\n",
       "    .dataframe thead th {\n",
       "        text-align: right;\n",
       "    }\n",
       "</style>\n",
       "<table border=\"1\" class=\"dataframe\">\n",
       "  <thead>\n",
       "    <tr style=\"text-align: right;\">\n",
       "      <th></th>\n",
       "      <th>Currency Code</th>\n",
       "      <th>Spend</th>\n",
       "      <th>Impressions</th>\n",
       "      <th>OrganizationName</th>\n",
       "      <th>PayingAdvertiserName</th>\n",
       "    </tr>\n",
       "  </thead>\n",
       "  <tbody>\n",
       "    <tr>\n",
       "      <th>0</th>\n",
       "      <td>USD</td>\n",
       "      <td>4361</td>\n",
       "      <td>397340</td>\n",
       "      <td>Bully Pulpit Interactive</td>\n",
       "      <td>NextGen America</td>\n",
       "    </tr>\n",
       "    <tr>\n",
       "      <th>1</th>\n",
       "      <td>USD</td>\n",
       "      <td>11</td>\n",
       "      <td>3309</td>\n",
       "      <td>ACRONYM</td>\n",
       "      <td>Our Lives Our Vote</td>\n",
       "    </tr>\n",
       "    <tr>\n",
       "      <th>2</th>\n",
       "      <td>USD</td>\n",
       "      <td>205</td>\n",
       "      <td>31789</td>\n",
       "      <td>Mothership Strategies</td>\n",
       "      <td>Progressive Turnout Project</td>\n",
       "    </tr>\n",
       "    <tr>\n",
       "      <th>3</th>\n",
       "      <td>USD</td>\n",
       "      <td>203</td>\n",
       "      <td>94877</td>\n",
       "      <td>Chong and Koster</td>\n",
       "      <td>Everytown for Gun Safety AF</td>\n",
       "    </tr>\n",
       "    <tr>\n",
       "      <th>4</th>\n",
       "      <td>USD</td>\n",
       "      <td>558</td>\n",
       "      <td>228469</td>\n",
       "      <td>Penna Powers</td>\n",
       "      <td>Lieutenant Governor's Office</td>\n",
       "    </tr>\n",
       "  </tbody>\n",
       "</table>\n",
       "</div>"
      ],
      "text/plain": [
       "  Currency Code  Spend  Impressions          OrganizationName  \\\n",
       "0           USD   4361       397340  Bully Pulpit Interactive   \n",
       "1           USD     11         3309                   ACRONYM   \n",
       "2           USD    205        31789     Mothership Strategies   \n",
       "3           USD    203        94877          Chong and Koster   \n",
       "4           USD    558       228469             Penna Powers    \n",
       "\n",
       "           PayingAdvertiserName  \n",
       "0               NextGen America  \n",
       "1            Our Lives Our Vote  \n",
       "2   Progressive Turnout Project  \n",
       "3   Everytown for Gun Safety AF  \n",
       "4  Lieutenant Governor's Office  "
      ]
     },
     "execution_count": 65,
     "metadata": {},
     "output_type": "execute_result"
    }
   ],
   "source": [
    "# Extract useful columns\n",
    "cleaned1 = combined_data[['Currency Code', 'Spend', 'Impressions', 'OrganizationName', 'PayingAdvertiserName']]\n",
    "cleaned1.head()"
   ]
  },
  {
   "cell_type": "code",
   "execution_count": 66,
   "metadata": {},
   "outputs": [],
   "source": [
    "# Perform one-hot encoding on Currency Code column\n",
    "currency = ['Currency Code']\n",
    "curr_trans = Pipeline(steps=[('curr-trans', OneHotEncoder(handle_unknown='ignore'))])\n",
    "\n",
    "# Z-scale the Impressions\n",
    "impr = ['Impressions']\n",
    "impr_trans = Pipeline(steps=[('impr-trans', pp.StandardScaler())])\n",
    "\n",
    "# Perform one-hot encoding on OrganizationName column\n",
    "org = ['OrganizationName']\n",
    "org_trans = Pipeline(steps=[('org-trans', OneHotEncoder(handle_unknown='ignore'))])\n",
    "\n",
    "# Perform one-hot encoding on PayingAdvertiserName column\n",
    "adver = ['PayingAdvertiserName']\n",
    "adver_trans = Pipeline(steps=[('adver-trans', OneHotEncoder(handle_unknown='ignore'))])\n",
    "\n",
    "# Putting them together\n",
    "preproc1 = ColumnTransformer(transformers=[('curr', curr_trans, currency), ('impr', impr_trans, impr), ('org', org_trans, org), ('adver', adver_trans, adver)])\n",
    "pl1 = Pipeline(steps=[('preprocessor', preproc1), ('regressor', es.RandomForestRegressor())])"
   ]
  },
  {
   "cell_type": "code",
   "execution_count": 67,
   "metadata": {},
   "outputs": [],
   "source": [
    "# Make Prediction\n",
    "X1 = cleaned1.drop('Spend', axis=1)\n",
    "y1 = cleaned1.Spend\n",
    "\n",
    "# Train-test split and fit\n",
    "X_train1, X_test1, y_train1, y_test1 = train_test_split(X1, y1, test_size=0.25)\n",
    "f1 = pl1.fit(X_train1, y_train1)"
   ]
  },
  {
   "cell_type": "code",
   "execution_count": 68,
   "metadata": {},
   "outputs": [
    {
     "data": {
      "text/plain": [
       "282.45109340830993"
      ]
     },
     "execution_count": 68,
     "metadata": {},
     "output_type": "execute_result"
    }
   ],
   "source": [
    "# Mean absolute error for train data\n",
    "pred1 = pl1.predict(X_train1)\n",
    "scr1 = mean_absolute_error(y_train1, pred1)\n",
    "scr1"
   ]
  },
  {
   "cell_type": "code",
   "execution_count": 69,
   "metadata": {},
   "outputs": [
    {
     "data": {
      "text/plain": [
       "769.7238987816307"
      ]
     },
     "execution_count": 69,
     "metadata": {},
     "output_type": "execute_result"
    }
   ],
   "source": [
    "# Mean absolute error for test data\n",
    "pred_test1 = pl1.predict(X_test1)\n",
    "scr_test1 = mean_absolute_error(y_test1, pred_test1)\n",
    "scr_test1\n",
    "# This error is lower than the error of baseline model. So Currency Code could improve prediction"
   ]
  },
  {
   "cell_type": "markdown",
   "metadata": {},
   "source": [
    "Predict the spend by **Start_year_and_month**, **Impressions**, **OrganizationName**, and **PayingAdvertiserName**"
   ]
  },
  {
   "cell_type": "code",
   "execution_count": 70,
   "metadata": {},
   "outputs": [
    {
     "data": {
      "text/html": [
       "<div>\n",
       "<style scoped>\n",
       "    .dataframe tbody tr th:only-of-type {\n",
       "        vertical-align: middle;\n",
       "    }\n",
       "\n",
       "    .dataframe tbody tr th {\n",
       "        vertical-align: top;\n",
       "    }\n",
       "\n",
       "    .dataframe thead th {\n",
       "        text-align: right;\n",
       "    }\n",
       "</style>\n",
       "<table border=\"1\" class=\"dataframe\">\n",
       "  <thead>\n",
       "    <tr style=\"text-align: right;\">\n",
       "      <th></th>\n",
       "      <th>Spend</th>\n",
       "      <th>Impressions</th>\n",
       "      <th>Start_year_and_month</th>\n",
       "      <th>OrganizationName</th>\n",
       "      <th>PayingAdvertiserName</th>\n",
       "    </tr>\n",
       "  </thead>\n",
       "  <tbody>\n",
       "    <tr>\n",
       "      <th>0</th>\n",
       "      <td>4361</td>\n",
       "      <td>397340</td>\n",
       "      <td>2018-10</td>\n",
       "      <td>Bully Pulpit Interactive</td>\n",
       "      <td>NextGen America</td>\n",
       "    </tr>\n",
       "    <tr>\n",
       "      <th>1</th>\n",
       "      <td>11</td>\n",
       "      <td>3309</td>\n",
       "      <td>2018-09</td>\n",
       "      <td>ACRONYM</td>\n",
       "      <td>Our Lives Our Vote</td>\n",
       "    </tr>\n",
       "    <tr>\n",
       "      <th>2</th>\n",
       "      <td>205</td>\n",
       "      <td>31789</td>\n",
       "      <td>2018-10</td>\n",
       "      <td>Mothership Strategies</td>\n",
       "      <td>Progressive Turnout Project</td>\n",
       "    </tr>\n",
       "    <tr>\n",
       "      <th>3</th>\n",
       "      <td>203</td>\n",
       "      <td>94877</td>\n",
       "      <td>2018-09</td>\n",
       "      <td>Chong and Koster</td>\n",
       "      <td>Everytown for Gun Safety AF</td>\n",
       "    </tr>\n",
       "    <tr>\n",
       "      <th>4</th>\n",
       "      <td>558</td>\n",
       "      <td>228469</td>\n",
       "      <td>2018-10</td>\n",
       "      <td>Penna Powers</td>\n",
       "      <td>Lieutenant Governor's Office</td>\n",
       "    </tr>\n",
       "  </tbody>\n",
       "</table>\n",
       "</div>"
      ],
      "text/plain": [
       "   Spend  Impressions Start_year_and_month          OrganizationName  \\\n",
       "0   4361       397340              2018-10  Bully Pulpit Interactive   \n",
       "1     11         3309              2018-09                   ACRONYM   \n",
       "2    205        31789              2018-10     Mothership Strategies   \n",
       "3    203        94877              2018-09          Chong and Koster   \n",
       "4    558       228469              2018-10             Penna Powers    \n",
       "\n",
       "           PayingAdvertiserName  \n",
       "0               NextGen America  \n",
       "1            Our Lives Our Vote  \n",
       "2   Progressive Turnout Project  \n",
       "3   Everytown for Gun Safety AF  \n",
       "4  Lieutenant Governor's Office  "
      ]
     },
     "execution_count": 70,
     "metadata": {},
     "output_type": "execute_result"
    }
   ],
   "source": [
    "# Extract useful columns\n",
    "cleaned2 = combined_data[['Spend', 'Impressions', 'Start_year_and_month', 'OrganizationName', 'PayingAdvertiserName']]\n",
    "cleaned2.head()"
   ]
  },
  {
   "cell_type": "code",
   "execution_count": 71,
   "metadata": {},
   "outputs": [],
   "source": [
    "# Perform one-hot encoding on Start_year_and_month column\n",
    "date = ['Start_year_and_month']\n",
    "date_trans = Pipeline(steps=[('date-trans', OneHotEncoder(handle_unknown='ignore'))])"
   ]
  },
  {
   "cell_type": "code",
   "execution_count": 72,
   "metadata": {},
   "outputs": [],
   "source": [
    "# Putting them together\n",
    "preproc2 = ColumnTransformer(transformers=[('date', date_trans, date), ('impr', impr_trans, impr), ('org', org_trans, org), ('adver', adver_trans, adver)])\n",
    "pl2 = Pipeline(steps=[('preprocessor', preproc2), ('regressor', es.RandomForestRegressor())])"
   ]
  },
  {
   "cell_type": "code",
   "execution_count": 73,
   "metadata": {},
   "outputs": [],
   "source": [
    "# Make Prediction\n",
    "X2 = cleaned2.drop('Spend', axis=1)\n",
    "y2 = cleaned2.Spend\n",
    "\n",
    "# Train-test split and fit\n",
    "X_train2, X_test2, y_train2, y_test2 = train_test_split(X2, y2, test_size=0.25)\n",
    "f2 = pl2.fit(X_train2, y_train2)"
   ]
  },
  {
   "cell_type": "code",
   "execution_count": 74,
   "metadata": {},
   "outputs": [
    {
     "data": {
      "text/plain": [
       "232.06175287484567"
      ]
     },
     "execution_count": 74,
     "metadata": {},
     "output_type": "execute_result"
    }
   ],
   "source": [
    "# Mean absolute error for train data\n",
    "pred2 = pl2.predict(X_train2)\n",
    "scr2 = mean_absolute_error(y_train2, pred2)\n",
    "scr2"
   ]
  },
  {
   "cell_type": "code",
   "execution_count": 75,
   "metadata": {},
   "outputs": [
    {
     "data": {
      "text/plain": [
       "1006.7394703217745"
      ]
     },
     "execution_count": 75,
     "metadata": {},
     "output_type": "execute_result"
    }
   ],
   "source": [
    "# Mean absolute error for test data\n",
    "pred_test2 = pl2.predict(X_test2)\n",
    "scr_test2 = mean_absolute_error(y_test2, pred_test2)\n",
    "scr_test2\n",
    "# This error is lower than the error of baseline model. So start_year_and_month could improve prediction"
   ]
  },
  {
   "cell_type": "markdown",
   "metadata": {},
   "source": [
    "Predict the spend by **Age_min**, **Impressions**, **OrganizationName**, and **PayingAdvertiserName**"
   ]
  },
  {
   "cell_type": "code",
   "execution_count": 76,
   "metadata": {},
   "outputs": [
    {
     "data": {
      "text/html": [
       "<div>\n",
       "<style scoped>\n",
       "    .dataframe tbody tr th:only-of-type {\n",
       "        vertical-align: middle;\n",
       "    }\n",
       "\n",
       "    .dataframe tbody tr th {\n",
       "        vertical-align: top;\n",
       "    }\n",
       "\n",
       "    .dataframe thead th {\n",
       "        text-align: right;\n",
       "    }\n",
       "</style>\n",
       "<table border=\"1\" class=\"dataframe\">\n",
       "  <thead>\n",
       "    <tr style=\"text-align: right;\">\n",
       "      <th></th>\n",
       "      <th>Age_min</th>\n",
       "      <th>Impressions</th>\n",
       "      <th>Spend</th>\n",
       "      <th>OrganizationName</th>\n",
       "      <th>PayingAdvertiserName</th>\n",
       "    </tr>\n",
       "  </thead>\n",
       "  <tbody>\n",
       "    <tr>\n",
       "      <th>0</th>\n",
       "      <td>18.000000</td>\n",
       "      <td>397340</td>\n",
       "      <td>4361</td>\n",
       "      <td>Bully Pulpit Interactive</td>\n",
       "      <td>NextGen America</td>\n",
       "    </tr>\n",
       "    <tr>\n",
       "      <th>1</th>\n",
       "      <td>18.000000</td>\n",
       "      <td>3309</td>\n",
       "      <td>11</td>\n",
       "      <td>ACRONYM</td>\n",
       "      <td>Our Lives Our Vote</td>\n",
       "    </tr>\n",
       "    <tr>\n",
       "      <th>2</th>\n",
       "      <td>18.000000</td>\n",
       "      <td>31789</td>\n",
       "      <td>205</td>\n",
       "      <td>Mothership Strategies</td>\n",
       "      <td>Progressive Turnout Project</td>\n",
       "    </tr>\n",
       "    <tr>\n",
       "      <th>3</th>\n",
       "      <td>18.603304</td>\n",
       "      <td>94877</td>\n",
       "      <td>203</td>\n",
       "      <td>Chong and Koster</td>\n",
       "      <td>Everytown for Gun Safety AF</td>\n",
       "    </tr>\n",
       "    <tr>\n",
       "      <th>4</th>\n",
       "      <td>18.000000</td>\n",
       "      <td>228469</td>\n",
       "      <td>558</td>\n",
       "      <td>Penna Powers</td>\n",
       "      <td>Lieutenant Governor's Office</td>\n",
       "    </tr>\n",
       "  </tbody>\n",
       "</table>\n",
       "</div>"
      ],
      "text/plain": [
       "     Age_min  Impressions  Spend          OrganizationName  \\\n",
       "0  18.000000       397340   4361  Bully Pulpit Interactive   \n",
       "1  18.000000         3309     11                   ACRONYM   \n",
       "2  18.000000        31789    205     Mothership Strategies   \n",
       "3  18.603304        94877    203          Chong and Koster   \n",
       "4  18.000000       228469    558             Penna Powers    \n",
       "\n",
       "           PayingAdvertiserName  \n",
       "0               NextGen America  \n",
       "1            Our Lives Our Vote  \n",
       "2   Progressive Turnout Project  \n",
       "3   Everytown for Gun Safety AF  \n",
       "4  Lieutenant Governor's Office  "
      ]
     },
     "execution_count": 76,
     "metadata": {},
     "output_type": "execute_result"
    }
   ],
   "source": [
    "# Extract useful columns\n",
    "cleaned3 = combined_data[['Age_min', 'Impressions', 'Spend', 'OrganizationName', 'PayingAdvertiserName']]\n",
    "cleaned3.head()"
   ]
  },
  {
   "cell_type": "code",
   "execution_count": 77,
   "metadata": {},
   "outputs": [],
   "source": [
    "# put them together using columntransformer\n",
    "preproc3 = ColumnTransformer(transformers=[('impr', impr_trans, impr), ('org', org_trans, org), ('adver', adver_trans, adver)])\n",
    "pl3 = Pipeline(steps=[('preprocessor', preproc3), ('regressor', es.RandomForestRegressor())])"
   ]
  },
  {
   "cell_type": "code",
   "execution_count": 78,
   "metadata": {},
   "outputs": [],
   "source": [
    "# Make Prediction\n",
    "X3 = cleaned3.drop('Spend', axis=1)\n",
    "y3 = cleaned3.Spend\n",
    "\n",
    "# Train-test split and fit\n",
    "X_train3, X_test3, y_train3, y_test3 = train_test_split(X3, y3, test_size=0.25)\n",
    "f3 = pl3.fit(X_train3, y_train3)"
   ]
  },
  {
   "cell_type": "code",
   "execution_count": 79,
   "metadata": {},
   "outputs": [
    {
     "data": {
      "text/plain": [
       "300.4167249817765"
      ]
     },
     "execution_count": 79,
     "metadata": {},
     "output_type": "execute_result"
    }
   ],
   "source": [
    "# Mean absolute error for train data\n",
    "pred3 = pl3.predict(X_train3)\n",
    "scr3 = mean_absolute_error(y_train3, pred3)\n",
    "scr3"
   ]
  },
  {
   "cell_type": "code",
   "execution_count": 80,
   "metadata": {},
   "outputs": [
    {
     "data": {
      "text/plain": [
       "651.478384879725"
      ]
     },
     "execution_count": 80,
     "metadata": {},
     "output_type": "execute_result"
    }
   ],
   "source": [
    "# Mean absolute error for test data\n",
    "pred_test3 = pl3.predict(X_test3)\n",
    "scr_test3 = mean_absolute_error(y_test3, pred_test3)\n",
    "scr_test3\n",
    "# This error is larger than the error of baseline model. So age_min cannot improve prediction"
   ]
  },
  {
   "cell_type": "markdown",
   "metadata": {},
   "source": [
    "Predict the spend by **Gender**, **Impressions**, **OrganizationName**, and **PayingAdvertiserName**"
   ]
  },
  {
   "cell_type": "code",
   "execution_count": 81,
   "metadata": {},
   "outputs": [
    {
     "data": {
      "text/html": [
       "<div>\n",
       "<style scoped>\n",
       "    .dataframe tbody tr th:only-of-type {\n",
       "        vertical-align: middle;\n",
       "    }\n",
       "\n",
       "    .dataframe tbody tr th {\n",
       "        vertical-align: top;\n",
       "    }\n",
       "\n",
       "    .dataframe thead th {\n",
       "        text-align: right;\n",
       "    }\n",
       "</style>\n",
       "<table border=\"1\" class=\"dataframe\">\n",
       "  <thead>\n",
       "    <tr style=\"text-align: right;\">\n",
       "      <th></th>\n",
       "      <th>ADID</th>\n",
       "      <th>CreativeUrl</th>\n",
       "      <th>Currency Code</th>\n",
       "      <th>Spend</th>\n",
       "      <th>Impressions</th>\n",
       "      <th>StartDate</th>\n",
       "      <th>EndDate</th>\n",
       "      <th>OrganizationName</th>\n",
       "      <th>BillingAddress</th>\n",
       "      <th>CandidateBallotInformation</th>\n",
       "      <th>...</th>\n",
       "      <th>OsType</th>\n",
       "      <th>Segments</th>\n",
       "      <th>Language</th>\n",
       "      <th>AdvancedDemographics</th>\n",
       "      <th>Targeting Connection Type</th>\n",
       "      <th>Targeting Carrier (ISP)</th>\n",
       "      <th>CreativeProperties</th>\n",
       "      <th>Start_year_and_month</th>\n",
       "      <th>Continent</th>\n",
       "      <th>Age_min</th>\n",
       "    </tr>\n",
       "  </thead>\n",
       "  <tbody>\n",
       "    <tr>\n",
       "      <th>0</th>\n",
       "      <td>6bf6eca7297551f35a5d17b478cedb6683a75c2f9b9b00...</td>\n",
       "      <td>https://www.snap.com/political-ads/asset/27e1c...</td>\n",
       "      <td>USD</td>\n",
       "      <td>4361</td>\n",
       "      <td>397340</td>\n",
       "      <td>2018-10-18 15:45:57+00:00</td>\n",
       "      <td>2018-11-06 23:00:00+00:00</td>\n",
       "      <td>Bully Pulpit Interactive</td>\n",
       "      <td>1445 New York Ave NW,Washington,20005,US</td>\n",
       "      <td>NaN</td>\n",
       "      <td>...</td>\n",
       "      <td>NaN</td>\n",
       "      <td>NaN</td>\n",
       "      <td>NaN</td>\n",
       "      <td>NaN</td>\n",
       "      <td>NaN</td>\n",
       "      <td>NaN</td>\n",
       "      <td>NaN</td>\n",
       "      <td>2018-10</td>\n",
       "      <td>North America</td>\n",
       "      <td>18.000000</td>\n",
       "    </tr>\n",
       "    <tr>\n",
       "      <th>1</th>\n",
       "      <td>a801fccc059ac401a54ae3bf309f3b2a22c35df0392666...</td>\n",
       "      <td>https://www.snap.com/political-ads/asset/e1b1d...</td>\n",
       "      <td>USD</td>\n",
       "      <td>11</td>\n",
       "      <td>3309</td>\n",
       "      <td>2018-09-25 05:00:00+00:00</td>\n",
       "      <td>2018-09-26 05:00:00+00:00</td>\n",
       "      <td>ACRONYM</td>\n",
       "      <td>US</td>\n",
       "      <td>NaN</td>\n",
       "      <td>...</td>\n",
       "      <td>NaN</td>\n",
       "      <td>Provided by Advertiser</td>\n",
       "      <td>NaN</td>\n",
       "      <td>NaN</td>\n",
       "      <td>NaN</td>\n",
       "      <td>NaN</td>\n",
       "      <td>web_view_url:https://ourlivesourvote.com/regis...</td>\n",
       "      <td>2018-09</td>\n",
       "      <td>North America</td>\n",
       "      <td>18.000000</td>\n",
       "    </tr>\n",
       "    <tr>\n",
       "      <th>2</th>\n",
       "      <td>a19bd9f5379e7affc4586d26537346142cc3a8a487b3a3...</td>\n",
       "      <td>https://www.snap.com/political-ads/asset/75251...</td>\n",
       "      <td>USD</td>\n",
       "      <td>205</td>\n",
       "      <td>31789</td>\n",
       "      <td>2018-10-30 17:58:01+00:00</td>\n",
       "      <td>2018-11-06 22:59:59+00:00</td>\n",
       "      <td>Mothership Strategies</td>\n",
       "      <td>1328 Florida Avenue NW, Building C, Washington...</td>\n",
       "      <td>NaN</td>\n",
       "      <td>...</td>\n",
       "      <td>NaN</td>\n",
       "      <td>NaN</td>\n",
       "      <td>NaN</td>\n",
       "      <td>NaN</td>\n",
       "      <td>NaN</td>\n",
       "      <td>NaN</td>\n",
       "      <td>web_view_url:http://votingmatters.org/</td>\n",
       "      <td>2018-10</td>\n",
       "      <td>North America</td>\n",
       "      <td>18.000000</td>\n",
       "    </tr>\n",
       "    <tr>\n",
       "      <th>3</th>\n",
       "      <td>b30c9d008f67f84a14dbb79166f4f1da04d27bea85b3e4...</td>\n",
       "      <td>https://www.snap.com/political-ads/asset/60ab9...</td>\n",
       "      <td>USD</td>\n",
       "      <td>203</td>\n",
       "      <td>94877</td>\n",
       "      <td>2018-09-28 20:33:08+00:00</td>\n",
       "      <td>NaT</td>\n",
       "      <td>Chong and Koster</td>\n",
       "      <td>1640 Rhode Island Ave. NW, Suite 600,Washingto...</td>\n",
       "      <td>NaN</td>\n",
       "      <td>...</td>\n",
       "      <td>NaN</td>\n",
       "      <td>NaN</td>\n",
       "      <td>en</td>\n",
       "      <td>NaN</td>\n",
       "      <td>NaN</td>\n",
       "      <td>NaN</td>\n",
       "      <td>web_view_url:https://act.everytown.org/sign/di...</td>\n",
       "      <td>2018-09</td>\n",
       "      <td>North America</td>\n",
       "      <td>18.603304</td>\n",
       "    </tr>\n",
       "    <tr>\n",
       "      <th>4</th>\n",
       "      <td>dfb3bfcd72700889fd7f579bdae86a6c11f2efdede5d78...</td>\n",
       "      <td>https://www.snap.com/political-ads/asset/a72b6...</td>\n",
       "      <td>USD</td>\n",
       "      <td>558</td>\n",
       "      <td>228469</td>\n",
       "      <td>2018-10-09 15:51:44+00:00</td>\n",
       "      <td>2018-11-07 03:00:00+00:00</td>\n",
       "      <td>Penna Powers</td>\n",
       "      <td>1706 s major street,salt lake city,84115,US</td>\n",
       "      <td>NaN</td>\n",
       "      <td>...</td>\n",
       "      <td>NaN</td>\n",
       "      <td>Provided by Advertiser</td>\n",
       "      <td>NaN</td>\n",
       "      <td>NaN</td>\n",
       "      <td>NaN</td>\n",
       "      <td>NaN</td>\n",
       "      <td>NaN</td>\n",
       "      <td>2018-10</td>\n",
       "      <td>North America</td>\n",
       "      <td>18.000000</td>\n",
       "    </tr>\n",
       "  </tbody>\n",
       "</table>\n",
       "<p>5 rows × 37 columns</p>\n",
       "</div>"
      ],
      "text/plain": [
       "                                                ADID  \\\n",
       "0  6bf6eca7297551f35a5d17b478cedb6683a75c2f9b9b00...   \n",
       "1  a801fccc059ac401a54ae3bf309f3b2a22c35df0392666...   \n",
       "2  a19bd9f5379e7affc4586d26537346142cc3a8a487b3a3...   \n",
       "3  b30c9d008f67f84a14dbb79166f4f1da04d27bea85b3e4...   \n",
       "4  dfb3bfcd72700889fd7f579bdae86a6c11f2efdede5d78...   \n",
       "\n",
       "                                         CreativeUrl Currency Code  Spend  \\\n",
       "0  https://www.snap.com/political-ads/asset/27e1c...           USD   4361   \n",
       "1  https://www.snap.com/political-ads/asset/e1b1d...           USD     11   \n",
       "2  https://www.snap.com/political-ads/asset/75251...           USD    205   \n",
       "3  https://www.snap.com/political-ads/asset/60ab9...           USD    203   \n",
       "4  https://www.snap.com/political-ads/asset/a72b6...           USD    558   \n",
       "\n",
       "   Impressions                 StartDate                   EndDate  \\\n",
       "0       397340 2018-10-18 15:45:57+00:00 2018-11-06 23:00:00+00:00   \n",
       "1         3309 2018-09-25 05:00:00+00:00 2018-09-26 05:00:00+00:00   \n",
       "2        31789 2018-10-30 17:58:01+00:00 2018-11-06 22:59:59+00:00   \n",
       "3        94877 2018-09-28 20:33:08+00:00                       NaT   \n",
       "4       228469 2018-10-09 15:51:44+00:00 2018-11-07 03:00:00+00:00   \n",
       "\n",
       "           OrganizationName  \\\n",
       "0  Bully Pulpit Interactive   \n",
       "1                   ACRONYM   \n",
       "2     Mothership Strategies   \n",
       "3          Chong and Koster   \n",
       "4             Penna Powers    \n",
       "\n",
       "                                      BillingAddress  \\\n",
       "0           1445 New York Ave NW,Washington,20005,US   \n",
       "1                                                 US   \n",
       "2  1328 Florida Avenue NW, Building C, Washington...   \n",
       "3  1640 Rhode Island Ave. NW, Suite 600,Washingto...   \n",
       "4        1706 s major street,salt lake city,84115,US   \n",
       "\n",
       "  CandidateBallotInformation  ... OsType                Segments Language  \\\n",
       "0                        NaN  ...    NaN                     NaN      NaN   \n",
       "1                        NaN  ...    NaN  Provided by Advertiser      NaN   \n",
       "2                        NaN  ...    NaN                     NaN      NaN   \n",
       "3                        NaN  ...    NaN                     NaN       en   \n",
       "4                        NaN  ...    NaN  Provided by Advertiser      NaN   \n",
       "\n",
       "  AdvancedDemographics Targeting Connection Type Targeting Carrier (ISP)  \\\n",
       "0                  NaN                       NaN                     NaN   \n",
       "1                  NaN                       NaN                     NaN   \n",
       "2                  NaN                       NaN                     NaN   \n",
       "3                  NaN                       NaN                     NaN   \n",
       "4                  NaN                       NaN                     NaN   \n",
       "\n",
       "                                  CreativeProperties  Start_year_and_month  \\\n",
       "0                                                NaN               2018-10   \n",
       "1  web_view_url:https://ourlivesourvote.com/regis...               2018-09   \n",
       "2             web_view_url:http://votingmatters.org/               2018-10   \n",
       "3  web_view_url:https://act.everytown.org/sign/di...               2018-09   \n",
       "4                                                NaN               2018-10   \n",
       "\n",
       "       Continent    Age_min  \n",
       "0  North America  18.000000  \n",
       "1  North America  18.000000  \n",
       "2  North America  18.000000  \n",
       "3  North America  18.603304  \n",
       "4  North America  18.000000  \n",
       "\n",
       "[5 rows x 37 columns]"
      ]
     },
     "execution_count": 81,
     "metadata": {},
     "output_type": "execute_result"
    }
   ],
   "source": [
    "# First fill all NaNs with 'All genders'\n",
    "combined_data['Gender'] = combined_data['Gender'].replace(np.nan, 'All genders')\n",
    "combined_data.head()"
   ]
  },
  {
   "cell_type": "code",
   "execution_count": 82,
   "metadata": {},
   "outputs": [
    {
     "data": {
      "text/html": [
       "<div>\n",
       "<style scoped>\n",
       "    .dataframe tbody tr th:only-of-type {\n",
       "        vertical-align: middle;\n",
       "    }\n",
       "\n",
       "    .dataframe tbody tr th {\n",
       "        vertical-align: top;\n",
       "    }\n",
       "\n",
       "    .dataframe thead th {\n",
       "        text-align: right;\n",
       "    }\n",
       "</style>\n",
       "<table border=\"1\" class=\"dataframe\">\n",
       "  <thead>\n",
       "    <tr style=\"text-align: right;\">\n",
       "      <th></th>\n",
       "      <th>Spend</th>\n",
       "      <th>Impressions</th>\n",
       "      <th>Gender</th>\n",
       "      <th>OrganizationName</th>\n",
       "      <th>PayingAdvertiserName</th>\n",
       "    </tr>\n",
       "  </thead>\n",
       "  <tbody>\n",
       "    <tr>\n",
       "      <th>0</th>\n",
       "      <td>4361</td>\n",
       "      <td>397340</td>\n",
       "      <td>All genders</td>\n",
       "      <td>Bully Pulpit Interactive</td>\n",
       "      <td>NextGen America</td>\n",
       "    </tr>\n",
       "    <tr>\n",
       "      <th>1</th>\n",
       "      <td>11</td>\n",
       "      <td>3309</td>\n",
       "      <td>All genders</td>\n",
       "      <td>ACRONYM</td>\n",
       "      <td>Our Lives Our Vote</td>\n",
       "    </tr>\n",
       "    <tr>\n",
       "      <th>2</th>\n",
       "      <td>205</td>\n",
       "      <td>31789</td>\n",
       "      <td>All genders</td>\n",
       "      <td>Mothership Strategies</td>\n",
       "      <td>Progressive Turnout Project</td>\n",
       "    </tr>\n",
       "    <tr>\n",
       "      <th>3</th>\n",
       "      <td>203</td>\n",
       "      <td>94877</td>\n",
       "      <td>All genders</td>\n",
       "      <td>Chong and Koster</td>\n",
       "      <td>Everytown for Gun Safety AF</td>\n",
       "    </tr>\n",
       "    <tr>\n",
       "      <th>4</th>\n",
       "      <td>558</td>\n",
       "      <td>228469</td>\n",
       "      <td>All genders</td>\n",
       "      <td>Penna Powers</td>\n",
       "      <td>Lieutenant Governor's Office</td>\n",
       "    </tr>\n",
       "  </tbody>\n",
       "</table>\n",
       "</div>"
      ],
      "text/plain": [
       "   Spend  Impressions       Gender          OrganizationName  \\\n",
       "0   4361       397340  All genders  Bully Pulpit Interactive   \n",
       "1     11         3309  All genders                   ACRONYM   \n",
       "2    205        31789  All genders     Mothership Strategies   \n",
       "3    203        94877  All genders          Chong and Koster   \n",
       "4    558       228469  All genders             Penna Powers    \n",
       "\n",
       "           PayingAdvertiserName  \n",
       "0               NextGen America  \n",
       "1            Our Lives Our Vote  \n",
       "2   Progressive Turnout Project  \n",
       "3   Everytown for Gun Safety AF  \n",
       "4  Lieutenant Governor's Office  "
      ]
     },
     "execution_count": 82,
     "metadata": {},
     "output_type": "execute_result"
    }
   ],
   "source": [
    "# Extract useful columns\n",
    "cleaned4 = combined_data[['Spend', 'Impressions', 'Gender', 'OrganizationName', 'PayingAdvertiserName']]\n",
    "cleaned4.head()"
   ]
  },
  {
   "cell_type": "code",
   "execution_count": 83,
   "metadata": {},
   "outputs": [],
   "source": [
    "# Perform one-hot encoding on Gender column\n",
    "gender = ['Gender']\n",
    "gender_trans = Pipeline(steps=[('gender-trans', OneHotEncoder(handle_unknown='ignore'))])"
   ]
  },
  {
   "cell_type": "code",
   "execution_count": 84,
   "metadata": {},
   "outputs": [],
   "source": [
    "# Putting them together\n",
    "preproc4 = ColumnTransformer(transformers=[('gender', gender_trans, gender), ('impr', impr_trans, impr), ('org', org_trans, org), ('adver', adver_trans, adver)])\n",
    "pl4 = Pipeline(steps=[('preprocessor', preproc4), ('regressor', es.RandomForestRegressor())])"
   ]
  },
  {
   "cell_type": "code",
   "execution_count": 85,
   "metadata": {},
   "outputs": [],
   "source": [
    "# Make Prediction\n",
    "X4 = cleaned4.drop('Spend', axis=1)\n",
    "y4 = cleaned4.Spend\n",
    "\n",
    "# Train-test split and fit\n",
    "X_train4, X_test4, y_train4, y_test4 = train_test_split(X4, y4, test_size=0.25)\n",
    "f4 = pl4.fit(X_train4, y_train4)"
   ]
  },
  {
   "cell_type": "code",
   "execution_count": 86,
   "metadata": {},
   "outputs": [
    {
     "data": {
      "text/plain": [
       "279.6758934856667"
      ]
     },
     "execution_count": 86,
     "metadata": {},
     "output_type": "execute_result"
    }
   ],
   "source": [
    "# Mean absolute error for train data\n",
    "pred4 = pl4.predict(X_train4)\n",
    "scr4 = mean_absolute_error(y_train4, pred4)\n",
    "scr4"
   ]
  },
  {
   "cell_type": "code",
   "execution_count": 87,
   "metadata": {},
   "outputs": [
    {
     "data": {
      "text/plain": [
       "911.7929519346632"
      ]
     },
     "execution_count": 87,
     "metadata": {},
     "output_type": "execute_result"
    }
   ],
   "source": [
    "# Mean absolute error for test data\n",
    "pred_test4 = pl4.predict(X_test4)\n",
    "scr_test4 = mean_absolute_error(y_test4, pred_test4)\n",
    "scr_test4\n",
    "# This error is larger than the error of baseline model. So Gender cannot improve prediction"
   ]
  },
  {
   "cell_type": "markdown",
   "metadata": {},
   "source": [
    "Predict the spend by **Continent**, **Impressions**, **OrganizationName**, and **PayingAdvertiserName**"
   ]
  },
  {
   "cell_type": "code",
   "execution_count": 88,
   "metadata": {},
   "outputs": [
    {
     "data": {
      "text/html": [
       "<div>\n",
       "<style scoped>\n",
       "    .dataframe tbody tr th:only-of-type {\n",
       "        vertical-align: middle;\n",
       "    }\n",
       "\n",
       "    .dataframe tbody tr th {\n",
       "        vertical-align: top;\n",
       "    }\n",
       "\n",
       "    .dataframe thead th {\n",
       "        text-align: right;\n",
       "    }\n",
       "</style>\n",
       "<table border=\"1\" class=\"dataframe\">\n",
       "  <thead>\n",
       "    <tr style=\"text-align: right;\">\n",
       "      <th></th>\n",
       "      <th>Spend</th>\n",
       "      <th>Impressions</th>\n",
       "      <th>Continent</th>\n",
       "      <th>OrganizationName</th>\n",
       "      <th>PayingAdvertiserName</th>\n",
       "    </tr>\n",
       "  </thead>\n",
       "  <tbody>\n",
       "    <tr>\n",
       "      <th>0</th>\n",
       "      <td>4361</td>\n",
       "      <td>397340</td>\n",
       "      <td>North America</td>\n",
       "      <td>Bully Pulpit Interactive</td>\n",
       "      <td>NextGen America</td>\n",
       "    </tr>\n",
       "    <tr>\n",
       "      <th>1</th>\n",
       "      <td>11</td>\n",
       "      <td>3309</td>\n",
       "      <td>North America</td>\n",
       "      <td>ACRONYM</td>\n",
       "      <td>Our Lives Our Vote</td>\n",
       "    </tr>\n",
       "    <tr>\n",
       "      <th>2</th>\n",
       "      <td>205</td>\n",
       "      <td>31789</td>\n",
       "      <td>North America</td>\n",
       "      <td>Mothership Strategies</td>\n",
       "      <td>Progressive Turnout Project</td>\n",
       "    </tr>\n",
       "    <tr>\n",
       "      <th>3</th>\n",
       "      <td>203</td>\n",
       "      <td>94877</td>\n",
       "      <td>North America</td>\n",
       "      <td>Chong and Koster</td>\n",
       "      <td>Everytown for Gun Safety AF</td>\n",
       "    </tr>\n",
       "    <tr>\n",
       "      <th>4</th>\n",
       "      <td>558</td>\n",
       "      <td>228469</td>\n",
       "      <td>North America</td>\n",
       "      <td>Penna Powers</td>\n",
       "      <td>Lieutenant Governor's Office</td>\n",
       "    </tr>\n",
       "  </tbody>\n",
       "</table>\n",
       "</div>"
      ],
      "text/plain": [
       "   Spend  Impressions      Continent          OrganizationName  \\\n",
       "0   4361       397340  North America  Bully Pulpit Interactive   \n",
       "1     11         3309  North America                   ACRONYM   \n",
       "2    205        31789  North America     Mothership Strategies   \n",
       "3    203        94877  North America          Chong and Koster   \n",
       "4    558       228469  North America             Penna Powers    \n",
       "\n",
       "           PayingAdvertiserName  \n",
       "0               NextGen America  \n",
       "1            Our Lives Our Vote  \n",
       "2   Progressive Turnout Project  \n",
       "3   Everytown for Gun Safety AF  \n",
       "4  Lieutenant Governor's Office  "
      ]
     },
     "execution_count": 88,
     "metadata": {},
     "output_type": "execute_result"
    }
   ],
   "source": [
    "# Extract useful columns\n",
    "cleaned5 = combined_data[['Spend', 'Impressions', 'Continent', 'OrganizationName', 'PayingAdvertiserName']]\n",
    "cleaned5.head()"
   ]
  },
  {
   "cell_type": "code",
   "execution_count": 89,
   "metadata": {},
   "outputs": [],
   "source": [
    "# One-hot encoding for continent\n",
    "conti = ['Continent']\n",
    "cont_trans = Pipeline(steps=[('cont-trans', OneHotEncoder(handle_unknown='ignore'))])"
   ]
  },
  {
   "cell_type": "code",
   "execution_count": 90,
   "metadata": {},
   "outputs": [],
   "source": [
    "# Putting them together\n",
    "preproc5 = ColumnTransformer(transformers=[('cont', cont_trans, conti), ('impr', impr_trans, impr), ('org', org_trans, org), ('adver', adver_trans, adver)])\n",
    "pl5 = Pipeline(steps=[('preprocessor', preproc5), ('regressor', es.RandomForestRegressor())])"
   ]
  },
  {
   "cell_type": "code",
   "execution_count": 91,
   "metadata": {},
   "outputs": [],
   "source": [
    "# Make Prediction\n",
    "X5 = cleaned5.drop('Spend', axis=1)\n",
    "y5 = cleaned5.Spend\n",
    "\n",
    "# Train-test split and fit\n",
    "X_train5, X_test5, y_train5, y_test5 = train_test_split(X5, y5, test_size=0.25)\n",
    "f5 = pl5.fit(X_train5, y_train5)"
   ]
  },
  {
   "cell_type": "code",
   "execution_count": 92,
   "metadata": {},
   "outputs": [
    {
     "data": {
      "text/plain": [
       "268.16185202540873"
      ]
     },
     "execution_count": 92,
     "metadata": {},
     "output_type": "execute_result"
    }
   ],
   "source": [
    "# Mean absolute error for train data\n",
    "pred5 = pl5.predict(X_train5)\n",
    "scr5 = mean_absolute_error(y_train5, pred5)\n",
    "scr5"
   ]
  },
  {
   "cell_type": "code",
   "execution_count": 93,
   "metadata": {},
   "outputs": [
    {
     "data": {
      "text/plain": [
       "1079.006887222743"
      ]
     },
     "execution_count": 93,
     "metadata": {},
     "output_type": "execute_result"
    }
   ],
   "source": [
    "# Mean absolute error for test data\n",
    "pred_test5 = pl5.predict(X_test5)\n",
    "scr_test5 = mean_absolute_error(y_test5, pred_test5)\n",
    "scr_test5\n",
    "# This error is lower than the error of baseline model. So continent improves prediction"
   ]
  },
  {
   "cell_type": "markdown",
   "metadata": {},
   "source": [
    "Predict the spend by **Currency Code**, **Continent**, **Start_year_and_month**, **Impressions**, **OrganizationName**, and **PayingAdvertiserName**"
   ]
  },
  {
   "cell_type": "code",
   "execution_count": 94,
   "metadata": {},
   "outputs": [
    {
     "data": {
      "text/html": [
       "<div>\n",
       "<style scoped>\n",
       "    .dataframe tbody tr th:only-of-type {\n",
       "        vertical-align: middle;\n",
       "    }\n",
       "\n",
       "    .dataframe tbody tr th {\n",
       "        vertical-align: top;\n",
       "    }\n",
       "\n",
       "    .dataframe thead th {\n",
       "        text-align: right;\n",
       "    }\n",
       "</style>\n",
       "<table border=\"1\" class=\"dataframe\">\n",
       "  <thead>\n",
       "    <tr style=\"text-align: right;\">\n",
       "      <th></th>\n",
       "      <th>Currency Code</th>\n",
       "      <th>Spend</th>\n",
       "      <th>Impressions</th>\n",
       "      <th>Start_year_and_month</th>\n",
       "      <th>OrganizationName</th>\n",
       "      <th>PayingAdvertiserName</th>\n",
       "      <th>Continent</th>\n",
       "    </tr>\n",
       "  </thead>\n",
       "  <tbody>\n",
       "    <tr>\n",
       "      <th>0</th>\n",
       "      <td>USD</td>\n",
       "      <td>4361</td>\n",
       "      <td>397340</td>\n",
       "      <td>2018-10</td>\n",
       "      <td>Bully Pulpit Interactive</td>\n",
       "      <td>NextGen America</td>\n",
       "      <td>North America</td>\n",
       "    </tr>\n",
       "    <tr>\n",
       "      <th>1</th>\n",
       "      <td>USD</td>\n",
       "      <td>11</td>\n",
       "      <td>3309</td>\n",
       "      <td>2018-09</td>\n",
       "      <td>ACRONYM</td>\n",
       "      <td>Our Lives Our Vote</td>\n",
       "      <td>North America</td>\n",
       "    </tr>\n",
       "    <tr>\n",
       "      <th>2</th>\n",
       "      <td>USD</td>\n",
       "      <td>205</td>\n",
       "      <td>31789</td>\n",
       "      <td>2018-10</td>\n",
       "      <td>Mothership Strategies</td>\n",
       "      <td>Progressive Turnout Project</td>\n",
       "      <td>North America</td>\n",
       "    </tr>\n",
       "    <tr>\n",
       "      <th>3</th>\n",
       "      <td>USD</td>\n",
       "      <td>203</td>\n",
       "      <td>94877</td>\n",
       "      <td>2018-09</td>\n",
       "      <td>Chong and Koster</td>\n",
       "      <td>Everytown for Gun Safety AF</td>\n",
       "      <td>North America</td>\n",
       "    </tr>\n",
       "    <tr>\n",
       "      <th>4</th>\n",
       "      <td>USD</td>\n",
       "      <td>558</td>\n",
       "      <td>228469</td>\n",
       "      <td>2018-10</td>\n",
       "      <td>Penna Powers</td>\n",
       "      <td>Lieutenant Governor's Office</td>\n",
       "      <td>North America</td>\n",
       "    </tr>\n",
       "  </tbody>\n",
       "</table>\n",
       "</div>"
      ],
      "text/plain": [
       "  Currency Code  Spend  Impressions Start_year_and_month  \\\n",
       "0           USD   4361       397340              2018-10   \n",
       "1           USD     11         3309              2018-09   \n",
       "2           USD    205        31789              2018-10   \n",
       "3           USD    203        94877              2018-09   \n",
       "4           USD    558       228469              2018-10   \n",
       "\n",
       "           OrganizationName          PayingAdvertiserName      Continent  \n",
       "0  Bully Pulpit Interactive               NextGen America  North America  \n",
       "1                   ACRONYM            Our Lives Our Vote  North America  \n",
       "2     Mothership Strategies   Progressive Turnout Project  North America  \n",
       "3          Chong and Koster   Everytown for Gun Safety AF  North America  \n",
       "4             Penna Powers   Lieutenant Governor's Office  North America  "
      ]
     },
     "execution_count": 94,
     "metadata": {},
     "output_type": "execute_result"
    }
   ],
   "source": [
    "# Extract useful columns\n",
    "cleaned6 = combined_data[['Currency Code', 'Spend', 'Impressions', 'Start_year_and_month', 'OrganizationName', 'PayingAdvertiserName', 'Continent']]\n",
    "cleaned6.head()"
   ]
  },
  {
   "cell_type": "code",
   "execution_count": 95,
   "metadata": {},
   "outputs": [],
   "source": [
    "# Putting them together\n",
    "preproc6 = ColumnTransformer(transformers=[('cont', cont_trans, conti),('curr', curr_trans, currency), ('impr', impr_trans, impr), ('org', org_trans, org), ('adver', adver_trans, adver), ('date', date_trans, date)])\n",
    "pl6 = Pipeline(steps=[('preprocessor', preproc6), ('regressor', es.RandomForestRegressor())])"
   ]
  },
  {
   "cell_type": "code",
   "execution_count": 96,
   "metadata": {},
   "outputs": [],
   "source": [
    "# Make Prediction\n",
    "X6 = cleaned6.drop('Spend', axis=1)\n",
    "y6 = cleaned6.Spend\n",
    "\n",
    "# Train-test split and fit\n",
    "X_train6, X_test6, y_train6, y_test6 = train_test_split(X6, y6, test_size=0.25)\n",
    "f6 = pl6.fit(X_train6, y_train6)"
   ]
  },
  {
   "cell_type": "code",
   "execution_count": 97,
   "metadata": {},
   "outputs": [
    {
     "data": {
      "text/plain": [
       "286.54126491721337"
      ]
     },
     "execution_count": 97,
     "metadata": {},
     "output_type": "execute_result"
    }
   ],
   "source": [
    "# Mean absolute error for train data\n",
    "pred6 = pl6.predict(X_train6)\n",
    "scr6 = mean_absolute_error(y_train6, pred6)\n",
    "scr6"
   ]
  },
  {
   "cell_type": "code",
   "execution_count": 98,
   "metadata": {},
   "outputs": [
    {
     "data": {
      "text/plain": [
       "612.5931971258982"
      ]
     },
     "execution_count": 98,
     "metadata": {},
     "output_type": "execute_result"
    }
   ],
   "source": [
    "# Mean absolute error for test data\n",
    "pred_test6 = pl6.predict(X_test6)\n",
    "scr_test6 = mean_absolute_error(y_test6, pred_test6)\n",
    "scr_test6"
   ]
  },
  {
   "cell_type": "markdown",
   "metadata": {},
   "source": [
    "The last model has the lowest mean absolute error, so we use it as our final model."
   ]
  },
  {
   "cell_type": "markdown",
   "metadata": {},
   "source": [
    "### Fairness Evaluation"
   ]
  },
  {
   "cell_type": "code",
   "execution_count": 99,
   "metadata": {},
   "outputs": [],
   "source": [
    "# Split data into two groups based on impressions\n",
    "combined_data['is_large'] = (combined_data.Impressions <= 75000).replace({True:'small', False:'large'})"
   ]
  },
  {
   "cell_type": "code",
   "execution_count": 100,
   "metadata": {},
   "outputs": [
    {
     "data": {
      "text/plain": [
       "array([3.33660e+03, 1.13300e+01, 1.70550e+02, ..., 1.00000e-02,\n",
       "       5.94000e+01, 3.20038e+03])"
      ]
     },
     "execution_count": 100,
     "metadata": {},
     "output_type": "execute_result"
    }
   ],
   "source": [
    "# Use final model to make predictions\n",
    "prediction = pl6.predict(X6)\n",
    "prediction"
   ]
  },
  {
   "cell_type": "code",
   "execution_count": 101,
   "metadata": {},
   "outputs": [],
   "source": [
    "# Add a column contains predictions\n",
    "combined_data['prediction'] = prediction"
   ]
  },
  {
   "cell_type": "code",
   "execution_count": 102,
   "metadata": {},
   "outputs": [
    {
     "data": {
      "text/html": [
       "<div>\n",
       "<style scoped>\n",
       "    .dataframe tbody tr th:only-of-type {\n",
       "        vertical-align: middle;\n",
       "    }\n",
       "\n",
       "    .dataframe tbody tr th {\n",
       "        vertical-align: top;\n",
       "    }\n",
       "\n",
       "    .dataframe thead th {\n",
       "        text-align: right;\n",
       "    }\n",
       "</style>\n",
       "<table border=\"1\" class=\"dataframe\">\n",
       "  <thead>\n",
       "    <tr style=\"text-align: right;\">\n",
       "      <th></th>\n",
       "      <th>r2_score</th>\n",
       "    </tr>\n",
       "    <tr>\n",
       "      <th>is_large</th>\n",
       "      <th></th>\n",
       "    </tr>\n",
       "  </thead>\n",
       "  <tbody>\n",
       "    <tr>\n",
       "      <th>large</th>\n",
       "      <td>0.939391</td>\n",
       "    </tr>\n",
       "    <tr>\n",
       "      <th>small</th>\n",
       "      <td>0.857546</td>\n",
       "    </tr>\n",
       "  </tbody>\n",
       "</table>\n",
       "</div>"
      ],
      "text/plain": [
       "          r2_score\n",
       "is_large          \n",
       "large     0.939391\n",
       "small     0.857546"
      ]
     },
     "execution_count": 102,
     "metadata": {},
     "output_type": "execute_result"
    }
   ],
   "source": [
    "# r-2 score for two groups\n",
    "(\n",
    "    combined_data\n",
    "    .groupby('is_large')\n",
    "    .apply(lambda x: metrics.r2_score(x.Spend, x.prediction))\n",
    "    .rename('r2_score')\n",
    "    .to_frame()\n",
    ")"
   ]
  },
  {
   "cell_type": "code",
   "execution_count": 103,
   "metadata": {},
   "outputs": [],
   "source": [
    "# Permutation test\n",
    "obs = combined_data.groupby('is_large').apply(lambda x: metrics.r2_score(x.Spend, x.prediction)).diff().iloc[-1]\n",
    "\n",
    "metrs = []\n",
    "for _ in range(1000):\n",
    "    s = (\n",
    "        combined_data[['is_large', 'prediction', 'Spend']]\n",
    "        .assign(is_large=combined_data.is_large.sample(frac=1.0, replace=False).reset_index(drop=True))\n",
    "        .groupby('is_large')\n",
    "        .apply(lambda x: metrics.r2_score(x.Spend, x.prediction))\n",
    "        .diff()\n",
    "        .iloc[-1]\n",
    "    )\n",
    "    \n",
    "    metrs.append(s)\n"
   ]
  },
  {
   "cell_type": "code",
   "execution_count": 104,
   "metadata": {},
   "outputs": [
    {
     "name": "stdout",
     "output_type": "stream",
     "text": [
      "0.072\n"
     ]
    },
    {
     "data": {
      "image/png": "[encoded data removed]",
      "text/plain": [
       "<Figure size 432x288 with 1 Axes>"
      ]
     },
     "metadata": {
      "image/png": {
       "height": 263,
       "width": 392
      },
      "needs_background": "light"
     },
     "output_type": "display_data"
    }
   ],
   "source": [
    "print(pd.Series(metrs <= obs).mean())\n",
    "pd.Series(metrs).plot(kind='hist', title='Permutation Test for r2-scores across large/small groups')\n",
    "plt.scatter(obs, 0, c='r');"
   ]
  },
  {
   "cell_type": "markdown",
   "metadata": {},
   "source": [
    "Therefore, we cannot reject the null hypothesis. The distributions of r2-scores for large and small groups are similar."
   ]
  },
  {
   "cell_type": "code",
   "execution_count": null,
   "metadata": {},
   "outputs": [],
   "source": []
  }
 ],
 "metadata": {
  "kernelspec": {
   "display_name": "Python 3",
   "language": "python",
   "name": "python3"
  },
  "language_info": {
   "codemirror_mode": {
    "name": "ipython",
    "version": 3
   },
   "file_extension": ".py",
   "mimetype": "text/x-python",
   "name": "python",
   "nbconvert_exporter": "python",
   "pygments_lexer": "ipython3",
   "version": "3.7.6"
  }
 },
 "nbformat": 4,
 "nbformat_minor": 4
}
